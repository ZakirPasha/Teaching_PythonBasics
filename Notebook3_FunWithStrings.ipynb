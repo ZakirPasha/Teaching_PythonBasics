{
 "cells": [
  {
   "cell_type": "markdown",
   "metadata": {
    "colab_type": "text",
    "id": "mAkDjoQV4uiS"
   },
   "source": [
    "<h1><p style=\"text-align: center;\">Notebook 3. Fun with Strings</p></h1>\n"
   ]
  },
  {
   "cell_type": "markdown",
   "metadata": {
    "colab_type": "text",
    "id": "uCZSzj9v4uiT"
   },
   "source": [
    "Welcome to Notebook 3! Here are some important notes from Notebook 2:\n",
    "\n",
    "- You learned about the **input()** function! This makes code way more interactive. You can customize what you want to ask the user for a better user experience.\n",
    "\n",
    "\n",
    "- You also learned how to assign this input to a **variable**. This way, you can reference that variable in other code or use the **print()** function to print out the output.\n",
    "\n",
    "\n",
    "- Anything entered in the **input** function is a **string**! This is a super important concept for Notebook 3!\n",
    "\n",
    "\n",
    "- We also had fun not only creating custom questions using the **input()** function, but creating custom printing using the **print()** function."
   ]
  },
  {
   "cell_type": "markdown",
   "metadata": {
    "colab_type": "text",
    "id": "_6f64d1T4uiT"
   },
   "source": [
    "<h1> 3.2 Fun with Strings </h1>"
   ]
  },
  {
   "cell_type": "markdown",
   "metadata": {
    "colab_type": "text",
    "id": "fyRU-QFr4uiU"
   },
   "source": [
    "As stated earlier and in the previous notebook, the **input()** function holds any input as a string! It does not matter whether you enter a integer or float"
   ]
  },
  {
   "cell_type": "markdown",
   "metadata": {
    "colab_type": "text",
    "id": "0tz8Amws4uiV"
   },
   "source": [
    "Let me show you again:"
   ]
  },
  {
   "cell_type": "code",
   "execution_count": null,
   "metadata": {
    "colab": {},
    "colab_type": "code",
    "id": "Oxl35c944uiV"
   },
   "outputs": [],
   "source": [
    "#Run Me! And enter a integer or float in the text box.\n",
    "A = input()"
   ]
  },
  {
   "cell_type": "code",
   "execution_count": null,
   "metadata": {
    "colab": {},
    "colab_type": "code",
    "id": "rfiYves34uiY"
   },
   "outputs": [],
   "source": [
    "#Run Me!\n",
    "print(type(A))"
   ]
  },
  {
   "cell_type": "markdown",
   "metadata": {
    "colab_type": "text",
    "id": "K7UKcqfi4uic"
   },
   "source": [
    "Even though you entered a number in the text box, the input function still considers this a string."
   ]
  },
  {
   "cell_type": "markdown",
   "metadata": {
    "colab_type": "text",
    "id": "kC3CBlNE4uic"
   },
   "source": [
    "<h2> 3.2.1 Prep the Input (string) </h2>"
   ]
  },
  {
   "cell_type": "markdown",
   "metadata": {
    "colab_type": "text",
    "id": "binHyWr94uid"
   },
   "source": [
    "So Zakir, we figured out how to get a input from a user. Now what? \n",
    "\n",
    "\n",
    "Wellllll we're missing one big step before we can use that input for anything..."
   ]
  },
  {
   "cell_type": "markdown",
   "metadata": {
    "colab_type": "text",
    "id": "m0XypxOP4uie"
   },
   "source": [
    "![ChessUrl](https://media1.tenor.com/images/358e6068a5ec0ba18ab3cc540e3bf8bc/tenor.gif?itemid=4586626)"
   ]
  },
  {
   "cell_type": "markdown",
   "metadata": {
    "colab_type": "text",
    "id": "6HLnd3Vs4uie"
   },
   "source": [
    "Let me show you:"
   ]
  },
  {
   "cell_type": "code",
   "execution_count": null,
   "metadata": {
    "colab": {},
    "colab_type": "code",
    "id": "HABqIqrk4uif"
   },
   "outputs": [],
   "source": [
    "#Run Me!\n",
    "question = input(\"When you think of Bill Gates, you think of this company: \")"
   ]
  },
  {
   "cell_type": "markdown",
   "metadata": {
    "colab_type": "text",
    "id": "l_Dvx3Av4uii"
   },
   "source": [
    "You probably (hopefully) answered the question above as Microsoft...\n",
    "\n",
    "or did you type in microsoft.....\n",
    "\n",
    "or did you type in MICROSOFT....."
   ]
  },
  {
   "cell_type": "markdown",
   "metadata": {
    "colab_type": "text",
    "id": "Rn34N5hd4uii"
   },
   "source": [
    "<h3> What I'm trying to show here is that when you ask a user for their input, they can type it in using different punctuation.\n",
    "\n",
    "\n",
    "<br>\n",
    "<br>\n",
    "Computer language is very sensitive when it comes to capitalization. </h3>\n"
   ]
  },
  {
   "cell_type": "markdown",
   "metadata": {
    "colab_type": "text",
    "id": "O-RqJRiD4uik"
   },
   "source": [
    "![ChessUrl](https://media.giphy.com/media/fWgdQGsrCsU4NoQ6D9/giphy.gif)"
   ]
  },
  {
   "cell_type": "markdown",
   "metadata": {
    "colab_type": "text",
    "id": "IyP4IqVs4uil"
   },
   "source": [
    "For the example above:\n",
    "    \n",
    "    Microsoft is not the same as microsoft\n",
    "    microsoft is not the same as Microsoft\n",
    "    MICROSOFT is not the same as Microsoft\n",
    "    MICROSOFT is not the same as microsoft\n",
    "    \n",
    "More examples:\n",
    "\n",
    "    a is not the same as A\n",
    "    B is not the same as b\n",
    "    C is not the same as c"
   ]
  },
  {
   "cell_type": "markdown",
   "metadata": {
    "colab_type": "text",
    "id": "KNeYopNv4uim"
   },
   "source": [
    "<h3><p style=\"text-align: center;\"> Real Life Example: </p></h3>\n",
    "<br>\n",
    "Have you ever taken an online quiz or test and type in a answer as:\n",
    "    \n",
    "**false**\n",
    "\n",
    "but the computer marked you wrong and said the correct answer was:\n",
    "\n",
    "**False**\n",
    "\n",
    "\n",
    "This is why we're going to practice doing this!"
   ]
  },
  {
   "cell_type": "markdown",
   "metadata": {
    "colab_type": "text",
    "id": "JO5hCYxY4uim"
   },
   "source": [
    "For better use in future projects, we need to take the input, put it in a **standardized format** so our function/loop can recognize it over and over again."
   ]
  },
  {
   "cell_type": "markdown",
   "metadata": {
    "colab_type": "text",
    "id": "P6vkCwY04uim"
   },
   "source": [
    "\"Um, Zakir. What does that sentence even mean?\""
   ]
  },
  {
   "cell_type": "markdown",
   "metadata": {
    "colab_type": "text",
    "id": "71Fu8BRT4uim"
   },
   "source": [
    "When we go through writing a function that's a bit advanced, we need the input to be the same capitalization every time or else the computer will be confused."
   ]
  },
  {
   "cell_type": "markdown",
   "metadata": {
    "colab_type": "text",
    "id": "q5WEiZv14uin"
   },
   "source": [
    "There's three ways we can **standardize** formats:\n",
    "\n",
    "    Change all letters to lower case\n",
    "    Change all letters to uppercase\n",
    "    Change the first letter to capital and the rest to lower case\n",
    "    \n",
    "    \n",
    "*There are many other ways, these are the basics*"
   ]
  },
  {
   "cell_type": "markdown",
   "metadata": {
    "colab_type": "text",
    "id": "-GCJuCUZ4uio"
   },
   "source": [
    "Here are examples of all three in action."
   ]
  },
  {
   "cell_type": "code",
   "execution_count": null,
   "metadata": {
    "colab": {},
    "colab_type": "code",
    "id": "uIeea1iD4uip"
   },
   "outputs": [],
   "source": [
    "#Lower Case\n",
    "#Run Me! Then type your answer in any format you want\n",
    "ex1 = input(\"When you think of Bill Gates, you think of this company:  \")\n",
    "ex1 = ex1.lower()\n",
    "print(ex1)"
   ]
  },
  {
   "cell_type": "markdown",
   "metadata": {
    "colab_type": "text",
    "id": "BEPPT6194uis"
   },
   "source": [
    "1. In the cell above, you type in your answer and it is stored as the variable called **ex1**.\n",
    "2. We then use **ex1 = ex1.lower()** to convert every letter in this string to lower case.\n",
    "3. We then print the variable and see that the answer came out in all lower case."
   ]
  },
  {
   "cell_type": "code",
   "execution_count": null,
   "metadata": {
    "colab": {},
    "colab_type": "code",
    "id": "lh_ZqCFl4uis"
   },
   "outputs": [],
   "source": [
    "#Upper Case\n",
    "#Run Me! Then type your answer in any format you want\n",
    "ex2 = input(\"When you think of Bill Gates, you think of this company:  \")\n",
    "ex2 = ex2.upper()\n",
    "print(ex2)"
   ]
  },
  {
   "cell_type": "markdown",
   "metadata": {
    "colab_type": "text",
    "id": "ufnOj8MZ4uiw"
   },
   "source": [
    "1. In the cell above, you type in your answer and it is stored as the variable called **ex2**.\n",
    "2. We then use **ex2 = ex2.upper()** to convert every letter in this string to upper case.\n",
    "3. We then print the variable and see that the answer came out in all upper case."
   ]
  },
  {
   "cell_type": "code",
   "execution_count": null,
   "metadata": {
    "colab": {},
    "colab_type": "code",
    "id": "lufkrQTE4uix"
   },
   "outputs": [],
   "source": [
    "#Title Case\n",
    "#Run Me! Then type your answer in any format you want\n",
    "ex3 = input(\"When you think of Bill Gates, you think of this company:  \")\n",
    "ex3 = ex3.title()\n",
    "print(ex3)"
   ]
  },
  {
   "cell_type": "markdown",
   "metadata": {
    "colab_type": "text",
    "id": "xFDJbk5i4ui0"
   },
   "source": [
    "1. In the cell above, you type in your answer and it is stored as the variable called **ex3**.\n",
    "2. We then use **ex3 = ex3.title()** to capitalize the first letter of the word and have transition all other letters to lowercase.\n",
    "3. We then print the variable and see that the answer came out to have the first letter be capital, and the rest lower case."
   ]
  },
  {
   "cell_type": "markdown",
   "metadata": {
    "colab_type": "text",
    "id": "zXaRPAN34ui0"
   },
   "source": [
    "<h2> You can manually edit the code cells below for practice. </h2>"
   ]
  },
  {
   "cell_type": "code",
   "execution_count": null,
   "metadata": {
    "colab": {},
    "colab_type": "code",
    "id": "rd6d8MmH4ui1"
   },
   "outputs": [],
   "source": [
    "#Assign a string (use double or single quotes) to the variable x and run this cell to see how it changes.\n",
    "\n",
    "x = \n",
    "print('Lower Case:',x.lower())\n",
    "print('Upper case:',x.upper())\n",
    "print('Title Case:',x.title())"
   ]
  },
  {
   "cell_type": "code",
   "execution_count": null,
   "metadata": {
    "colab": {},
    "colab_type": "code",
    "id": "M87PYeHs4ui4"
   },
   "outputs": [],
   "source": [
    "#Additional code cell for practice\n"
   ]
  },
  {
   "cell_type": "code",
   "execution_count": null,
   "metadata": {
    "colab": {},
    "colab_type": "code",
    "id": "J1I9gXEd4ui6"
   },
   "outputs": [],
   "source": [
    "#Additional code cell for practice\n"
   ]
  },
  {
   "cell_type": "code",
   "execution_count": null,
   "metadata": {
    "colab": {},
    "colab_type": "code",
    "id": "0znO0_AN4ui9"
   },
   "outputs": [],
   "source": [
    "#Additional code cell for practice\n"
   ]
  },
  {
   "cell_type": "code",
   "execution_count": null,
   "metadata": {
    "colab": {},
    "colab_type": "code",
    "id": "zT-IFlQ74ui_"
   },
   "outputs": [],
   "source": [
    "#Additional code cell for practice\n"
   ]
  },
  {
   "cell_type": "code",
   "execution_count": null,
   "metadata": {
    "colab": {},
    "colab_type": "code",
    "id": "DGtibFXS4ujB"
   },
   "outputs": [],
   "source": [
    "#Additional code cell for practice\n"
   ]
  },
  {
   "cell_type": "markdown",
   "metadata": {
    "colab_type": "text",
    "id": "d2NEZZXP4ujD"
   },
   "source": [
    "<h2> Very Important </h2>"
   ]
  },
  {
   "cell_type": "markdown",
   "metadata": {
    "colab_type": "text",
    "id": "xb2c_N-w4ujE"
   },
   "source": [
    "Let's assign the variable d to the string 'goodbye':"
   ]
  },
  {
   "cell_type": "code",
   "execution_count": null,
   "metadata": {
    "colab": {},
    "colab_type": "code",
    "id": "-kfzyALu4ujE"
   },
   "outputs": [],
   "source": [
    "#Run Me!\n",
    "d = 'goodbye'"
   ]
  },
  {
   "cell_type": "markdown",
   "metadata": {
    "colab_type": "text",
    "id": "5493FM3g4ujH"
   },
   "source": [
    "Let's use .upper() to capitalize this string:"
   ]
  },
  {
   "cell_type": "code",
   "execution_count": null,
   "metadata": {
    "colab": {},
    "colab_type": "code",
    "id": "Ltgq7hl34ujH"
   },
   "outputs": [],
   "source": [
    "#Run Me!\n",
    "d.upper()"
   ]
  },
  {
   "cell_type": "markdown",
   "metadata": {
    "colab_type": "text",
    "id": "e4udWw_v4ujK"
   },
   "source": [
    "The code above shows us what **d.upper()** *would* look like, **it does not save d as GOODBYE**"
   ]
  },
  {
   "cell_type": "code",
   "execution_count": null,
   "metadata": {
    "colab": {},
    "colab_type": "code",
    "id": "7a8p-7xS4ujL"
   },
   "outputs": [],
   "source": [
    "#I'll prove it! \n",
    "#Run Me\n",
    "print(d)"
   ]
  },
  {
   "cell_type": "markdown",
   "metadata": {
    "colab_type": "text",
    "id": "98-ILWn34ujN"
   },
   "source": [
    "When we change the string to **standardize** it, we want to save it as a **new variable** like this:"
   ]
  },
  {
   "cell_type": "code",
   "execution_count": null,
   "metadata": {
    "colab": {},
    "colab_type": "code",
    "id": "Daz_AbTN4ujN"
   },
   "outputs": [],
   "source": [
    "#Run Me!\n",
    "d1 = d.upper()\n",
    "\n",
    "#saving d.upper() as a new variable"
   ]
  },
  {
   "cell_type": "code",
   "execution_count": null,
   "metadata": {
    "colab": {},
    "colab_type": "code",
    "id": "oDLs-snX4ujP"
   },
   "outputs": [],
   "source": [
    "#Run Me!\n",
    "print(d1)"
   ]
  },
  {
   "cell_type": "markdown",
   "metadata": {
    "colab_type": "text",
    "id": "eGFmyC8i4ujU"
   },
   "source": [
    "**BOOM!** Nice job! Looks like you capitalized GOODBYE."
   ]
  },
  {
   "cell_type": "markdown",
   "metadata": {
    "colab_type": "text",
    "id": "JphGEAa04ujU"
   },
   "source": [
    "<h2><p style=\"text-align: center;\">To Recap:</p></h2>\n",
    "\n",
    "When we receive an input from a user, they may type it in different formats. To **standardize** the format for use in future code, we want all inputs to be either upper case, lower case or title case.\n",
    "\n",
    "To turn a string into all upper case, use **.upper()**\n",
    "To turn a string into all lower case, use **.lower()**\n",
    "To turn a string into title case, use **.title()**\n",
    "\n",
    "If you use any one of those three on a variable, it will show you what the variable will look like, but **it will not save that change**. To save that change you must assign it to a new variable or overwrite the variable (i.e ex2 above)"
   ]
  },
  {
   "cell_type": "markdown",
   "metadata": {
    "colab_type": "text",
    "id": "7qTroF5V4ujV"
   },
   "source": [
    "<h2> 3.2.2 Slicing and Indexing Strings </h2>"
   ]
  },
  {
   "cell_type": "markdown",
   "metadata": {
    "colab_type": "text",
    "id": "AcrnTsij4ujW"
   },
   "source": [
    "What is slicing a string??\n",
    "\n",
    "Slicing a string means we *cut* a string using *indexing*\n",
    "\n",
    "What is indexing?\n",
    "\n",
    "Finding the position of a certain value."
   ]
  },
  {
   "cell_type": "markdown",
   "metadata": {
    "colab_type": "text",
    "id": "lXbko-Oi4ujW"
   },
   "source": [
    "<h2><p style=\"text-align: center;\">**Zakir stop using fancy words!**</p></h2>"
   ]
  },
  {
   "cell_type": "markdown",
   "metadata": {
    "colab_type": "text",
    "id": "1NJQdsMY4ujW"
   },
   "source": [
    "![ChessUrl](https://media.tenor.com/images/fd5b81cab3adb3b76a36c7b3e541124b/tenor.gif)"
   ]
  },
  {
   "cell_type": "markdown",
   "metadata": {
    "colab_type": "text",
    "id": "3nZ_6ACU4ujX"
   },
   "source": [
    "Let me just show you: \n",
    "<h2> **Slicing** </h2>"
   ]
  },
  {
   "cell_type": "markdown",
   "metadata": {
    "colab_type": "text",
    "id": "GpHSO-wM4ujY"
   },
   "source": [
    "Let's look at the word **green**. Slicing this word means producing an output that shows a letter or part of the word such as:\n",
    "    \n",
    "    output 1: gr\n",
    "    output 2: ee\n",
    "    output 3: n\n",
    "    \n",
    "How do we achieve splitting up a word or sentence like this? By **Indexing!**"
   ]
  },
  {
   "cell_type": "markdown",
   "metadata": {
    "colab_type": "text",
    "id": "spK9b1hE4ujY"
   },
   "source": [
    "<h2> **Indexing** </h2>"
   ]
  },
  {
   "cell_type": "markdown",
   "metadata": {
    "colab_type": "text",
    "id": "P8ETcUv04ujZ"
   },
   "source": [
    "Let's look at the word blue. You would normally count:\n",
    "\n",
    "    'b' as being the first letter\n",
    "    'l' being the second letter\n",
    "    'u' being the third letter\n",
    "    'e' being the fourth letter.\n",
    "\n",
    "In Python, we count differently...don't be scared!"
   ]
  },
  {
   "cell_type": "markdown",
   "metadata": {
    "colab_type": "text",
    "id": "is4LjIS24ujZ"
   },
   "source": [
    "![ChessUrl](https://media.giphy.com/media/l41YtZOb9EUABnuqA/giphy.gif)"
   ]
  },
  {
   "cell_type": "markdown",
   "metadata": {
    "colab_type": "text",
    "id": "SBsLGEEj4ujZ"
   },
   "source": [
    "Let's look at the word blue again. In Python we start with 0!\n",
    "\n",
    "    'b' as being letter 0\n",
    "    'l' as being letter 1\n",
    "    'u' as being letter 2\n",
    "    'e' as being letter 3"
   ]
  },
  {
   "cell_type": "markdown",
   "metadata": {
    "colab_type": "text",
    "id": "PWCh-90q4uja"
   },
   "source": [
    "**This is what we call indexing! 'l' is the 1st index in the word blue!**"
   ]
  },
  {
   "cell_type": "markdown",
   "metadata": {
    "colab_type": "text",
    "id": "sDbM8MV54ujb"
   },
   "source": [
    "In the cell below, assign a string to the variable color:"
   ]
  },
  {
   "cell_type": "code",
   "execution_count": null,
   "metadata": {
    "colab": {},
    "colab_type": "code",
    "id": "ZiSUGwW94ujb"
   },
   "outputs": [],
   "source": [
    "#Run Me!\n",
    "color = 'red'"
   ]
  },
  {
   "cell_type": "code",
   "execution_count": null,
   "metadata": {
    "colab": {},
    "colab_type": "code",
    "id": "2dSYmBS44ujd"
   },
   "outputs": [],
   "source": [
    "#Run Me!\n",
    "color[1]"
   ]
  },
  {
   "cell_type": "markdown",
   "metadata": {
    "colab_type": "text",
    "id": "1NmasSxN4ujf"
   },
   "source": [
    "In the cell above, we **sliced** the variable called color to only display the **second letter** (**1st index**)"
   ]
  },
  {
   "cell_type": "code",
   "execution_count": null,
   "metadata": {
    "colab": {},
    "colab_type": "code",
    "id": "TjmnmQ3A4ujg"
   },
   "outputs": [],
   "source": [
    "#Run Me!\n",
    "\n",
    "F = 'racecar'\n",
    "\n",
    "#Below prints out each letter by referencing the index location\n",
    "print(F[0])\n",
    "print(F[1])\n",
    "print(F[2])\n",
    "print(F[3])\n",
    "print(F[4])\n",
    "print(F[5])\n",
    "print(F[6])"
   ]
  },
  {
   "cell_type": "markdown",
   "metadata": {
    "colab_type": "text",
    "id": "cSAkxj5u4uji"
   },
   "source": [
    "In the code cell above, we used the **index** value to print out different letters of the word racecar.\n",
    "\n",
    "**Notice how we started at 0**"
   ]
  },
  {
   "cell_type": "markdown",
   "metadata": {
    "colab_type": "text",
    "id": "euyrlLJy4ujj"
   },
   "source": [
    "<h2> Practice by editing the code cells below </h2>"
   ]
  },
  {
   "cell_type": "code",
   "execution_count": null,
   "metadata": {
    "colab": {},
    "colab_type": "code",
    "id": "GmdNUYlF4ujj"
   },
   "outputs": [],
   "source": [
    "#Run Me!\n",
    "x = 'knowledge'"
   ]
  },
  {
   "cell_type": "code",
   "execution_count": null,
   "metadata": {
    "colab": {},
    "colab_type": "code",
    "id": "vaL4VKo84ujl"
   },
   "outputs": [],
   "source": [
    "#Print out the 4th letter (fifth index) of variable x\n"
   ]
  },
  {
   "cell_type": "code",
   "execution_count": null,
   "metadata": {
    "colab": {},
    "colab_type": "code",
    "id": "dr9WWHaa4ujo"
   },
   "outputs": [],
   "source": [
    "#Print out the 2nd letter (third index) of variable x\n"
   ]
  },
  {
   "cell_type": "code",
   "execution_count": null,
   "metadata": {
    "colab": {},
    "colab_type": "code",
    "id": "BivLJXoA4ujq"
   },
   "outputs": [],
   "source": [
    "#Print out the 7nd letter (sixth index) of variable x\n"
   ]
  },
  {
   "cell_type": "code",
   "execution_count": null,
   "metadata": {
    "colab": {},
    "colab_type": "code",
    "id": "_YordegA4ujs"
   },
   "outputs": [],
   "source": [
    "#Print out the 1st letter (zero index) of variable x\n"
   ]
  },
  {
   "cell_type": "code",
   "execution_count": null,
   "metadata": {
    "colab": {},
    "colab_type": "code",
    "id": "xboktgn84ujv"
   },
   "outputs": [],
   "source": [
    "#Print out the 9st letter (eigth index) of variable x\n"
   ]
  },
  {
   "cell_type": "code",
   "execution_count": null,
   "metadata": {
    "colab": {},
    "colab_type": "code",
    "id": "kYGHEf1b4ujw"
   },
   "outputs": [],
   "source": [
    "#Print out the 3rd letter (second index) of variable x\n"
   ]
  },
  {
   "cell_type": "code",
   "execution_count": null,
   "metadata": {
    "colab": {},
    "colab_type": "code",
    "id": "pP6atq-44ujz"
   },
   "outputs": [],
   "source": [
    "#Print out the 6th letter (fifth index) of variable x\n"
   ]
  },
  {
   "cell_type": "code",
   "execution_count": null,
   "metadata": {
    "colab": {},
    "colab_type": "code",
    "id": "X_f2rdvN4uj1"
   },
   "outputs": [],
   "source": [
    "#Print out the 5th letter (third index) of variable x\n"
   ]
  },
  {
   "cell_type": "code",
   "execution_count": null,
   "metadata": {
    "colab": {},
    "colab_type": "code",
    "id": "haJjbyH24uj3"
   },
   "outputs": [],
   "source": [
    "#Print out the 8th letter (seventh index) of variable x\n"
   ]
  },
  {
   "cell_type": "markdown",
   "metadata": {
    "colab_type": "text",
    "id": "FFOF8I1B4uj4"
   },
   "source": [
    "<h2><p style=\"text-align: center;\">What if we want to grab more than just one letter?</p></h2>"
   ]
  },
  {
   "cell_type": "markdown",
   "metadata": {
    "colab_type": "text",
    "id": "XzHm7H7_4uj5"
   },
   "source": [
    "If we wanted to grab more than one letter, we just add a colon between the brackets.\n",
    "\n",
    "On the left side of the colon, we indicate which index we want to start with, on the right side of the colon we add which index we want to stop at **plus** one.\n",
    "\n",
    "    [:]\n",
    "    [start index location:stop index location + 1]"
   ]
  },
  {
   "cell_type": "markdown",
   "metadata": {
    "colab": {},
    "colab_type": "code",
    "id": "dr9e76lp4uj6"
   },
   "source": [
    "The reason we have to add one to the stop index location is because Python does not grab this index. It grabs the one right before it."
   ]
  },
  {
   "cell_type": "markdown",
   "metadata": {
    "colab_type": "text",
    "id": "fDv_B0Bv4uj7"
   },
   "source": [
    "Let's use the example of 'knowledge' from above:"
   ]
  },
  {
   "cell_type": "code",
   "execution_count": null,
   "metadata": {
    "colab": {},
    "colab_type": "code",
    "id": "z581u5JM4uj8"
   },
   "outputs": [],
   "source": [
    "#Run Me!\n",
    "x = 'knowledge'"
   ]
  },
  {
   "cell_type": "code",
   "execution_count": null,
   "metadata": {
    "colab": {},
    "colab_type": "code",
    "id": "LI56g-xP4uj_"
   },
   "outputs": [],
   "source": [
    "#Run Me! To grab the 2nd letter to the 5th letter\n",
    "twotofive = x[1:5]\n",
    "print(twotofive)"
   ]
  },
  {
   "cell_type": "markdown",
   "metadata": {
    "colab_type": "text",
    "id": "baRaPmfY4ukC"
   },
   "source": [
    "word:  k n o w l e d g e\n",
    "\n",
    "index: 0 *1* 2 3 4 *5* 6 7 8\n",
    "\n",
    "In the code cell above, we want to grab the **2nd letter** which is the **first index**.\n",
    "\n",
    "We want to stop at the **5th letter** which is the **fourth index**. But since Python reads the ending a bit funky, we have to **figure out our ending index and add one**."
   ]
  },
  {
   "cell_type": "code",
   "execution_count": null,
   "metadata": {
    "colab": {},
    "colab_type": "code",
    "id": "QOjstxVo4ukC"
   },
   "outputs": [],
   "source": [
    "#Run Me! To grab the 1st letter to the 3rd letter\n",
    "onetothree = x[0:3]\n",
    "print(onetothree)\n"
   ]
  },
  {
   "cell_type": "markdown",
   "metadata": {
    "colab_type": "text",
    "id": "nYF5nqOG4ukG"
   },
   "source": [
    "word:  k n o w l e d g e\n",
    "\n",
    "index: *0* 1 2 *3* 4 5 6 7 8\n",
    "\n",
    "In the code cell above, we want to grab the **1st letter** which is the **zero index**.\n",
    "\n",
    "We want to stop at the **3th letter** which is the **third index**. But since Python reads the ending a bit funky, we have to **figure out our ending index and add one**."
   ]
  },
  {
   "cell_type": "markdown",
   "metadata": {
    "colab_type": "text",
    "id": "VnyDfyED4ukG"
   },
   "source": [
    "*The above output should be kno*"
   ]
  },
  {
   "cell_type": "code",
   "execution_count": null,
   "metadata": {
    "colab": {},
    "colab_type": "code",
    "id": "dbh7xttn4ukG"
   },
   "outputs": [],
   "source": [
    "#Run Me! To grab the 1st letter to the 3rd letter\n",
    "sixtonine = x[5:9]\n",
    "print(sixtonine)"
   ]
  },
  {
   "cell_type": "markdown",
   "metadata": {
    "colab_type": "text",
    "id": "9Q3xntJ54ukJ"
   },
   "source": [
    "*The above output should be edge*"
   ]
  },
  {
   "cell_type": "markdown",
   "metadata": {
    "colab_type": "text",
    "id": "5fQdKc164ukK"
   },
   "source": [
    "The first number in the bracket indicates what **index location** we want to start at (*Python includes this value*). \n",
    "\n",
    "The second number in the bracket indicates what **index location** we want to end at **+ 1** (*Python **does not** include this value*)"
   ]
  },
  {
   "cell_type": "markdown",
   "metadata": {
    "colab_type": "text",
    "id": "t-tQAmV24ukK"
   },
   "source": [
    "<h2> Pro Tip </h2>"
   ]
  },
  {
   "cell_type": "markdown",
   "metadata": {
    "colab_type": "text",
    "id": "Z-ineGuX4ukL"
   },
   "source": [
    "The rules for indexing a word is the same for indexing a sentence or phrase. Here's a breakdown of the index for the sentence \"Hi I'm a string!\":\n",
    "\n",
    "    - H index 0 \n",
    "    - i index 1\n",
    "    -   index 2\n",
    "    - I index 3\n",
    "    - ' index 4\n",
    "    - m index 5\n",
    "    -   index 6\n",
    "    - a index 7\n",
    "    -   index 8\n",
    "    - s index 9\n",
    "    - t index 10\n",
    "    - r index 11\n",
    "    - i index 12\n",
    "    - n index 13\n",
    "    - g index 14\n",
    "    - ! index 15"
   ]
  },
  {
   "cell_type": "code",
   "execution_count": null,
   "metadata": {
    "colab": {},
    "colab_type": "code",
    "id": "Olmm1WW94ukL"
   },
   "outputs": [],
   "source": [
    "#Run Me!\n",
    "phrase = \"Hi I'm a string!\""
   ]
  },
  {
   "cell_type": "code",
   "execution_count": null,
   "metadata": {
    "colab": {},
    "colab_type": "code",
    "id": "Ri_J51iy4ukP"
   },
   "outputs": [],
   "source": [
    "phrase1 = phrase[0:5]\n",
    "print(phrase1)"
   ]
  },
  {
   "cell_type": "code",
   "execution_count": null,
   "metadata": {
    "colab": {},
    "colab_type": "code",
    "id": "6LOQbC794ukR"
   },
   "outputs": [],
   "source": [
    "phrase2 = phrase[4:9]\n",
    "print(phrase2)"
   ]
  },
  {
   "cell_type": "markdown",
   "metadata": {
    "colab_type": "text",
    "id": "h8zb2aAm4ukS"
   },
   "source": [
    "***Notice how Python also counts spaces and punctuation in the index!!***"
   ]
  },
  {
   "cell_type": "markdown",
   "metadata": {
    "colab_type": "text",
    "id": "WTy4a1wm4ukS"
   },
   "source": [
    "<h2><p style=\"text-align: center;\">What if we wanted to know how long a user input or string was?</p></h2>"
   ]
  },
  {
   "cell_type": "markdown",
   "metadata": {
    "colab_type": "text",
    "id": "ESmsrgMO4ukT"
   },
   "source": [
    "The **len()** operator allows us to see how many letters (and spaces) a string is! See it in action:"
   ]
  },
  {
   "cell_type": "code",
   "execution_count": null,
   "metadata": {
    "colab": {},
    "colab_type": "code",
    "id": "jxagr3d04ukU"
   },
   "outputs": [],
   "source": [
    "#Run Me! \n",
    "len('zoro')"
   ]
  },
  {
   "cell_type": "code",
   "execution_count": null,
   "metadata": {
    "colab": {},
    "colab_type": "code",
    "id": "GinRgWyq4ukV"
   },
   "outputs": [],
   "source": [
    "#Run Me!\n",
    "car = 'Toyota'\n",
    "len(car)"
   ]
  },
  {
   "cell_type": "markdown",
   "metadata": {
    "colab_type": "text",
    "id": "hjsblda74ukX"
   },
   "source": [
    "Practice using the **input()** function and the **len()** operator to see how long different inputs are!\n",
    "\n",
    "Create a variable that holds user input. Then, use the **len()** function on that variable"
   ]
  },
  {
   "cell_type": "code",
   "execution_count": null,
   "metadata": {
    "colab": {},
    "colab_type": "code",
    "id": "GcFlnEBV4ukY"
   },
   "outputs": [],
   "source": [
    "#Run Me!\n",
    "\n",
    "z = input()\n",
    "len(z)"
   ]
  },
  {
   "cell_type": "markdown",
   "metadata": {
    "colab_type": "text",
    "id": "shoRTCw54ukc"
   },
   "source": [
    "<h2><p style=\"text-align: center;\">What if we want to grab the last letter of a word?</p></h2>"
   ]
  },
  {
   "cell_type": "markdown",
   "metadata": {
    "colab_type": "text",
    "id": "v6E0RlDp4ukd"
   },
   "source": [
    "If we want to grab the last letter of the word (without knowing the length of the input) we use **negative numbers**.\n",
    "\n",
    "The main difference from what we learned above is that instead when we count from the last letter to the first letter, we start at -1 and continue in the negative direction. Here's a breakdown of the index for the sentence \"Hi I'm a string!\":\n",
    "    - H index 0 = -16\n",
    "    - i index 1 = -15\n",
    "    -   index 2 = -14\n",
    "    - I index 3 = -13\n",
    "    - ' index 4 = -12\n",
    "    - m index 5 = -11\n",
    "    -   index 6 = -10\n",
    "    - a index 7 = -9\n",
    "    -   index 8 = -8\n",
    "    - s index 9 = -7\n",
    "    - t index 10 = -6\n",
    "    - r index 11 = -5\n",
    "    - i index 12 = -4\n",
    "    - n index 13 = -3\n",
    "    - g index 14 = -2\n",
    "    - ! index 15 = -1\n",
    "    \n",
    "If you wanted to grab the '!', using **index 15** or **index -1** would be **the same thing.**"
   ]
  },
  {
   "cell_type": "code",
   "execution_count": null,
   "metadata": {
    "colab": {},
    "colab_type": "code",
    "id": "nicpDPXI4uke"
   },
   "outputs": [],
   "source": [
    "#Run Me for proof!\n",
    "string = \"Hi I'm a string!\"\n",
    "print(string[15])\n",
    "print(string[-1])"
   ]
  },
  {
   "cell_type": "code",
   "execution_count": null,
   "metadata": {
    "colab": {},
    "colab_type": "code",
    "id": "45YFfQbV4ukj"
   },
   "outputs": [],
   "source": [
    "#Run Me!\n",
    "\n",
    "greeting = 'Good Morning!'\n",
    "print(greeting[-1])\n",
    "print(greeting[-2])\n",
    "print(greeting[-3])\n",
    "print(greeting[-4])\n",
    "print(greeting[-5])\n",
    "print(greeting[-6])\n",
    "print(greeting[-7])\n",
    "print(greeting[-8])\n",
    "print(greeting[-9])\n",
    "print(greeting[-10])\n",
    "print(greeting[-11])\n",
    "print(greeting[-12])\n",
    "print(greeting[-13])\n"
   ]
  },
  {
   "cell_type": "markdown",
   "metadata": {
    "colab_type": "text",
    "id": "1iy3Sc144ukl"
   },
   "source": [
    "<h1><p style=\"text-align: center;\">Your Turn</p></h1>"
   ]
  },
  {
   "cell_type": "markdown",
   "metadata": {
    "colab_type": "text",
    "id": "XdAAMBNH4ukl"
   },
   "source": [
    "Practice 1:"
   ]
  },
  {
   "cell_type": "code",
   "execution_count": null,
   "metadata": {
    "colab": {},
    "colab_type": "code",
    "id": "Pln4bF0a4ukl"
   },
   "outputs": [],
   "source": [
    "#Run Me and enter a word or phrase\n",
    "yourturn1 = input()"
   ]
  },
  {
   "cell_type": "code",
   "execution_count": null,
   "metadata": {
    "colab": {},
    "colab_type": "code",
    "id": "bHT2Bd3r4ukn"
   },
   "outputs": [],
   "source": [
    "#Capitalize the variable yourturn1 using .upper(), assign to a new variable, print and Run Me!\n",
    "\n"
   ]
  },
  {
   "cell_type": "markdown",
   "metadata": {
    "colab_type": "text",
    "id": "ysNQCWGL4uko"
   },
   "source": [
    "Practice 2:"
   ]
  },
  {
   "cell_type": "code",
   "execution_count": null,
   "metadata": {
    "colab": {},
    "colab_type": "code",
    "id": "BKOlWPUn4ukp"
   },
   "outputs": [],
   "source": [
    "yourturn2 = input()"
   ]
  },
  {
   "cell_type": "code",
   "execution_count": null,
   "metadata": {
    "colab": {},
    "colab_type": "code",
    "id": "0z3nL5OA4ukr"
   },
   "outputs": [],
   "source": [
    "#Turn all letters to lowercase using .lower(),assign to a new variable, print and Run Me!\n"
   ]
  },
  {
   "cell_type": "markdown",
   "metadata": {
    "colab_type": "text",
    "id": "shRwtlgI4ukt"
   },
   "source": [
    "Practice 3:"
   ]
  },
  {
   "cell_type": "code",
   "execution_count": null,
   "metadata": {
    "colab": {},
    "colab_type": "code",
    "id": "kRz9ixwx4ukt"
   },
   "outputs": [],
   "source": [
    "#Run Me!\n",
    "yourturn3 = \"chicago is the best!\""
   ]
  },
  {
   "cell_type": "code",
   "execution_count": null,
   "metadata": {
    "colab": {},
    "colab_type": "code",
    "id": "e0jo_9xx4ukw"
   },
   "outputs": [],
   "source": [
    "#Use .title() so every first letter of yourturn3 is capitalized,assign to a new variable, print and Run Me!\n",
    "\n"
   ]
  },
  {
   "cell_type": "markdown",
   "metadata": {
    "colab_type": "text",
    "id": "tS8AJsRK4uky"
   },
   "source": [
    "Practice 4:"
   ]
  },
  {
   "cell_type": "code",
   "execution_count": null,
   "metadata": {
    "colab": {},
    "colab_type": "code",
    "id": "AyW58fuW4uky"
   },
   "outputs": [],
   "source": [
    "#Run Me!\n",
    "practice4 = 'folder'"
   ]
  },
  {
   "cell_type": "code",
   "execution_count": null,
   "metadata": {
    "colab": {},
    "colab_type": "code",
    "id": "z8OWyc8X4ukz"
   },
   "outputs": [],
   "source": [
    "#Grab the first through the fifth LETTER from the variable practice4; Run Me!\n"
   ]
  },
  {
   "cell_type": "markdown",
   "metadata": {
    "colab_type": "text",
    "id": "RYTij6S94uk1"
   },
   "source": [
    "*The output above should be folde*"
   ]
  },
  {
   "cell_type": "markdown",
   "metadata": {
    "colab_type": "text",
    "id": "7_8hdjX84uk2"
   },
   "source": [
    "Practice 5:"
   ]
  },
  {
   "cell_type": "code",
   "execution_count": null,
   "metadata": {
    "colab": {},
    "colab_type": "code",
    "id": "0BNqJwiq4uk2"
   },
   "outputs": [],
   "source": [
    "#Create a variable and assign it to a word or phrase\n"
   ]
  },
  {
   "cell_type": "code",
   "execution_count": null,
   "metadata": {
    "colab": {},
    "colab_type": "code",
    "id": "6UKmtIQs4uk3"
   },
   "outputs": [],
   "source": [
    "#Grab the second to last letter of the variable you created above. \n"
   ]
  },
  {
   "cell_type": "markdown",
   "metadata": {
    "colab_type": "text",
    "id": "ICKJtQKH4uk4"
   },
   "source": [
    "Now practice creating your own variables, playing around with .upper(), .lower(), .title() and slicing that variable at different index values!"
   ]
  },
  {
   "cell_type": "code",
   "execution_count": null,
   "metadata": {
    "colab": {},
    "colab_type": "code",
    "id": "SnBiRO6p4uk5"
   },
   "outputs": [],
   "source": [
    "#Example\n",
    "greeting = \"hello nice to meet you\"\n",
    "\n",
    "#capitalize string\n",
    "greetingcapitalize = greeting.upper()\n",
    "\n",
    "#grabbed the first four letters\n",
    "greetingfirstfour = greetingcapitalize[0:5]\n",
    "\n",
    "#grabbed the last five letters\n",
    "greetinglastfiveletters = greetingcapitalize[16:]\n",
    "\n",
    "#printing\n",
    "print(greetingfirstfour)\n",
    "print(greetinglastfiveletters)"
   ]
  },
  {
   "cell_type": "code",
   "execution_count": null,
   "metadata": {
    "colab": {},
    "colab_type": "code",
    "id": "NOcZUyNs4uk6"
   },
   "outputs": [],
   "source": [
    "#Additional code cell for practice"
   ]
  },
  {
   "cell_type": "code",
   "execution_count": null,
   "metadata": {
    "colab": {},
    "colab_type": "code",
    "id": "JoSJ4yZS4uk8"
   },
   "outputs": [],
   "source": [
    "#Additional code cell for practice"
   ]
  },
  {
   "cell_type": "code",
   "execution_count": null,
   "metadata": {
    "colab": {},
    "colab_type": "code",
    "id": "1x9ylopi4uk-"
   },
   "outputs": [],
   "source": [
    "#Additional code cell for practice"
   ]
  },
  {
   "cell_type": "code",
   "execution_count": null,
   "metadata": {
    "colab": {},
    "colab_type": "code",
    "id": "spZXlOQo4uk_"
   },
   "outputs": [],
   "source": [
    "#Additional code cell for practice"
   ]
  },
  {
   "cell_type": "code",
   "execution_count": null,
   "metadata": {
    "colab": {},
    "colab_type": "code",
    "id": "IO1I5zvh4ulD"
   },
   "outputs": [],
   "source": [
    "#Additional code cell for practice"
   ]
  },
  {
   "cell_type": "code",
   "execution_count": null,
   "metadata": {
    "colab": {},
    "colab_type": "code",
    "id": "ZLgpuNXp4ulE"
   },
   "outputs": [],
   "source": [
    "#Additional code cell for practice"
   ]
  },
  {
   "cell_type": "code",
   "execution_count": null,
   "metadata": {
    "colab": {},
    "colab_type": "code",
    "id": "1DWU2-9J4ulF"
   },
   "outputs": [],
   "source": [
    "#Additional code cell for practice"
   ]
  },
  {
   "cell_type": "code",
   "execution_count": null,
   "metadata": {
    "colab": {},
    "colab_type": "code",
    "id": "Vjnz4_o_4ulL"
   },
   "outputs": [],
   "source": [
    "#Additional code cell for practice"
   ]
  },
  {
   "cell_type": "code",
   "execution_count": null,
   "metadata": {
    "colab": {},
    "colab_type": "code",
    "id": "lrMHp-gY4ulN"
   },
   "outputs": [],
   "source": [
    "#Additional code cell for practice"
   ]
  },
  {
   "cell_type": "code",
   "execution_count": null,
   "metadata": {
    "colab": {},
    "colab_type": "code",
    "id": "yTlvHEx34ulO"
   },
   "outputs": [],
   "source": [
    "#Additional code cell for practice"
   ]
  },
  {
   "cell_type": "code",
   "execution_count": null,
   "metadata": {
    "colab": {},
    "colab_type": "code",
    "id": "ElJ66JjC4ulQ"
   },
   "outputs": [],
   "source": [
    "#Additional code cell for practice"
   ]
  },
  {
   "cell_type": "code",
   "execution_count": null,
   "metadata": {
    "colab": {},
    "colab_type": "code",
    "id": "mT3mDHrh4ulR"
   },
   "outputs": [],
   "source": [
    "#Additional code cell for practice"
   ]
  },
  {
   "cell_type": "code",
   "execution_count": null,
   "metadata": {
    "colab": {},
    "colab_type": "code",
    "id": "DHBl6GAf4ulT"
   },
   "outputs": [],
   "source": [
    "#Additional code cell for practice"
   ]
  },
  {
   "cell_type": "code",
   "execution_count": null,
   "metadata": {
    "colab": {},
    "colab_type": "code",
    "id": "K4s3cGcX4ulT"
   },
   "outputs": [],
   "source": [
    "#Additional code cell for practice"
   ]
  },
  {
   "cell_type": "markdown",
   "metadata": {
    "colab_type": "text",
    "id": "Q9GWzVcG4ulX"
   },
   "source": [
    "<h3><p style=\"text-align: center;\">Congrats! You're on your way to becoming a string, slicing and dicing (indexing) master!</p></h3>"
   ]
  },
  {
   "cell_type": "markdown",
   "metadata": {
    "colab_type": "text",
    "id": "iR1Mu-lj4ulY"
   },
   "source": [
    "![ChessUrl](https://media2.giphy.com/media/26h0oZIGGOFZdZj4Q/200w.webp?cid=ecf05e47d97a3bc089e1736614f566431f15435116b46ae5&rid=200w.webp)"
   ]
  },
  {
   "cell_type": "markdown",
   "metadata": {
    "colab_type": "text",
    "id": "UkAXJt7O4ulY"
   },
   "source": [
    "<h1><p style=\"text-align: center;\"> Thank you for looking over Notebook 3. Send any feedback to zap1295@yahoo.com </p></h1>"
   ]
  },
  {
   "cell_type": "markdown",
   "metadata": {
    "colab_type": "text",
    "id": "L-cLtM3I4ulZ"
   },
   "source": [
    "© June 2020 Zakir Pasha"
   ]
  },
  {
   "cell_type": "code",
   "execution_count": null,
   "metadata": {
    "colab": {},
    "colab_type": "code",
    "id": "K9d7WaxT4ulZ"
   },
   "outputs": [],
   "source": []
  }
 ],
 "metadata": {
  "colab": {
   "name": "Notebook3_FunWithStrings (1).ipynb",
   "provenance": []
  },
  "kernelspec": {
   "display_name": "Python 3",
   "language": "python",
   "name": "python3"
  },
  "language_info": {
   "codemirror_mode": {
    "name": "ipython",
    "version": 3
   },
   "file_extension": ".py",
   "mimetype": "text/x-python",
   "name": "python",
   "nbconvert_exporter": "python",
   "pygments_lexer": "ipython3",
   "version": "3.7.6"
  }
 },
 "nbformat": 4,
 "nbformat_minor": 4
}
