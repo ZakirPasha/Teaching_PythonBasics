{
  "nbformat": 4,
  "nbformat_minor": 0,
  "metadata": {
    "kernelspec": {
      "display_name": "Python 3",
      "language": "python",
      "name": "python3"
    },
    "language_info": {
      "codemirror_mode": {
        "name": "ipython",
        "version": 3
      },
      "file_extension": ".py",
      "mimetype": "text/x-python",
      "name": "python",
      "nbconvert_exporter": "python",
      "pygments_lexer": "ipython3",
      "version": "3.6.5"
    },
    "colab": {
      "name": "Notebook3_FunWithStrings (1).ipynb",
      "provenance": []
    }
  },
  "cells": [
    {
      "cell_type": "markdown",
      "metadata": {
        "id": "mAkDjoQV4uiS",
        "colab_type": "text"
      },
      "source": [
        "<h1><p style=\"text-align: center;\">Notebook 3. Fun with Strings</p></h1>\n"
      ]
    },
    {
      "cell_type": "markdown",
      "metadata": {
        "id": "uCZSzj9v4uiT",
        "colab_type": "text"
      },
      "source": [
        "Welcome to Notebook 3! Here are some important notes from Notebook 2:\n",
        "\n",
        "- You learned about the **input()** function! This makes code way more interactive. You can customize what you want to ask the user for a better user experience.\n",
        "\n",
        "\n",
        "- You also learned how to assign this input to a **variable**. This way, you can reference that variable in other code or use the **print()** function to print out the output.\n",
        "\n",
        "\n",
        "- Anything entered in the **input** function is a **string**! This is a super important concept for Notebook 3!\n",
        "\n",
        "\n",
        "- We also had fun not only creating custom questions using the **input()** function, but creating custom printing using the **print()** function."
      ]
    },
    {
      "cell_type": "markdown",
      "metadata": {
        "id": "_6f64d1T4uiT",
        "colab_type": "text"
      },
      "source": [
        "<h1> 3.2 Fun with Strings </h1>"
      ]
    },
    {
      "cell_type": "markdown",
      "metadata": {
        "id": "fyRU-QFr4uiU",
        "colab_type": "text"
      },
      "source": [
        "As stated earlier and in the previous notebook, the **input()** function holds any input as a string! It does not matter whether you enter a integer or float"
      ]
    },
    {
      "cell_type": "markdown",
      "metadata": {
        "id": "0tz8Amws4uiV",
        "colab_type": "text"
      },
      "source": [
        "Let me show you again:"
      ]
    },
    {
      "cell_type": "code",
      "metadata": {
        "id": "Oxl35c944uiV",
        "colab_type": "code",
        "colab": {}
      },
      "source": [
        "#Run Me! And enter a integer or float in the text box.\n",
        "A = input()"
      ],
      "execution_count": null,
      "outputs": []
    },
    {
      "cell_type": "code",
      "metadata": {
        "id": "rfiYves34uiY",
        "colab_type": "code",
        "colab": {}
      },
      "source": [
        "#Run Me!\n",
        "print(type(A))"
      ],
      "execution_count": null,
      "outputs": []
    },
    {
      "cell_type": "markdown",
      "metadata": {
        "id": "K7UKcqfi4uic",
        "colab_type": "text"
      },
      "source": [
        "Even though you entered a number in the text box, the input function still considers this a string."
      ]
    },
    {
      "cell_type": "markdown",
      "metadata": {
        "id": "kC3CBlNE4uic",
        "colab_type": "text"
      },
      "source": [
        "<h2> 3.2.1 Prep the Input (string) </h2>"
      ]
    },
    {
      "cell_type": "markdown",
      "metadata": {
        "id": "binHyWr94uid",
        "colab_type": "text"
      },
      "source": [
        "So Zakir, we figured out how to get a input from a user. Now what? \n",
        "\n",
        "\n",
        "Wellllll we're missing one big step before we can use that input for anything..."
      ]
    },
    {
      "cell_type": "markdown",
      "metadata": {
        "id": "m0XypxOP4uie",
        "colab_type": "text"
      },
      "source": [
        "![ChessUrl](https://media1.tenor.com/images/358e6068a5ec0ba18ab3cc540e3bf8bc/tenor.gif?itemid=4586626)"
      ]
    },
    {
      "cell_type": "markdown",
      "metadata": {
        "id": "6HLnd3Vs4uie",
        "colab_type": "text"
      },
      "source": [
        "Let me show you:"
      ]
    },
    {
      "cell_type": "code",
      "metadata": {
        "id": "HABqIqrk4uif",
        "colab_type": "code",
        "colab": {}
      },
      "source": [
        "#Run Me!\n",
        "question = input(\"When you think of Bill Gates, you think of this company: \")"
      ],
      "execution_count": null,
      "outputs": []
    },
    {
      "cell_type": "markdown",
      "metadata": {
        "id": "l_Dvx3Av4uii",
        "colab_type": "text"
      },
      "source": [
        "You probably (hopefully) answered the question above as Microsoft...\n",
        "\n",
        "or did you type in microsoft.....\n",
        "\n",
        "or did you type in MICROSOFT....."
      ]
    },
    {
      "cell_type": "markdown",
      "metadata": {
        "id": "Rn34N5hd4uii",
        "colab_type": "text"
      },
      "source": [
        "<h3> What I'm trying to show here is that when you ask a user for their input, they can type it in using different punctuation.\n",
        "\n",
        "\n",
        "<br>\n",
        "<br>\n",
        "Computer language is very sensitive when it comes to capitalization. </h3>\n"
      ]
    },
    {
      "cell_type": "markdown",
      "metadata": {
        "id": "O-RqJRiD4uik",
        "colab_type": "text"
      },
      "source": [
        "![ChessUrl](https://media.giphy.com/media/fWgdQGsrCsU4NoQ6D9/giphy.gif)"
      ]
    },
    {
      "cell_type": "markdown",
      "metadata": {
        "id": "IyP4IqVs4uil",
        "colab_type": "text"
      },
      "source": [
        "For the example above:\n",
        "    \n",
        "    Microsoft is not the same as microsoft\n",
        "    microsoft is not the same as Microsoft\n",
        "    MICROSOFT is not the same as Microsoft\n",
        "    MICROSOFT is not the same as microsoft\n",
        "    \n",
        "More examples:\n",
        "\n",
        "    a is not the same as A\n",
        "    B is not the same as b\n",
        "    C is not the same as c"
      ]
    },
    {
      "cell_type": "markdown",
      "metadata": {
        "id": "KNeYopNv4uim",
        "colab_type": "text"
      },
      "source": [
        "<h3><p style=\"text-align: center;\"> Real Life Example: </p></h3>\n",
        "<br>\n",
        "Have you ever taken an online quiz or test and type in a answer as:\n",
        "    \n",
        "**false**\n",
        "\n",
        "but the computer marked you wrong and said the correct answer was:\n",
        "\n",
        "**False**\n",
        "\n",
        "\n",
        "This is why we're going to practice doing this!"
      ]
    },
    {
      "cell_type": "markdown",
      "metadata": {
        "id": "JO5hCYxY4uim",
        "colab_type": "text"
      },
      "source": [
        "For better use in future projects, we need to take the input, put it in a **standardized format** so our function/loop can recognize it over and over again."
      ]
    },
    {
      "cell_type": "markdown",
      "metadata": {
        "id": "P6vkCwY04uim",
        "colab_type": "text"
      },
      "source": [
        "\"Um, Zakir. What does that sentence even mean?\""
      ]
    },
    {
      "cell_type": "markdown",
      "metadata": {
        "id": "71Fu8BRT4uim",
        "colab_type": "text"
      },
      "source": [
        "When we go through writing a function that's a bit advanced, we need the input to be the same capitalization every time or else the computer will be confused."
      ]
    },
    {
      "cell_type": "markdown",
      "metadata": {
        "id": "q5WEiZv14uin",
        "colab_type": "text"
      },
      "source": [
        "There's three ways we can **standardize** formats:\n",
        "\n",
        "    Change all letters to lower case\n",
        "    Change all letters to uppercase\n",
        "    Change the first letter to capital and the rest to lower case\n",
        "    \n",
        "    \n",
        "*There are many other ways, these are the basics*"
      ]
    },
    {
      "cell_type": "markdown",
      "metadata": {
        "id": "-GCJuCUZ4uio",
        "colab_type": "text"
      },
      "source": [
        "Here are examples of all three in action."
      ]
    },
    {
      "cell_type": "code",
      "metadata": {
        "id": "uIeea1iD4uip",
        "colab_type": "code",
        "colab": {}
      },
      "source": [
        "#Lower Case\n",
        "#Run Me! Then type your answer in any format you want\n",
        "ex1 = input(\"When you think of Bill Gates, you think of this company:  \")\n",
        "ex1 = ex1.lower()\n",
        "print(ex1)"
      ],
      "execution_count": null,
      "outputs": []
    },
    {
      "cell_type": "markdown",
      "metadata": {
        "id": "BEPPT6194uis",
        "colab_type": "text"
      },
      "source": [
        "1. In the cell above, you type in your answer and it is stored as the variable called **ex1**.\n",
        "2. We then use **ex1 = ex1.lower()** to convert every letter in this string to lower case.\n",
        "3. We then print the variable and see that the answer came out in all lower case."
      ]
    },
    {
      "cell_type": "code",
      "metadata": {
        "id": "lh_ZqCFl4uis",
        "colab_type": "code",
        "colab": {}
      },
      "source": [
        "#Upper Case\n",
        "#Run Me! Then type your answer in any format you want\n",
        "ex2 = input(\"When you think of Bill Gates, you think of this company:  \")\n",
        "ex2 = ex2.upper()\n",
        "print(ex2)"
      ],
      "execution_count": null,
      "outputs": []
    },
    {
      "cell_type": "markdown",
      "metadata": {
        "id": "ufnOj8MZ4uiw",
        "colab_type": "text"
      },
      "source": [
        "1. In the cell above, you type in your answer and it is stored as the variable called **ex2**.\n",
        "2. We then use **ex2 = ex2.upper()** to convert every letter in this string to upper case.\n",
        "3. We then print the variable and see that the answer came out in all upper case."
      ]
    },
    {
      "cell_type": "code",
      "metadata": {
        "id": "lufkrQTE4uix",
        "colab_type": "code",
        "colab": {}
      },
      "source": [
        "#Title Case\n",
        "#Run Me! Then type your answer in any format you want\n",
        "ex3 = input(\"When you think of Bill Gates, you think of this company:  \")\n",
        "ex3 = ex3.title()\n",
        "print(ex3)"
      ],
      "execution_count": null,
      "outputs": []
    },
    {
      "cell_type": "markdown",
      "metadata": {
        "id": "xFDJbk5i4ui0",
        "colab_type": "text"
      },
      "source": [
        "1. In the cell above, you type in your answer and it is stored as the variable called **ex3**.\n",
        "2. We then use **ex3 = ex3.title()** to capitalize the first letter of the word and have transition all other letters to lowercase.\n",
        "3. We then print the variable and see that the answer came out to have the first letter be capital, and the rest lower case."
      ]
    },
    {
      "cell_type": "markdown",
      "metadata": {
        "id": "zXaRPAN34ui0",
        "colab_type": "text"
      },
      "source": [
        "<h2> You can manually edit the code cells below for practice. </h2>"
      ]
    },
    {
      "cell_type": "code",
      "metadata": {
        "id": "rd6d8MmH4ui1",
        "colab_type": "code",
        "colab": {}
      },
      "source": [
        "#Assign a string (use double or single quotes) to the variable x and run this cell to see how it changes.\n",
        "\n",
        "x = \n",
        "print('Lower Case:',x.lower())\n",
        "print('Upper case:',x.upper())\n",
        "print('Title Case:',x.title())"
      ],
      "execution_count": null,
      "outputs": []
    },
    {
      "cell_type": "code",
      "metadata": {
        "id": "M87PYeHs4ui4",
        "colab_type": "code",
        "colab": {}
      },
      "source": [
        "#Additional code cell for practice\n"
      ],
      "execution_count": null,
      "outputs": []
    },
    {
      "cell_type": "code",
      "metadata": {
        "id": "J1I9gXEd4ui6",
        "colab_type": "code",
        "colab": {}
      },
      "source": [
        "#Additional code cell for practice\n"
      ],
      "execution_count": null,
      "outputs": []
    },
    {
      "cell_type": "code",
      "metadata": {
        "id": "0znO0_AN4ui9",
        "colab_type": "code",
        "colab": {}
      },
      "source": [
        "#Additional code cell for practice\n"
      ],
      "execution_count": null,
      "outputs": []
    },
    {
      "cell_type": "code",
      "metadata": {
        "id": "zT-IFlQ74ui_",
        "colab_type": "code",
        "colab": {}
      },
      "source": [
        "#Additional code cell for practice\n"
      ],
      "execution_count": null,
      "outputs": []
    },
    {
      "cell_type": "code",
      "metadata": {
        "id": "DGtibFXS4ujB",
        "colab_type": "code",
        "colab": {}
      },
      "source": [
        "#Additional code cell for practice\n"
      ],
      "execution_count": null,
      "outputs": []
    },
    {
      "cell_type": "markdown",
      "metadata": {
        "id": "d2NEZZXP4ujD",
        "colab_type": "text"
      },
      "source": [
        "<h2> Very Important </h2>"
      ]
    },
    {
      "cell_type": "markdown",
      "metadata": {
        "id": "xb2c_N-w4ujE",
        "colab_type": "text"
      },
      "source": [
        "Let's assign the variable d to the string 'goodbye':"
      ]
    },
    {
      "cell_type": "code",
      "metadata": {
        "id": "-kfzyALu4ujE",
        "colab_type": "code",
        "colab": {}
      },
      "source": [
        "#Run Me!\n",
        "d = 'goodbye'"
      ],
      "execution_count": null,
      "outputs": []
    },
    {
      "cell_type": "markdown",
      "metadata": {
        "id": "5493FM3g4ujH",
        "colab_type": "text"
      },
      "source": [
        "Let's use .upper() to capitalize this string:"
      ]
    },
    {
      "cell_type": "code",
      "metadata": {
        "id": "Ltgq7hl34ujH",
        "colab_type": "code",
        "colab": {}
      },
      "source": [
        "#Run Me!\n",
        "d.upper()"
      ],
      "execution_count": null,
      "outputs": []
    },
    {
      "cell_type": "markdown",
      "metadata": {
        "id": "e4udWw_v4ujK",
        "colab_type": "text"
      },
      "source": [
        "The code above shows us what **d.upper()** *would* look like, **it does not save d as GOODBYE**"
      ]
    },
    {
      "cell_type": "code",
      "metadata": {
        "id": "7a8p-7xS4ujL",
        "colab_type": "code",
        "colab": {}
      },
      "source": [
        "#I'll prove it! \n",
        "#Run Me\n",
        "print(d)"
      ],
      "execution_count": null,
      "outputs": []
    },
    {
      "cell_type": "markdown",
      "metadata": {
        "id": "98-ILWn34ujN",
        "colab_type": "text"
      },
      "source": [
        "When we change the string to **standardize** it, we want to save it as a **new variable** like this:"
      ]
    },
    {
      "cell_type": "code",
      "metadata": {
        "id": "Daz_AbTN4ujN",
        "colab_type": "code",
        "colab": {}
      },
      "source": [
        "#Run Me!\n",
        "d1 = d.upper()\n",
        "\n",
        "#saving d.upper() as a new variable"
      ],
      "execution_count": null,
      "outputs": []
    },
    {
      "cell_type": "code",
      "metadata": {
        "id": "oDLs-snX4ujP",
        "colab_type": "code",
        "colab": {}
      },
      "source": [
        "#Run Me!\n",
        "print(d1)"
      ],
      "execution_count": null,
      "outputs": []
    },
    {
      "cell_type": "markdown",
      "metadata": {
        "id": "eGFmyC8i4ujU",
        "colab_type": "text"
      },
      "source": [
        "**BOOM!** Nice job! Looks like you capitalized GOODBYE."
      ]
    },
    {
      "cell_type": "markdown",
      "metadata": {
        "id": "JphGEAa04ujU",
        "colab_type": "text"
      },
      "source": [
        "<h2><p style=\"text-align: center;\">To Recap:</p></h2>\n",
        "\n",
        "When we receive an input from a user, they may type it in different formats. To **standardize** the format for use in future code, we want all inputs to be either upper case, lower case or title case.\n",
        "\n",
        "To turn a string into all upper case, use **.upper()**\n",
        "To turn a string into all lower case, use **.lower()**\n",
        "To turn a string into title case, use **.title()**\n",
        "\n",
        "If you use any one of those three on a variable, it will show you what the variable will look like, but **it will not save that change**. To save that change you must assign it to a new variable or overwrite the variable (i.e ex2 above)"
      ]
    },
    {
      "cell_type": "markdown",
      "metadata": {
        "id": "7qTroF5V4ujV",
        "colab_type": "text"
      },
      "source": [
        "<h2> 3.2.2 Slicing and Indexing Strings </h2>"
      ]
    },
    {
      "cell_type": "markdown",
      "metadata": {
        "id": "AcrnTsij4ujW",
        "colab_type": "text"
      },
      "source": [
        "What is slicing a string??\n",
        "\n",
        "Slicing a string means we *cut* a string using *indexing*\n",
        "\n",
        "What is indexing?\n",
        "\n",
        "Finding the position of a certain value."
      ]
    },
    {
      "cell_type": "markdown",
      "metadata": {
        "id": "lXbko-Oi4ujW",
        "colab_type": "text"
      },
      "source": [
        "<h2><p style=\"text-align: center;\">**Zakir stop using fancy words!**</p></h2>"
      ]
    },
    {
      "cell_type": "markdown",
      "metadata": {
        "id": "1NJQdsMY4ujW",
        "colab_type": "text"
      },
      "source": [
        "![ChessUrl](https://media.tenor.com/images/fd5b81cab3adb3b76a36c7b3e541124b/tenor.gif)"
      ]
    },
    {
      "cell_type": "markdown",
      "metadata": {
        "id": "3nZ_6ACU4ujX",
        "colab_type": "text"
      },
      "source": [
        "Let me just show you: \n",
        "<h2> **Slicing** </h2>"
      ]
    },
    {
      "cell_type": "markdown",
      "metadata": {
        "id": "GpHSO-wM4ujY",
        "colab_type": "text"
      },
      "source": [
        "Let's look at the word **green**. Slicing this word means producing an output that shows a letter or part of the word such as:\n",
        "    \n",
        "    output 1: gr\n",
        "    output 2: ee\n",
        "    output 3: n\n",
        "    \n",
        "How do we achieve splitting up a word or sentence like this? By **Indexing!**"
      ]
    },
    {
      "cell_type": "markdown",
      "metadata": {
        "id": "spK9b1hE4ujY",
        "colab_type": "text"
      },
      "source": [
        "<h2> **Indexing** </h2>"
      ]
    },
    {
      "cell_type": "markdown",
      "metadata": {
        "id": "P8ETcUv04ujZ",
        "colab_type": "text"
      },
      "source": [
        "Let's look at the word blue. You would normally count:\n",
        "\n",
        "    'b' as being the first letter\n",
        "    'l' being the second letter\n",
        "    'u' being the third letter\n",
        "    'e' being the fourth letter.\n",
        "\n",
        "In Python, we count differently...don't be scared!"
      ]
    },
    {
      "cell_type": "markdown",
      "metadata": {
        "id": "is4LjIS24ujZ",
        "colab_type": "text"
      },
      "source": [
        "![ChessUrl](https://media.giphy.com/media/l41YtZOb9EUABnuqA/giphy.gif)"
      ]
    },
    {
      "cell_type": "markdown",
      "metadata": {
        "id": "SBsLGEEj4ujZ",
        "colab_type": "text"
      },
      "source": [
        "Let's look at the word blue again. In Python we start with 0!\n",
        "\n",
        "    'b' as being letter 0\n",
        "    'l' as being letter 1\n",
        "    'u' as being letter 2\n",
        "    'e' as being letter 3"
      ]
    },
    {
      "cell_type": "markdown",
      "metadata": {
        "id": "PWCh-90q4uja",
        "colab_type": "text"
      },
      "source": [
        "**This is what we call indexing! 'l' is the 1st index in the word blue!**"
      ]
    },
    {
      "cell_type": "markdown",
      "metadata": {
        "id": "sDbM8MV54ujb",
        "colab_type": "text"
      },
      "source": [
        "In the cell below, assign a string to the variable color:"
      ]
    },
    {
      "cell_type": "code",
      "metadata": {
        "id": "ZiSUGwW94ujb",
        "colab_type": "code",
        "colab": {}
      },
      "source": [
        "#Run Me!\n",
        "color = 'red'"
      ],
      "execution_count": null,
      "outputs": []
    },
    {
      "cell_type": "code",
      "metadata": {
        "id": "2dSYmBS44ujd",
        "colab_type": "code",
        "colab": {}
      },
      "source": [
        "#Run Me!\n",
        "color[1]"
      ],
      "execution_count": null,
      "outputs": []
    },
    {
      "cell_type": "markdown",
      "metadata": {
        "id": "1NmasSxN4ujf",
        "colab_type": "text"
      },
      "source": [
        "In the cell above, we **sliced** the variable called color to only display the **second letter** (**1st index**)"
      ]
    },
    {
      "cell_type": "code",
      "metadata": {
        "id": "TjmnmQ3A4ujg",
        "colab_type": "code",
        "colab": {}
      },
      "source": [
        "#Run Me!\n",
        "\n",
        "F = 'racecar'\n",
        "\n",
        "#Below prints out each letter by referencing the index location\n",
        "print(F[0])\n",
        "print(F[1])\n",
        "print(F[2])\n",
        "print(F[3])\n",
        "print(F[4])\n",
        "print(F[5])\n",
        "print(F[6])"
      ],
      "execution_count": null,
      "outputs": []
    },
    {
      "cell_type": "markdown",
      "metadata": {
        "id": "cSAkxj5u4uji",
        "colab_type": "text"
      },
      "source": [
        "In the code cell above, we used the **index** value to print out different letters of the word racecar.\n",
        "\n",
        "**Notice how we started at 0**"
      ]
    },
    {
      "cell_type": "markdown",
      "metadata": {
        "id": "euyrlLJy4ujj",
        "colab_type": "text"
      },
      "source": [
        "<h2> Practice by editing the code cells below </h2>"
      ]
    },
    {
      "cell_type": "code",
      "metadata": {
        "id": "GmdNUYlF4ujj",
        "colab_type": "code",
        "colab": {}
      },
      "source": [
        "#Run Me!\n",
        "x = 'knowledge'"
      ],
      "execution_count": null,
      "outputs": []
    },
    {
      "cell_type": "code",
      "metadata": {
        "id": "vaL4VKo84ujl",
        "colab_type": "code",
        "colab": {}
      },
      "source": [
        "#Print out the 4th letter (fifth index) of variable x\n"
      ],
      "execution_count": null,
      "outputs": []
    },
    {
      "cell_type": "code",
      "metadata": {
        "id": "dr9WWHaa4ujo",
        "colab_type": "code",
        "colab": {}
      },
      "source": [
        "#Print out the 2nd letter (third index) of variable x\n"
      ],
      "execution_count": null,
      "outputs": []
    },
    {
      "cell_type": "code",
      "metadata": {
        "id": "BivLJXoA4ujq",
        "colab_type": "code",
        "colab": {}
      },
      "source": [
        "#Print out the 7nd letter (sixth index) of variable x\n"
      ],
      "execution_count": null,
      "outputs": []
    },
    {
      "cell_type": "code",
      "metadata": {
        "id": "_YordegA4ujs",
        "colab_type": "code",
        "colab": {}
      },
      "source": [
        "#Print out the 1st letter (zero index) of variable x\n"
      ],
      "execution_count": null,
      "outputs": []
    },
    {
      "cell_type": "code",
      "metadata": {
        "id": "xboktgn84ujv",
        "colab_type": "code",
        "colab": {}
      },
      "source": [
        "#Print out the 9st letter (eigth index) of variable x\n"
      ],
      "execution_count": null,
      "outputs": []
    },
    {
      "cell_type": "code",
      "metadata": {
        "id": "kYGHEf1b4ujw",
        "colab_type": "code",
        "colab": {}
      },
      "source": [
        "#Print out the 3rd letter (second index) of variable x\n"
      ],
      "execution_count": null,
      "outputs": []
    },
    {
      "cell_type": "code",
      "metadata": {
        "id": "pP6atq-44ujz",
        "colab_type": "code",
        "colab": {}
      },
      "source": [
        "#Print out the 6th letter (fifth index) of variable x\n"
      ],
      "execution_count": null,
      "outputs": []
    },
    {
      "cell_type": "code",
      "metadata": {
        "id": "X_f2rdvN4uj1",
        "colab_type": "code",
        "colab": {}
      },
      "source": [
        "#Print out the 5th letter (third index) of variable x\n"
      ],
      "execution_count": null,
      "outputs": []
    },
    {
      "cell_type": "code",
      "metadata": {
        "id": "haJjbyH24uj3",
        "colab_type": "code",
        "colab": {}
      },
      "source": [
        "#Print out the 8th letter (seventh index) of variable x\n"
      ],
      "execution_count": null,
      "outputs": []
    },
    {
      "cell_type": "markdown",
      "metadata": {
        "id": "FFOF8I1B4uj4",
        "colab_type": "text"
      },
      "source": [
        "<h2><p style=\"text-align: center;\">What if we want to grab more than just one letter?</p></h2>"
      ]
    },
    {
      "cell_type": "markdown",
      "metadata": {
        "id": "XzHm7H7_4uj5",
        "colab_type": "text"
      },
      "source": [
        "If we wanted to grab more than one letter, we just add a colon between the brackets.\n",
        "\n",
        "On the left side of the colon, we indicate which index we want to start with, on the right side of the colon we add which index we want to stop at **plus** one.\n",
        "\n",
        "    [:]\n",
        "    [start index location:stop index location + 1]"
      ]
    },
    {
      "cell_type": "code",
      "metadata": {
        "id": "dr9e76lp4uj6",
        "colab_type": "code",
        "colab": {}
      },
      "source": [
        "The reason we have to add one to the stop index location is because Python does not grab this index. It grabs the one right before it."
      ],
      "execution_count": null,
      "outputs": []
    },
    {
      "cell_type": "markdown",
      "metadata": {
        "id": "fDv_B0Bv4uj7",
        "colab_type": "text"
      },
      "source": [
        "Let's use the example of 'knowledge' from above:"
      ]
    },
    {
      "cell_type": "code",
      "metadata": {
        "id": "z581u5JM4uj8",
        "colab_type": "code",
        "colab": {}
      },
      "source": [
        "#Run Me!\n",
        "x = 'knowledge'"
      ],
      "execution_count": null,
      "outputs": []
    },
    {
      "cell_type": "code",
      "metadata": {
        "id": "LI56g-xP4uj_",
        "colab_type": "code",
        "colab": {}
      },
      "source": [
        "#Run Me! To grab the 2nd letter to the 5th letter\n",
        "twotofive = x[1:5]\n",
        "print(onetosix)"
      ],
      "execution_count": null,
      "outputs": []
    },
    {
      "cell_type": "markdown",
      "metadata": {
        "id": "baRaPmfY4ukC",
        "colab_type": "text"
      },
      "source": [
        "word:  k n o w l e d g e\n",
        "\n",
        "index: 0 *1* 2 3 4 *5* 6 7 8\n",
        "\n",
        "In the code cell above, we want to grab the **2nd letter** which is the **first index**.\n",
        "\n",
        "We want to stop at the **5th letter** which is the **fourth index**. But since Python reads the ending a bit funky, we have to **figure out our ending index and add one**."
      ]
    },
    {
      "cell_type": "code",
      "metadata": {
        "id": "QOjstxVo4ukC",
        "colab_type": "code",
        "colab": {}
      },
      "source": [
        "#Run Me! To grab the 1st letter to the 3rd letter\n",
        "onetothree = x[0:3]\n",
        "print(onetothree)\n"
      ],
      "execution_count": null,
      "outputs": []
    },
    {
      "cell_type": "markdown",
      "metadata": {
        "id": "nYF5nqOG4ukG",
        "colab_type": "text"
      },
      "source": [
        "word:  k n o w l e d g e\n",
        "\n",
        "index: *0* 1 2 *3* 4 5 6 7 8\n",
        "\n",
        "In the code cell above, we want to grab the **1st letter** which is the **zero index**.\n",
        "\n",
        "We want to stop at the **3th letter** which is the **third index**. But since Python reads the ending a bit funky, we have to **figure out our ending index and add one**."
      ]
    },
    {
      "cell_type": "markdown",
      "metadata": {
        "id": "VnyDfyED4ukG",
        "colab_type": "text"
      },
      "source": [
        "*The above output should be kno*"
      ]
    },
    {
      "cell_type": "code",
      "metadata": {
        "id": "dbh7xttn4ukG",
        "colab_type": "code",
        "colab": {}
      },
      "source": [
        "#Run Me! To grab the 1st letter to the 3rd letter\n",
        "sixtonine = x[5:9]\n",
        "print(sixtonine)"
      ],
      "execution_count": null,
      "outputs": []
    },
    {
      "cell_type": "markdown",
      "metadata": {
        "id": "9Q3xntJ54ukJ",
        "colab_type": "text"
      },
      "source": [
        "*The above output should be edge*"
      ]
    },
    {
      "cell_type": "markdown",
      "metadata": {
        "id": "5fQdKc164ukK",
        "colab_type": "text"
      },
      "source": [
        "The first number in the bracket indicates what **index location** we want to start at (*Python includes this value*). \n",
        "\n",
        "The second number in the bracket indicates what **index location** we want to end at **+ 1** (*Python **does not** include this value*)"
      ]
    },
    {
      "cell_type": "markdown",
      "metadata": {
        "id": "t-tQAmV24ukK",
        "colab_type": "text"
      },
      "source": [
        "<h2> Pro Tip </h2>"
      ]
    },
    {
      "cell_type": "markdown",
      "metadata": {
        "id": "Z-ineGuX4ukL",
        "colab_type": "text"
      },
      "source": [
        "The rules for indexing a word is the same for indexing a sentence or phrase. Here's a breakdown of the index for the sentence \"Hi I'm a string!\":\n",
        "\n",
        "    - H index 0 \n",
        "    - i index 1\n",
        "    -   index 2\n",
        "    - I index 3\n",
        "    - ' index 4\n",
        "    - m index 5\n",
        "    -   index 6\n",
        "    - a index 7\n",
        "    -   index 8\n",
        "    - s index 9\n",
        "    - t index 10\n",
        "    - r index 11\n",
        "    - i index 12\n",
        "    - n index 13\n",
        "    - g index 14\n",
        "    - ! index 15"
      ]
    },
    {
      "cell_type": "code",
      "metadata": {
        "id": "Olmm1WW94ukL",
        "colab_type": "code",
        "colab": {}
      },
      "source": [
        "#Run Me!\n",
        "phrase = \"Hi I'm a string!\""
      ],
      "execution_count": null,
      "outputs": []
    },
    {
      "cell_type": "code",
      "metadata": {
        "id": "Ri_J51iy4ukP",
        "colab_type": "code",
        "colab": {}
      },
      "source": [
        "phrase1 = phrase[0:5]\n",
        "print(phrase1)"
      ],
      "execution_count": null,
      "outputs": []
    },
    {
      "cell_type": "code",
      "metadata": {
        "id": "6LOQbC794ukR",
        "colab_type": "code",
        "colab": {}
      },
      "source": [
        "phrase2 = phrase[4:9]\n",
        "print(phrase2)"
      ],
      "execution_count": null,
      "outputs": []
    },
    {
      "cell_type": "markdown",
      "metadata": {
        "id": "h8zb2aAm4ukS",
        "colab_type": "text"
      },
      "source": [
        "***Notice how Python also counts spaces and punctuation in the index!!***"
      ]
    },
    {
      "cell_type": "markdown",
      "metadata": {
        "id": "WTy4a1wm4ukS",
        "colab_type": "text"
      },
      "source": [
        "<h2><p style=\"text-align: center;\">What if we wanted to know how long a user input or string was?</p></h2>"
      ]
    },
    {
      "cell_type": "markdown",
      "metadata": {
        "id": "ESmsrgMO4ukT",
        "colab_type": "text"
      },
      "source": [
        "The **len()** operator allows us to see how many letters (and spaces) a string is! See it in action:"
      ]
    },
    {
      "cell_type": "code",
      "metadata": {
        "id": "jxagr3d04ukU",
        "colab_type": "code",
        "colab": {}
      },
      "source": [
        "#Run Me! \n",
        "len('zoro')"
      ],
      "execution_count": null,
      "outputs": []
    },
    {
      "cell_type": "code",
      "metadata": {
        "id": "GinRgWyq4ukV",
        "colab_type": "code",
        "colab": {}
      },
      "source": [
        "#Run Me!\n",
        "car = 'Toyota'\n",
        "len(car)"
      ],
      "execution_count": null,
      "outputs": []
    },
    {
      "cell_type": "markdown",
      "metadata": {
        "id": "hjsblda74ukX",
        "colab_type": "text"
      },
      "source": [
        "Practice using the **input()** function and the **len()** operator to see how long different inputs are!\n",
        "\n",
        "Create a variable that holds user input. Then, use the **len()** function on that variable"
      ]
    },
    {
      "cell_type": "code",
      "metadata": {
        "id": "GcFlnEBV4ukY",
        "colab_type": "code",
        "colab": {}
      },
      "source": [
        "#Run Me!\n",
        "\n",
        "z = input()\n",
        "len(z)"
      ],
      "execution_count": null,
      "outputs": []
    },
    {
      "cell_type": "markdown",
      "metadata": {
        "id": "shoRTCw54ukc",
        "colab_type": "text"
      },
      "source": [
        "<h2><p style=\"text-align: center;\">What if we want to grab the last letter of a word?</p></h2>"
      ]
    },
    {
      "cell_type": "markdown",
      "metadata": {
        "id": "v6E0RlDp4ukd",
        "colab_type": "text"
      },
      "source": [
        "If we want to grab the last letter of the word (without knowing the length of the input) we use **negative numbers**.\n",
        "\n",
        "The main difference from what we learned above is that instead when we count from the last letter to the first letter, we start at -1 and continue in the negative direction. Here's a breakdown of the index for the sentence \"Hi I'm a string!\":\n",
        "    - H index 0 = -16\n",
        "    - i index 1 = -15\n",
        "    -   index 2 = -14\n",
        "    - I index 3 = -13\n",
        "    - ' index 4 = -12\n",
        "    - m index 5 = -11\n",
        "    -   index 6 = -10\n",
        "    - a index 7 = -9\n",
        "    -   index 8 = -8\n",
        "    - s index 9 = -7\n",
        "    - t index 10 = -6\n",
        "    - r index 11 = -5\n",
        "    - i index 12 = -4\n",
        "    - n index 13 = -3\n",
        "    - g index 14 = -2\n",
        "    - ! index 15 = -1\n",
        "    \n",
        "If you wanted to grab the '!', using **index 15** or **index -1** would be **the same thing.**"
      ]
    },
    {
      "cell_type": "code",
      "metadata": {
        "id": "nicpDPXI4uke",
        "colab_type": "code",
        "colab": {}
      },
      "source": [
        "#Run Me for proof!\n",
        "string = \"Hi I'm a string!\"\n",
        "print(string[15])\n",
        "print(string[-1])"
      ],
      "execution_count": null,
      "outputs": []
    },
    {
      "cell_type": "code",
      "metadata": {
        "id": "45YFfQbV4ukj",
        "colab_type": "code",
        "colab": {}
      },
      "source": [
        "#Run Me!\n",
        "\n",
        "greeting = 'Good Morning!'\n",
        "print(greeting[-1])\n",
        "print(greeting[-2])\n",
        "print(greeting[-3])\n",
        "print(greeting[-4])\n",
        "print(greeting[-5])\n",
        "print(greeting[-6])\n",
        "print(greeting[-7])\n",
        "print(greeting[-8])\n",
        "print(greeting[-9])\n",
        "print(greeting[-10])\n",
        "print(greeting[-11])\n",
        "print(greeting[-12])\n",
        "print(greeting[-13])\n"
      ],
      "execution_count": null,
      "outputs": []
    },
    {
      "cell_type": "markdown",
      "metadata": {
        "id": "1iy3Sc144ukl",
        "colab_type": "text"
      },
      "source": [
        "<h1><p style=\"text-align: center;\">Your Turn</p></h1>"
      ]
    },
    {
      "cell_type": "markdown",
      "metadata": {
        "id": "XdAAMBNH4ukl",
        "colab_type": "text"
      },
      "source": [
        "Practice 1:"
      ]
    },
    {
      "cell_type": "code",
      "metadata": {
        "id": "Pln4bF0a4ukl",
        "colab_type": "code",
        "colab": {}
      },
      "source": [
        "#Run Me and enter a word or phrase\n",
        "yourturn1 = input()"
      ],
      "execution_count": null,
      "outputs": []
    },
    {
      "cell_type": "code",
      "metadata": {
        "id": "bHT2Bd3r4ukn",
        "colab_type": "code",
        "colab": {}
      },
      "source": [
        "#Capitalize the variable yourturn1 using .upper(), assign to a new variable, print and Run Me!\n",
        "\n"
      ],
      "execution_count": null,
      "outputs": []
    },
    {
      "cell_type": "markdown",
      "metadata": {
        "id": "ysNQCWGL4uko",
        "colab_type": "text"
      },
      "source": [
        "Practice 2:"
      ]
    },
    {
      "cell_type": "code",
      "metadata": {
        "id": "BKOlWPUn4ukp",
        "colab_type": "code",
        "colab": {}
      },
      "source": [
        "yourturn2 = input()"
      ],
      "execution_count": null,
      "outputs": []
    },
    {
      "cell_type": "code",
      "metadata": {
        "id": "0z3nL5OA4ukr",
        "colab_type": "code",
        "colab": {}
      },
      "source": [
        "#Turn all letters to lowercase using .lower(),assign to a new variable, print and Run Me!\n"
      ],
      "execution_count": null,
      "outputs": []
    },
    {
      "cell_type": "markdown",
      "metadata": {
        "id": "shRwtlgI4ukt",
        "colab_type": "text"
      },
      "source": [
        "Practice 3:"
      ]
    },
    {
      "cell_type": "code",
      "metadata": {
        "id": "kRz9ixwx4ukt",
        "colab_type": "code",
        "colab": {}
      },
      "source": [
        "#Run Me!\n",
        "yourturn3 = \"chicago is the best!\""
      ],
      "execution_count": null,
      "outputs": []
    },
    {
      "cell_type": "code",
      "metadata": {
        "id": "e0jo_9xx4ukw",
        "colab_type": "code",
        "colab": {}
      },
      "source": [
        "#Use .title() so every first letter of yourturn3 is capitalized,assign to a new variable, print and Run Me!\n",
        "\n"
      ],
      "execution_count": null,
      "outputs": []
    },
    {
      "cell_type": "markdown",
      "metadata": {
        "id": "tS8AJsRK4uky",
        "colab_type": "text"
      },
      "source": [
        "Practice 4:"
      ]
    },
    {
      "cell_type": "code",
      "metadata": {
        "id": "AyW58fuW4uky",
        "colab_type": "code",
        "colab": {}
      },
      "source": [
        "#Run Me!\n",
        "practice4 = 'folder'"
      ],
      "execution_count": null,
      "outputs": []
    },
    {
      "cell_type": "code",
      "metadata": {
        "id": "z8OWyc8X4ukz",
        "colab_type": "code",
        "colab": {}
      },
      "source": [
        "#Grab the first through the fifth LETTER from the variable practice4; Run Me!\n"
      ],
      "execution_count": null,
      "outputs": []
    },
    {
      "cell_type": "markdown",
      "metadata": {
        "id": "RYTij6S94uk1",
        "colab_type": "text"
      },
      "source": [
        "*The output above should be folde*"
      ]
    },
    {
      "cell_type": "markdown",
      "metadata": {
        "id": "7_8hdjX84uk2",
        "colab_type": "text"
      },
      "source": [
        "Practice 5:"
      ]
    },
    {
      "cell_type": "code",
      "metadata": {
        "id": "0BNqJwiq4uk2",
        "colab_type": "code",
        "colab": {}
      },
      "source": [
        "#Create a variable and assign it to a word or phrase\n"
      ],
      "execution_count": null,
      "outputs": []
    },
    {
      "cell_type": "code",
      "metadata": {
        "id": "6UKmtIQs4uk3",
        "colab_type": "code",
        "colab": {}
      },
      "source": [
        "#Grab the second to last letter of the variable you created above. \n"
      ],
      "execution_count": null,
      "outputs": []
    },
    {
      "cell_type": "markdown",
      "metadata": {
        "id": "ICKJtQKH4uk4",
        "colab_type": "text"
      },
      "source": [
        "Now practice creating your own variables, playing around with .upper(), .lower(), .title() and slicing that variable at different index values!"
      ]
    },
    {
      "cell_type": "code",
      "metadata": {
        "id": "SnBiRO6p4uk5",
        "colab_type": "code",
        "colab": {}
      },
      "source": [
        "#Example\n",
        "greeting = \"hello nice to meet you\"\n",
        "\n",
        "#capitalize string\n",
        "greetingcapitalize = greeting.upper()\n",
        "\n",
        "#grabbed the first four letters\n",
        "greetingfirstfour = greetingcapitalize[0:5]\n",
        "\n",
        "#grabbed the last five letters\n",
        "greetinglastfiveletters = greetingcapitalize[16:]\n",
        "\n",
        "#printing\n",
        "print(greetingfirstfour)\n",
        "print(greetinglastfiveletters)"
      ],
      "execution_count": null,
      "outputs": []
    },
    {
      "cell_type": "code",
      "metadata": {
        "id": "NOcZUyNs4uk6",
        "colab_type": "code",
        "colab": {}
      },
      "source": [
        "#Additional code cell for practice"
      ],
      "execution_count": null,
      "outputs": []
    },
    {
      "cell_type": "code",
      "metadata": {
        "id": "JoSJ4yZS4uk8",
        "colab_type": "code",
        "colab": {}
      },
      "source": [
        "#Additional code cell for practice"
      ],
      "execution_count": null,
      "outputs": []
    },
    {
      "cell_type": "code",
      "metadata": {
        "id": "1x9ylopi4uk-",
        "colab_type": "code",
        "colab": {}
      },
      "source": [
        "#Additional code cell for practice"
      ],
      "execution_count": null,
      "outputs": []
    },
    {
      "cell_type": "code",
      "metadata": {
        "id": "spZXlOQo4uk_",
        "colab_type": "code",
        "colab": {}
      },
      "source": [
        "#Additional code cell for practice"
      ],
      "execution_count": null,
      "outputs": []
    },
    {
      "cell_type": "code",
      "metadata": {
        "id": "IO1I5zvh4ulD",
        "colab_type": "code",
        "colab": {}
      },
      "source": [
        "#Additional code cell for practice"
      ],
      "execution_count": null,
      "outputs": []
    },
    {
      "cell_type": "code",
      "metadata": {
        "id": "ZLgpuNXp4ulE",
        "colab_type": "code",
        "colab": {}
      },
      "source": [
        "#Additional code cell for practice"
      ],
      "execution_count": null,
      "outputs": []
    },
    {
      "cell_type": "code",
      "metadata": {
        "id": "1DWU2-9J4ulF",
        "colab_type": "code",
        "colab": {}
      },
      "source": [
        "#Additional code cell for practice"
      ],
      "execution_count": null,
      "outputs": []
    },
    {
      "cell_type": "code",
      "metadata": {
        "id": "Vjnz4_o_4ulL",
        "colab_type": "code",
        "colab": {}
      },
      "source": [
        "#Additional code cell for practice"
      ],
      "execution_count": null,
      "outputs": []
    },
    {
      "cell_type": "code",
      "metadata": {
        "id": "lrMHp-gY4ulN",
        "colab_type": "code",
        "colab": {}
      },
      "source": [
        "#Additional code cell for practice"
      ],
      "execution_count": null,
      "outputs": []
    },
    {
      "cell_type": "code",
      "metadata": {
        "id": "yTlvHEx34ulO",
        "colab_type": "code",
        "colab": {}
      },
      "source": [
        "#Additional code cell for practice"
      ],
      "execution_count": null,
      "outputs": []
    },
    {
      "cell_type": "code",
      "metadata": {
        "id": "ElJ66JjC4ulQ",
        "colab_type": "code",
        "colab": {}
      },
      "source": [
        "#Additional code cell for practice"
      ],
      "execution_count": null,
      "outputs": []
    },
    {
      "cell_type": "code",
      "metadata": {
        "id": "mT3mDHrh4ulR",
        "colab_type": "code",
        "colab": {}
      },
      "source": [
        "#Additional code cell for practice"
      ],
      "execution_count": null,
      "outputs": []
    },
    {
      "cell_type": "code",
      "metadata": {
        "id": "DHBl6GAf4ulT",
        "colab_type": "code",
        "colab": {}
      },
      "source": [
        "#Additional code cell for practice"
      ],
      "execution_count": null,
      "outputs": []
    },
    {
      "cell_type": "code",
      "metadata": {
        "id": "K4s3cGcX4ulT",
        "colab_type": "code",
        "colab": {}
      },
      "source": [
        "#Additional code cell for practice"
      ],
      "execution_count": null,
      "outputs": []
    },
    {
      "cell_type": "markdown",
      "metadata": {
        "id": "Q9GWzVcG4ulX",
        "colab_type": "text"
      },
      "source": [
        "<h3><p style=\"text-align: center;\">Congrats! You're on your way to becoming a string, slicing and dicing (indexing) master!</p></h3>"
      ]
    },
    {
      "cell_type": "markdown",
      "metadata": {
        "id": "iR1Mu-lj4ulY",
        "colab_type": "text"
      },
      "source": [
        "![ChessUrl](https://media2.giphy.com/media/26h0oZIGGOFZdZj4Q/200w.webp?cid=ecf05e47d97a3bc089e1736614f566431f15435116b46ae5&rid=200w.webp)"
      ]
    },
    {
      "cell_type": "markdown",
      "metadata": {
        "id": "UkAXJt7O4ulY",
        "colab_type": "text"
      },
      "source": [
        "<h1><p style=\"text-align: center;\"> Thank you for looking over Notebook 3. Send any feedback to zap1295@yahoo.com </p></h1>"
      ]
    },
    {
      "cell_type": "markdown",
      "metadata": {
        "id": "L-cLtM3I4ulZ",
        "colab_type": "text"
      },
      "source": [
        "© June 2020 Zakir Pasha"
      ]
    },
    {
      "cell_type": "code",
      "metadata": {
        "id": "K9d7WaxT4ulZ",
        "colab_type": "code",
        "colab": {}
      },
      "source": [
        ""
      ],
      "execution_count": null,
      "outputs": []
    }
  ]
}