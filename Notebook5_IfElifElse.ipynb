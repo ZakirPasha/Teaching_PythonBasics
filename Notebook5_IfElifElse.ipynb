{
  "nbformat": 4,
  "nbformat_minor": 0,
  "metadata": {
    "kernelspec": {
      "display_name": "Python 3",
      "language": "python",
      "name": "python3"
    },
    "language_info": {
      "codemirror_mode": {
        "name": "ipython",
        "version": 3
      },
      "file_extension": ".py",
      "mimetype": "text/x-python",
      "name": "python",
      "nbconvert_exporter": "python",
      "pygments_lexer": "ipython3",
      "version": "3.6.5"
    },
    "colab": {
      "name": "Notebook5_IfElifElse (1).ipynb",
      "provenance": []
    }
  },
  "cells": [
    {
      "cell_type": "markdown",
      "metadata": {
        "id": "Yb6F4lhH496S",
        "colab_type": "text"
      },
      "source": [
        "<h1><p style=\"text-align: center;\"> Notebook 5. If..Elif..Else </p></h1>\n"
      ]
    },
    {
      "cell_type": "markdown",
      "metadata": {
        "id": "l7XPLJ0J496S",
        "colab_type": "text"
      },
      "source": [
        "Welcome to Notebook 5! Here are some important notes from Notebook 4:\n",
        "\n",
        "- You learned how to change between data types:\n",
        "        \n",
        "        - To make a variable a integer, you use int()\n",
        "        - To make a variable a float, you use float()\n",
        "        - To make a variable a string, you use str()\n",
        "        \n",
        "  And why do we want to be able to do this? We can only do math or compare numbers when we turn them into either **integers** or **floats**\n",
        "  \n",
        "  \n",
        "- You also visually saw how to do math functions with numbers as well as how to compare them."
      ]
    },
    {
      "cell_type": "markdown",
      "metadata": {
        "id": "sYzgxN3F496T",
        "colab_type": "text"
      },
      "source": [
        "<h1> 5.1 Statement Overview </h1>"
      ]
    },
    {
      "cell_type": "markdown",
      "metadata": {
        "id": "m9xZHbpk496U",
        "colab_type": "text"
      },
      "source": [
        "<h1> If Statements </h1>"
      ]
    },
    {
      "cell_type": "markdown",
      "metadata": {
        "id": "LOXWsSsI496V",
        "colab_type": "text"
      },
      "source": [
        "People always learn better by learning...let's get started!"
      ]
    },
    {
      "cell_type": "code",
      "metadata": {
        "id": "B2WtqdRC496V",
        "colab_type": "code",
        "colab": {}
      },
      "source": [
        "#Run Me!\n",
        "if 8 < 9:\n",
        "    print('Hello')"
      ],
      "execution_count": null,
      "outputs": []
    },
    {
      "cell_type": "markdown",
      "metadata": {
        "id": "D_MdPLo-496Y",
        "colab_type": "text"
      },
      "source": [
        "The code cell above shows if 8 is less than 9, print the word 'Hello'. Easy enough right?!"
      ]
    },
    {
      "cell_type": "code",
      "metadata": {
        "id": "R81iL7CJ496Y",
        "colab_type": "code",
        "colab": {}
      },
      "source": [
        "#Run Me!\n",
        "#What do you think will happen when you run this code?\n",
        "if 8 > 9:\n",
        "    print('Hello')\n",
        "    \n",
        "    "
      ],
      "execution_count": null,
      "outputs": []
    },
    {
      "cell_type": "markdown",
      "metadata": {
        "id": "mSW_fR3d496c",
        "colab_type": "text"
      },
      "source": [
        "Nothing! Because 8 is not greater than 9, the cell runs but nothing happens (is printed!)"
      ]
    },
    {
      "cell_type": "markdown",
      "metadata": {
        "id": "pLLfWfog496d",
        "colab_type": "text"
      },
      "source": [
        "<h1> Elif Statements </h1>"
      ]
    },
    {
      "cell_type": "code",
      "metadata": {
        "id": "oMBMENjB496d",
        "colab_type": "code",
        "colab": {}
      },
      "source": [
        "#Run Me!\n",
        "#What do you think will happen when you run this code?\n",
        "if 8 > 9:\n",
        "    print('Hello')\n",
        "elif 8 > 4:\n",
        "    print('Goodbye')\n",
        "    \n",
        "    "
      ],
      "execution_count": null,
      "outputs": []
    },
    {
      "cell_type": "markdown",
      "metadata": {
        "id": "DkG-JLHX496g",
        "colab_type": "text"
      },
      "source": [
        "Elif is short for 'else,if' and is used **only after an if statement** to compare another set of values."
      ]
    },
    {
      "cell_type": "code",
      "metadata": {
        "id": "hSXc3yxD496g",
        "colab_type": "code",
        "colab": {}
      },
      "source": [
        "#Run Me!\n",
        "#What do you think will happen when you run this code?\n",
        "if 8 > 2:\n",
        "    print('Hello')\n",
        "elif 8 > 4:\n",
        "    print('Goodbye')"
      ],
      "execution_count": null,
      "outputs": []
    },
    {
      "cell_type": "markdown",
      "metadata": {
        "id": "4BPn0rvL496k",
        "colab_type": "text"
      },
      "source": [
        "Notice how we printed out Hello because 8 is greater than 2. We only see Goodbye, if the first if statement fails (is False)"
      ]
    },
    {
      "cell_type": "markdown",
      "metadata": {
        "id": "Sn6Y20rP496l",
        "colab_type": "text"
      },
      "source": [
        "<h1> Else </h1>"
      ]
    },
    {
      "cell_type": "code",
      "metadata": {
        "id": "rImqx6A6496l",
        "colab_type": "code",
        "colab": {}
      },
      "source": [
        "#Run Me!\n",
        "#What do you think will happen when you run this code?\n",
        "\n",
        "if 8 < 2:\n",
        "    print('Hello')\n",
        "elif 8 < 4:\n",
        "    print('Goodbye')\n",
        "else:\n",
        "    print('The first two expressions were false, so I am printing!')"
      ],
      "execution_count": null,
      "outputs": []
    },
    {
      "cell_type": "markdown",
      "metadata": {
        "id": "e_RgbNhQ496q",
        "colab_type": "text"
      },
      "source": [
        "The code cell above includes the **else** statement which can only be ran after an if or an elif statement. Becuase the first two expressions were false, we default to the else statement which prints *The first two expressions were false, so I am printing!*"
      ]
    },
    {
      "cell_type": "markdown",
      "metadata": {
        "id": "cDVJDSDp496q",
        "colab_type": "text"
      },
      "source": [
        "<h1><p style=\"text-align: center;\"> Seems simple right? Let's pick things up here! </p></h1>"
      ]
    },
    {
      "cell_type": "code",
      "metadata": {
        "id": "rB7n_cRe496r",
        "colab_type": "code",
        "colab": {}
      },
      "source": [
        "#Run Me!\n",
        "#Assigning and doing math with variables\n",
        "\n",
        "x = 4\n",
        "y = 6\n",
        "\n",
        "if (x+y) > 8:\n",
        "    print('The sum of x and y were greater than 8.')\n",
        "else:\n",
        "    print('The sum of x and y were less than 8.')"
      ],
      "execution_count": null,
      "outputs": []
    },
    {
      "cell_type": "code",
      "metadata": {
        "id": "NrAWi-MA496t",
        "colab_type": "code",
        "colab": {}
      },
      "source": [
        "#Run Me!\n",
        "#Assigning strings to variables\n",
        "\n",
        "x = 'window'\n",
        "y = 'door'\n",
        "\n",
        "if y == 'window':\n",
        "    print('The word was window.')\n",
        "elif y == 'door':\n",
        "    print('The word was door.')"
      ],
      "execution_count": null,
      "outputs": []
    },
    {
      "cell_type": "code",
      "metadata": {
        "id": "XiZWuQ1z496w",
        "colab_type": "code",
        "colab": {}
      },
      "source": [
        "#Comparing data types\n",
        "\n",
        "z = 'words'\n",
        "\n",
        "if type(z) == int:\n",
        "    print('The variable is a string!')\n",
        "elif type(z) == float:\n",
        "    print('The variable is a float!')\n",
        "else:\n",
        "    print('I am neither a float or integer...I must be a string!')"
      ],
      "execution_count": null,
      "outputs": []
    },
    {
      "cell_type": "code",
      "metadata": {
        "id": "KNvu_jmW496y",
        "colab_type": "code",
        "colab": {}
      },
      "source": [
        "#Additional code cells for your practice!"
      ],
      "execution_count": null,
      "outputs": []
    },
    {
      "cell_type": "code",
      "metadata": {
        "id": "V6ceMS7t4962",
        "colab_type": "code",
        "colab": {}
      },
      "source": [
        "#Additional code cells for your practice!"
      ],
      "execution_count": null,
      "outputs": []
    },
    {
      "cell_type": "code",
      "metadata": {
        "id": "C8CUW4m-4965",
        "colab_type": "code",
        "colab": {}
      },
      "source": [
        "#Additional code cells for your practice!"
      ],
      "execution_count": null,
      "outputs": []
    },
    {
      "cell_type": "code",
      "metadata": {
        "id": "Gf1FOp0i4967",
        "colab_type": "code",
        "colab": {}
      },
      "source": [
        "#Additional code cells for your practice!"
      ],
      "execution_count": null,
      "outputs": []
    },
    {
      "cell_type": "code",
      "metadata": {
        "id": "eiUwm5Ga4969",
        "colab_type": "code",
        "colab": {}
      },
      "source": [
        "#Additional code cells for your practice!"
      ],
      "execution_count": null,
      "outputs": []
    },
    {
      "cell_type": "code",
      "metadata": {
        "id": "eLDaRuyV497A",
        "colab_type": "code",
        "colab": {}
      },
      "source": [
        "#Additional code cells for your practice!"
      ],
      "execution_count": null,
      "outputs": []
    },
    {
      "cell_type": "code",
      "metadata": {
        "id": "C_AdDxxJ497C",
        "colab_type": "code",
        "colab": {}
      },
      "source": [
        "#Additional code cells for your practice!"
      ],
      "execution_count": null,
      "outputs": []
    },
    {
      "cell_type": "code",
      "metadata": {
        "id": "bsrc6UDw497I",
        "colab_type": "code",
        "colab": {}
      },
      "source": [
        "#Additional code cells for your practice!"
      ],
      "execution_count": null,
      "outputs": []
    },
    {
      "cell_type": "markdown",
      "metadata": {
        "id": "da4cpg0r497J",
        "colab_type": "text"
      },
      "source": [
        "<h1><p style=\"text-align: center;\"> Advanced/Nested If...Elif...Else Examples </p></h1>"
      ]
    },
    {
      "cell_type": "markdown",
      "metadata": {
        "id": "i84NgMJv497K",
        "colab_type": "text"
      },
      "source": [
        "**Pay attention to this example! We're going to be bringing in stuff we learned from past notebooks.**"
      ]
    },
    {
      "cell_type": "markdown",
      "metadata": {
        "id": "37DB03FD497K",
        "colab_type": "text"
      },
      "source": [
        "<h2> Example 1 </h2>"
      ]
    },
    {
      "cell_type": "code",
      "metadata": {
        "id": "ICNKWxMo497L",
        "colab_type": "code",
        "colab": {}
      },
      "source": [
        "#Run Me!\n",
        "x = input(\"What is the capital of Iowa?: \")\n",
        "\n",
        "if x == 'DES MOINES':\n",
        "    print('Correct!')\n",
        "else:\n",
        "    print(\"You're wrong! It's Des Moines.\")\n"
      ],
      "execution_count": null,
      "outputs": []
    },
    {
      "cell_type": "markdown",
      "metadata": {
        "id": "dWObiavi497N",
        "colab_type": "text"
      },
      "source": [
        "If the code cell above did not print out Correct!, keep reading...\n",
        "\n",
        "\n",
        "**Because we're building on top of what we learned from past notebooks, what do you think went wrong with the code above?**"
      ]
    },
    {
      "cell_type": "markdown",
      "metadata": {
        "id": "euOB4X2V497N",
        "colab_type": "text"
      },
      "source": [
        "We didn't **standardize (Notebook 3)** the input!\n",
        "\n",
        "Our code was expecting the answer to be DES MOINES. Unless you typed that in (all capital letters), our code said you were wrong."
      ]
    },
    {
      "cell_type": "markdown",
      "metadata": {
        "id": "zuIHzjem497N",
        "colab_type": "text"
      },
      "source": [
        "What's missing in this code to make it print out 'Correct!'?\n",
        "\n",
        "Add to the code below:"
      ]
    },
    {
      "cell_type": "code",
      "metadata": {
        "id": "k4lLjo8Y497O",
        "colab_type": "code",
        "colab": {}
      },
      "source": [
        "#Run Me!\n",
        "x = input(\"What is the capital of Iowa?: \")\n",
        "\n",
        "#type something here to capitalize the variable x and store it as x!\n",
        "\n",
        "if x == 'DES MOINES':\n",
        "    print('Correct!')\n",
        "else:\n",
        "    print(\"You're wrong! It's Des Moines.\")\n"
      ],
      "execution_count": null,
      "outputs": []
    },
    {
      "cell_type": "markdown",
      "metadata": {
        "id": "1yDmkuS0497Q",
        "colab_type": "text"
      },
      "source": [
        "If you printed out 'Correct!', then great! \n",
        "\n",
        "If not....here's a hint: use .upper() on x and overwrite x"
      ]
    },
    {
      "cell_type": "markdown",
      "metadata": {
        "id": "ZMhwGHE6497S",
        "colab_type": "text"
      },
      "source": [
        "<h2> Example 2 </h2>"
      ]
    },
    {
      "cell_type": "code",
      "metadata": {
        "id": "JKaRfGAL497S",
        "colab_type": "code",
        "colab": {}
      },
      "source": [
        "#Run Me!\n",
        "userinput = input(\"What year were you born in?: \")\n",
        "\n",
        "if (2020 - userinput) < 24:\n",
        "    print('You are younger than me!')\n",
        "elif (2020 - userinput) == 24:\n",
        "    print('We are the same age!')\n",
        "else:\n",
        "    print('You are older than me!')"
      ],
      "execution_count": null,
      "outputs": []
    },
    {
      "cell_type": "markdown",
      "metadata": {
        "id": "eSwFxUyy497U",
        "colab_type": "text"
      },
      "source": [
        "You might have noticed that the computer yelled at you in the above cell. \n",
        "\n",
        "**What are we missing in the code cell above to make it run correctly?**\n",
        "\n",
        "Hint: We're comparing *integers* to one another. What type does a **input()** spit out?"
      ]
    },
    {
      "cell_type": "code",
      "metadata": {
        "id": "WrNvnasC497U",
        "colab_type": "code",
        "colab": {}
      },
      "source": [
        "#Run Me!\n",
        "userinput = input(\"What year were you born in?: \")\n",
        "\n",
        "#type something here to turn the userinput into a integer and overwrite the userinput variable!\n",
        "\n",
        "\n",
        "if (2020 - userinput) < 24:\n",
        "    print('You are younger than me!')\n",
        "elif (2020 - userinput) == 24:\n",
        "    print('We are the same age!')\n",
        "else:\n",
        "    print('You are older than me!')"
      ],
      "execution_count": null,
      "outputs": []
    },
    {
      "cell_type": "markdown",
      "metadata": {
        "id": "q9v_u2CK497X",
        "colab_type": "text"
      },
      "source": [
        "Once you make that fix, this will tell you if you are older, younger, or the same age as me!"
      ]
    },
    {
      "cell_type": "markdown",
      "metadata": {
        "id": "RxalJrHp497Z",
        "colab_type": "text"
      },
      "source": [
        "<h2> Example 3 </h2>"
      ]
    },
    {
      "cell_type": "markdown",
      "metadata": {
        "id": "Ispixjd5497Z",
        "colab_type": "text"
      },
      "source": [
        "In this example I'm going to show you what **nesting** means:"
      ]
    },
    {
      "cell_type": "code",
      "metadata": {
        "id": "6452obH6497a",
        "colab_type": "code",
        "colab": {}
      },
      "source": [
        "#Run Me!\n",
        "\n",
        "#I'm going to call this question 1\n",
        "z = input(\"What is your favorite sport to play?: \")\n",
        "\n",
        "#if the input to question 1 is soccer, this portion of the code will run\n",
        "if z.lower() == 'soccer':\n",
        "    \n",
        "    #I'm going to call this question1a\n",
        "    newquestion = input(\"Did you like scoring or defending?: \")\n",
        "    \n",
        "    #if the user answers scoring for question1a, this portion of the code will run.\n",
        "    if newquestion.lower() == 'scoring':\n",
        "        #I'm going to call this question 1b\n",
        "        lastquestion = input(\"Were you the best on your team at scoring? (Yes/No): \")\n",
        "        #If the user answers yes to question 1b, this will run.\n",
        "        if lastquestion.lower() == 'yes':\n",
        "            print('Me too!')\n",
        "        #If the user answers no to question 1b, this will run.\n",
        "        elif lastquestion.lower() == 'no':\n",
        "            print(\"That's okay!\")\n",
        "            \n",
        "    #if the user answers defending for question1a, this portion of the code will run.\n",
        "    elif newquestion.lower() == 'defending':\n",
        "        print('Ugh, I hated defense')\n",
        "        \n",
        "        \n",
        "#if the input to question 1 is basketball, this portion of the code will run\n",
        "elif z.lower() == 'basketball':\n",
        "    newquestion1 = input(\"Were you short or tall?: \")\n",
        "    if newquestion.lower() == 'short':\n",
        "        print('You were probably quick though!')\n",
        "    elif newquestion.lower() == 'tall':\n",
        "        print('Me too!')\n",
        "        \n",
        "        \n",
        "#if the input to question 1 is anything except soccer or basketball, this portion of the code will run       \n",
        "else:\n",
        "    print('Cool!')"
      ],
      "execution_count": null,
      "outputs": []
    },
    {
      "cell_type": "markdown",
      "metadata": {
        "id": "sNa1oWXF497b",
        "colab_type": "text"
      },
      "source": [
        "The code above may look like alot but it's just a bunch of if/elif/else statements underneath one another. We call this **nesting**."
      ]
    },
    {
      "cell_type": "markdown",
      "metadata": {
        "id": "_fRg7FvQ497c",
        "colab_type": "text"
      },
      "source": [
        "The code cell above takes a **user input** asking for their **favorite sport**. If the user types in **soccer** the code **standardizes** it by putting it all in **lowercase** and then **asks the user if they liked scoring or defending**. If the user enters **scoring** it then asks **if they were the best on their team**. If they answer **yes** or **no**, a different statement will be printed out.\n",
        "\n",
        "\n",
        "If the user did not answer **soccer** to the first question, but instead answered **basketball**, they would be asked if theyw ere **tall or short**. If they said **short**, 'You were probably quick though!' will print out. If they answered **tall**, 'Me too!' will print out.\n",
        "\n",
        "If the user did not enter basketball or soccer to the first question, 'Cool!' will print out."
      ]
    },
    {
      "cell_type": "markdown",
      "metadata": {
        "id": "ztDsyH6T497c",
        "colab_type": "text"
      },
      "source": [
        "<h3><p style=\"text-align: center;\">   You can nest if/elif/else under other if/elif/else for eternity! Think of it as a little kid constantly asking you follow up questions! </p></h3>"
      ]
    },
    {
      "cell_type": "code",
      "metadata": {
        "id": "qAZcvQ-m497d",
        "colab_type": "code",
        "colab": {}
      },
      "source": [
        "#Additional code cell for anything you want to practice!\n",
        "\n"
      ],
      "execution_count": null,
      "outputs": []
    },
    {
      "cell_type": "code",
      "metadata": {
        "id": "gJtRLMcK497f",
        "colab_type": "code",
        "colab": {}
      },
      "source": [
        "#Additional code cell for anything you want to practice!\n",
        "\n"
      ],
      "execution_count": null,
      "outputs": []
    },
    {
      "cell_type": "code",
      "metadata": {
        "id": "pvoyKoPh497h",
        "colab_type": "code",
        "colab": {}
      },
      "source": [
        "#Additional code cell for anything you want to practice!\n",
        "\n"
      ],
      "execution_count": null,
      "outputs": []
    },
    {
      "cell_type": "code",
      "metadata": {
        "id": "LDocm3QX497j",
        "colab_type": "code",
        "colab": {}
      },
      "source": [
        "#Additional code cell for anything you want to practice!\n",
        "\n"
      ],
      "execution_count": null,
      "outputs": []
    },
    {
      "cell_type": "code",
      "metadata": {
        "id": "zLYupCGG497m",
        "colab_type": "code",
        "colab": {}
      },
      "source": [
        "#Additional code cell for anything you want to practice!\n",
        "\n"
      ],
      "execution_count": null,
      "outputs": []
    },
    {
      "cell_type": "code",
      "metadata": {
        "id": "k2qLKgSb497o",
        "colab_type": "code",
        "colab": {}
      },
      "source": [
        "#Additional code cell for anything you want to practice!\n",
        "\n"
      ],
      "execution_count": null,
      "outputs": []
    },
    {
      "cell_type": "code",
      "metadata": {
        "id": "DO4zEnq0497q",
        "colab_type": "code",
        "colab": {}
      },
      "source": [
        "#Additional code cell for anything you want to practice!\n",
        "\n"
      ],
      "execution_count": null,
      "outputs": []
    },
    {
      "cell_type": "code",
      "metadata": {
        "id": "MfkRF0El497t",
        "colab_type": "code",
        "colab": {}
      },
      "source": [
        "#Additional code cell for anything you want to practice!\n",
        "\n"
      ],
      "execution_count": null,
      "outputs": []
    },
    {
      "cell_type": "code",
      "metadata": {
        "id": "f22qDX0m497u",
        "colab_type": "code",
        "colab": {}
      },
      "source": [
        "#Additional code cell for anything you want to practice!\n",
        "\n"
      ],
      "execution_count": null,
      "outputs": []
    },
    {
      "cell_type": "markdown",
      "metadata": {
        "id": "XTUuIP0R497w",
        "colab_type": "text"
      },
      "source": [
        "<h2><p style=\"text-align: center;\"> To Recap: </p></h2>\n",
        "\n",
        "1. If, Elif, and Else are all logical statements. \n",
        "\n",
        "\n",
        "2. When the logical statement is true, whatever code is underneath (after the colon) will be executed.\n",
        "\n",
        "\n",
        "3. These are great to compare values or user input to one another.\n",
        "\n",
        "\n",
        "4. We can use if, elif and else with strings, integers, floats.\n",
        "\n",
        "5. Nesting means putting more if/elif/else statments underneath another if/elif/else statement."
      ]
    },
    {
      "cell_type": "markdown",
      "metadata": {
        "id": "rW6u_dBD497x",
        "colab_type": "text"
      },
      "source": [
        "<h3><p style=\"text-align: center;\">Believe it or not, that's pretty much it for a If..Elif..Else overview! Next we'll learn about functions!!! </p></h3>"
      ]
    },
    {
      "cell_type": "markdown",
      "metadata": {
        "id": "D4SjxRpB497y",
        "colab_type": "text"
      },
      "source": [
        "![ChessUrl](https://media3.giphy.com/media/dYZB8uP3WHqeQ57Xp6/giphy.gif?cid=ecf05e4777ee5ff2888daff85b1deacdf686235fbf712a57&rid=giphy.gif)"
      ]
    },
    {
      "cell_type": "markdown",
      "metadata": {
        "id": "1mm1KfTU497y",
        "colab_type": "text"
      },
      "source": [
        "<h1><p style=\"text-align: center;\"> Thank you for looking over Notebook 5. Send any feedback to zap1295@yahoo.com </p></h1>"
      ]
    },
    {
      "cell_type": "markdown",
      "metadata": {
        "id": "SFVmtdsL497y",
        "colab_type": "text"
      },
      "source": [
        "© June 2020 Zakir Pasha"
      ]
    },
    {
      "cell_type": "code",
      "metadata": {
        "id": "yrqR7nFN497z",
        "colab_type": "code",
        "colab": {}
      },
      "source": [
        ""
      ],
      "execution_count": null,
      "outputs": []
    }
  ]
}