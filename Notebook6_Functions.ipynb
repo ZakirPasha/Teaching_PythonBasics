{
  "nbformat": 4,
  "nbformat_minor": 0,
  "metadata": {
    "kernelspec": {
      "display_name": "Python 3",
      "language": "python",
      "name": "python3"
    },
    "language_info": {
      "codemirror_mode": {
        "name": "ipython",
        "version": 3
      },
      "file_extension": ".py",
      "mimetype": "text/x-python",
      "name": "python",
      "nbconvert_exporter": "python",
      "pygments_lexer": "ipython3",
      "version": "3.6.5"
    },
    "colab": {
      "name": "Notebook6_Functions (1).ipynb",
      "provenance": []
    }
  },
  "cells": [
    {
      "cell_type": "markdown",
      "metadata": {
        "id": "UCv2wxRn5F1_",
        "colab_type": "text"
      },
      "source": [
        "<h1><p style=\"text-align: center;\"> Notebook 6. Functions </p></h1>\n"
      ]
    },
    {
      "cell_type": "markdown",
      "metadata": {
        "id": "fEEvkiIJ5F2B",
        "colab_type": "text"
      },
      "source": [
        "Welcome to Notebook 6! Here are some important notes from Notebook 5:\n",
        "\n",
        "- You learned about if, elif, and else values.\n",
        "\n",
        "- When you see these three stacked on eachother like this:\n",
        "        \n",
        "          if 6 > 7:\n",
        "            print('yes')\n",
        "          elif 6 < 1:\n",
        "            print('no')\n",
        "          else:\n",
        "            print('maybe so')\n",
        "            \n",
        "            \n",
        "  Only the value that is True will be executed. In this case, the if value is false, the elif value is false, so the else value is printed.\n",
        "        \n",
        "- We also learned we can use integers, strings, or floats with if, elif, else statemetns.\n",
        "\n",
        "- The great part about using if, elif, else statements is to compare values whether they're assigned to variables or from user input."
      ]
    },
    {
      "cell_type": "markdown",
      "metadata": {
        "id": "TMCeWLHA5F2B",
        "colab_type": "text"
      },
      "source": [
        "<h1> 6.1 Functions 101 </h1>"
      ]
    },
    {
      "cell_type": "markdown",
      "metadata": {
        "id": "VrUF_-ND5F2B",
        "colab_type": "text"
      },
      "source": [
        "When you picture \"fancy\" code that probably scares (or interests) you, 99% of the time you're looking at functions.\n",
        "\n",
        "**What are Functions?**\n",
        "\n",
        "In Zakir language, functions take inputs and do specific operations to produce an output. \n",
        "\n",
        "You can create a function to do a certain action, and *call the function* (I'll get into this below) later when you have inputs.\n",
        "\n",
        "Functions are awesome because you can GET super in depth with what you want to do with a input, or it can as simple as printing out the input (what a pointless function right?)"
      ]
    },
    {
      "cell_type": "markdown",
      "metadata": {
        "id": "N-DXXesL5F2C",
        "colab_type": "text"
      },
      "source": [
        "Functions that get super in depth, I like to call them....."
      ]
    },
    {
      "cell_type": "markdown",
      "metadata": {
        "id": "aedXWOIq5F2D",
        "colab_type": "text"
      },
      "source": [
        "![ChessUrl](https://media3.giphy.com/media/YmtHxLNu1hUSg88Hzl/giphy.webp?cid=ecf05e479fb5eeecae95dbe3ebe5d5e4f43535453079f89f&rid=giphy.webp)"
      ]
    },
    {
      "cell_type": "markdown",
      "metadata": {
        "id": "Pymb6jgM5F2D",
        "colab_type": "text"
      },
      "source": [
        "<h2> Let me introduce you to your first function! </h2>\n",
        "\n",
        "I'll break down the components after you run it."
      ]
    },
    {
      "cell_type": "code",
      "metadata": {
        "id": "bW1I44CO5F2E",
        "colab_type": "code",
        "colab": {},
        "outputId": "5d6849fd-48d5-4803-e420-74e78d033088"
      },
      "source": [
        "#Run Me!\n",
        "\n",
        "def addone(x):\n",
        "    x = x+1\n",
        "    print(x)\n",
        "    \n",
        "addone(3)    "
      ],
      "execution_count": null,
      "outputs": [
        {
          "output_type": "stream",
          "text": [
            "4\n"
          ],
          "name": "stdout"
        }
      ]
    },
    {
      "cell_type": "markdown",
      "metadata": {
        "id": "IB0Z5VSZ5F2H",
        "colab_type": "text"
      },
      "source": [
        "You just ran some fancy code up there! Let's break the code cell down to two parts:"
      ]
    },
    {
      "cell_type": "markdown",
      "metadata": {
        "id": "0zfiZCYJ5F2I",
        "colab_type": "text"
      },
      "source": [
        "<h1> 6.1.1 Part 1: The Function Itself </h1>"
      ]
    },
    {
      "cell_type": "code",
      "metadata": {
        "id": "R3Kmhl8G5F2J",
        "colab_type": "code",
        "colab": {}
      },
      "source": [
        "#This is the function itself (First Part).\n",
        "#Run this after reading the breakdown below.\n",
        "def addone(x):\n",
        "    x = x+1\n",
        "    print(x)"
      ],
      "execution_count": null,
      "outputs": []
    },
    {
      "cell_type": "markdown",
      "metadata": {
        "id": "mldIxOCA5F2L",
        "colab_type": "text"
      },
      "source": [
        "The only thing that may look foreign here is the first line!\n",
        "\n",
        "<p style=\"text-align: center;\">**Think of this first line similiar to a 'Save As...' option**</p>\n",
        "\n",
        "\n",
        "\n",
        "The first part **def**, tells the computer it's a function. **This is necessary for every function you make**. It's literally short for *define* aka defining a function!\n",
        "\n",
        "The second part **addone(x)** is the name we're going to **save this function as, and how many arguments (variables) in takes**. In this case the name is **addone**. The x in the parantheses tells the function itself how many arguments (variables) are needed for the function. \n",
        "\n",
        "In this case, we need one argument because everything done afterwards is done with one variable, x."
      ]
    },
    {
      "cell_type": "markdown",
      "metadata": {
        "id": "R0Y1_Rf25F2M",
        "colab_type": "text"
      },
      "source": [
        "Lastly, notice the **indentation** after the colon. When you create your own function and type out the first line including the colon and press Enter, Python will automatically indent for you and you can start typing what exactly you want the function to do."
      ]
    },
    {
      "cell_type": "markdown",
      "metadata": {
        "id": "gT6OsvuD5F2M",
        "colab_type": "text"
      },
      "source": [
        "After running the first part above, this is what the computer says to itself (**not really but hear me out**):"
      ]
    },
    {
      "cell_type": "markdown",
      "metadata": {
        "id": "fh7UTCox5F2N",
        "colab_type": "text"
      },
      "source": [
        "    \"Dope! A function (I know this is a function becuase of the def tag)! This function is called addone and it will    take one argument. This argument will be assigned to the x variable. This function involves adding one to   the  variable x, then overwriting the variable to be the new x. Then it prints out x. Cool! Got it!\n",
        "    \n",
        "    I'll only do this if this function gets called and I know what to replace x with. Until then, I'll just chill."
      ]
    },
    {
      "cell_type": "markdown",
      "metadata": {
        "id": "HVKK7a-b5F2O",
        "colab_type": "text"
      },
      "source": [
        "Notice how nothing was printed after running the first part of the function above. To **activate** the function, we need to call it."
      ]
    },
    {
      "cell_type": "markdown",
      "metadata": {
        "id": "t9HOB-Rf5F2O",
        "colab_type": "text"
      },
      "source": [
        "<h1> 6.1.2 Part 2: Calling the Function </h1>"
      ]
    },
    {
      "cell_type": "code",
      "metadata": {
        "id": "jzifQwoy5F2P",
        "colab_type": "code",
        "colab": {},
        "outputId": "41a62398-16d7-4658-96d1-bb3e4e3b8670"
      },
      "source": [
        "#This is called calling the function (Second Part).\n",
        "#Run after reading the breakdown below.\n",
        "\n",
        "addone(10)"
      ],
      "execution_count": null,
      "outputs": [
        {
          "output_type": "stream",
          "text": [
            "11\n"
          ],
          "name": "stdout"
        }
      ]
    },
    {
      "cell_type": "markdown",
      "metadata": {
        "id": "T9rMZgP45F2U",
        "colab_type": "text"
      },
      "source": [
        "When you run the cell above, this is what the computer says to itself (**not really but hear me out**):"
      ]
    },
    {
      "cell_type": "markdown",
      "metadata": {
        "id": "wUfXK4_E5F2U",
        "colab_type": "text"
      },
      "source": [
        "    \"The function addone was called. Hmm....was addone defined earlier? Yeah it was! I remembered from earlier how  to do this. Looks like the user replaced x with 10. Let me run through that function from earlier!\""
      ]
    },
    {
      "cell_type": "markdown",
      "metadata": {
        "id": "vC7fFmEj5F2V",
        "colab_type": "text"
      },
      "source": [
        "*The code cell above should have printed out 11.*"
      ]
    },
    {
      "cell_type": "markdown",
      "metadata": {
        "id": "DbmRX-q55F2V",
        "colab_type": "text"
      },
      "source": [
        "I know **for a fact** that's not how I learned how functions worked, but that's how I think about them! Things will start to click once you make your own basic functions."
      ]
    },
    {
      "cell_type": "markdown",
      "metadata": {
        "id": "v0kYW_En5F2V",
        "colab_type": "text"
      },
      "source": [
        "<h2> Create Your Own Functions! </h2>"
      ]
    },
    {
      "cell_type": "code",
      "metadata": {
        "id": "6TeOvmGG5F2W",
        "colab_type": "code",
        "colab": {}
      },
      "source": [
        "#create a function called add10 that adds 10 to the input and prints the new value. Your input can be any number.\n",
        "#don't forget to call your function!\n"
      ],
      "execution_count": null,
      "outputs": []
    },
    {
      "cell_type": "code",
      "metadata": {
        "id": "0lpG8l2w5F2Z",
        "colab_type": "code",
        "colab": {}
      },
      "source": [
        "#create a function called minus4 that subtracts 4 from the input and prints the new value. Your input can be any number.\n",
        "#don't forget to call your function!\n",
        "\n"
      ],
      "execution_count": null,
      "outputs": []
    },
    {
      "cell_type": "code",
      "metadata": {
        "id": "eMVQOOM35F2c",
        "colab_type": "code",
        "colab": {}
      },
      "source": [
        "#create a function called multiply3 that multiplies the input by 3 and prints the new value. \n",
        "#Your input can be any number. \n",
        "#don't forget to call your function!\n",
        "\n",
        "\n"
      ],
      "execution_count": null,
      "outputs": []
    },
    {
      "cell_type": "code",
      "metadata": {
        "id": "mmzDy6sH5F2f",
        "colab_type": "code",
        "colab": {}
      },
      "source": [
        "#create a function called half that divides the input by 2. Your input can be any number.\n",
        "#don't forget to call your function!\n"
      ],
      "execution_count": null,
      "outputs": []
    },
    {
      "cell_type": "markdown",
      "metadata": {
        "id": "9z3YrYU25F2i",
        "colab_type": "text"
      },
      "source": [
        "<h1> 6.1.3 Functions save us time by not having to type out code over and over again. </h1>\n",
        "\n",
        "We just create a function that does a certain task, and we call it when we want that task done!"
      ]
    },
    {
      "cell_type": "code",
      "metadata": {
        "id": "vUbtLjmV5F2i",
        "colab_type": "code",
        "colab": {}
      },
      "source": [
        "#Run Me!\n",
        "def mathwiththreenumbers(x,y,z):\n",
        "    x = x + 2\n",
        "    y = y + 2\n",
        "    z = z + 2\n",
        "    print(x+y+z)"
      ],
      "execution_count": null,
      "outputs": []
    },
    {
      "cell_type": "markdown",
      "metadata": {
        "id": "wCY2atDs5F2k",
        "colab_type": "text"
      },
      "source": [
        "In the code cell above, we saved the function as **mathwiththreenumbers**. It takes three inputs, adds two to each input, then adds them all together. "
      ]
    },
    {
      "cell_type": "markdown",
      "metadata": {
        "id": "yJJQIBWo5F2m",
        "colab_type": "text"
      },
      "source": [
        "Let's say we wanted to do this with a bunch of different numbers.\n",
        "\n",
        "Instead of typing out\n",
        "\n",
        "x = [new number]<br>\n",
        "y = [new number]<br>\n",
        "z = [new number]<br>\n",
        "\n",
        "x = x  x  2<br>\n",
        "y = y  x  2<br>\n",
        "z = z  x  2<br>\n",
        "print(x+y+z)<br>\n",
        "\n",
        "\n",
        "for all the different numbers we can throw in there, we can just **call the function** with different values."
      ]
    },
    {
      "cell_type": "code",
      "metadata": {
        "id": "SaS1S9OI5F2m",
        "colab_type": "code",
        "colab": {},
        "outputId": "fe34df0c-c2e7-45b4-cdc7-a791a8f15e5c"
      },
      "source": [
        "#Run Me!\n",
        "mathwiththreenumbers(5,6,7)"
      ],
      "execution_count": null,
      "outputs": [
        {
          "output_type": "stream",
          "text": [
            "24\n"
          ],
          "name": "stdout"
        }
      ]
    },
    {
      "cell_type": "code",
      "metadata": {
        "id": "ba4Yd5Qy5F2o",
        "colab_type": "code",
        "colab": {},
        "outputId": "dfd6f604-59a2-4efc-8da6-6d655d10bdfc"
      },
      "source": [
        "#Enter your own 3 values!\n",
        "#Run Me!\n",
        "mathwiththreenumbers(100,300,123214)"
      ],
      "execution_count": null,
      "outputs": [
        {
          "output_type": "stream",
          "text": [
            "123620\n"
          ],
          "name": "stdout"
        }
      ]
    },
    {
      "cell_type": "code",
      "metadata": {
        "id": "ngHSRS7i5F2r",
        "colab_type": "code",
        "colab": {},
        "outputId": "46f65d3a-b8e9-41b4-cc32-88d9ce24562a"
      },
      "source": [
        "#Enter your own 3 values!\n",
        "#Run Me!\n",
        "mathwiththreenumbers(5,99,422)"
      ],
      "execution_count": null,
      "outputs": [
        {
          "output_type": "stream",
          "text": [
            "532\n"
          ],
          "name": "stdout"
        }
      ]
    },
    {
      "cell_type": "markdown",
      "metadata": {
        "id": "H3BXotZa5F2u",
        "colab_type": "text"
      },
      "source": [
        "<h2>So far we've created a few functions called addone, mathwiththreenumbers, add10, minus4, etc. </h2>"
      ]
    },
    {
      "cell_type": "markdown",
      "metadata": {
        "id": "NunNckah5F2v",
        "colab_type": "text"
      },
      "source": [
        "To really focus in on how important functions are, with **writing one line of code** do the following:"
      ]
    },
    {
      "cell_type": "code",
      "metadata": {
        "id": "U0WPWL-y5F2y",
        "colab_type": "code",
        "colab": {},
        "outputId": "a6754475-bf40-4a78-fe88-f92660abcbdc"
      },
      "source": [
        "#call the function addone with the number 900\n",
        "addone(900)"
      ],
      "execution_count": null,
      "outputs": [
        {
          "output_type": "stream",
          "text": [
            "901\n"
          ],
          "name": "stdout"
        }
      ]
    },
    {
      "cell_type": "markdown",
      "metadata": {
        "id": "9aEUXvXO5F21",
        "colab_type": "text"
      },
      "source": [
        "*This should print out 901.*"
      ]
    },
    {
      "cell_type": "code",
      "metadata": {
        "id": "fse6YPZE5F21",
        "colab_type": "code",
        "colab": {},
        "outputId": "bce5bf49-1eb3-4720-ff56-eea225e29b2b"
      },
      "source": [
        "#call the function addthreenumbers with the numbers 10,20,30 as variables.\n",
        "\n"
      ],
      "execution_count": null,
      "outputs": [
        {
          "output_type": "stream",
          "text": [
            "120\n"
          ],
          "name": "stdout"
        }
      ]
    },
    {
      "cell_type": "markdown",
      "metadata": {
        "id": "_-wMVuC15F24",
        "colab_type": "text"
      },
      "source": [
        "*This should print out 120.*"
      ]
    },
    {
      "cell_type": "code",
      "metadata": {
        "id": "AGVwKH6J5F24",
        "colab_type": "code",
        "colab": {}
      },
      "source": [
        "#call the function minus4 with the number 475 as the variable.\n",
        "\n"
      ],
      "execution_count": null,
      "outputs": []
    },
    {
      "cell_type": "markdown",
      "metadata": {
        "id": "IRvDEe3Q5F26",
        "colab_type": "text"
      },
      "source": [
        "*This should print out 471*"
      ]
    },
    {
      "cell_type": "code",
      "metadata": {
        "id": "RBxd5lxD5F27",
        "colab_type": "code",
        "colab": {}
      },
      "source": [
        "#call the function multiplyby3 with the number 3 as the variable.\n",
        "\n"
      ],
      "execution_count": null,
      "outputs": []
    },
    {
      "cell_type": "markdown",
      "metadata": {
        "id": "LRhq35ku5F2-",
        "colab_type": "text"
      },
      "source": [
        "*This should print out 9*"
      ]
    },
    {
      "cell_type": "markdown",
      "metadata": {
        "id": "4GKidImX5F2-",
        "colab_type": "text"
      },
      "source": [
        "<h2> See how much easier functions are than typing out repetitive code?! </h2>"
      ]
    },
    {
      "cell_type": "markdown",
      "metadata": {
        "id": "s3EdMByi5F2-",
        "colab_type": "text"
      },
      "source": [
        "<h1> Let's add user input to our function! </h1>"
      ]
    },
    {
      "cell_type": "code",
      "metadata": {
        "id": "KLl6L4l45F2_",
        "colab_type": "code",
        "colab": {},
        "outputId": "ab7f7e34-c761-4a9c-aad0-d787adc537bc"
      },
      "source": [
        "#Run Me!\n",
        "def greeting(firstname):\n",
        "    print('Hey',firstname,'!',\"You're doing great! Keep it up!\")\n",
        "    \n",
        "\n",
        "greeting(input('What is your first name?: '))"
      ],
      "execution_count": null,
      "outputs": [
        {
          "output_type": "stream",
          "text": [
            "What is your first name?: zak\n",
            "Hey zak ! You're doing great! Keep it up!\n"
          ],
          "name": "stdout"
        }
      ]
    },
    {
      "cell_type": "markdown",
      "metadata": {
        "id": "MZs3pun75F3B",
        "colab_type": "text"
      },
      "source": [
        "Looking at how we call the code cell above, we **replace the variable firstname with user input.**"
      ]
    },
    {
      "cell_type": "markdown",
      "metadata": {
        "id": "VIE-FnFf5F3B",
        "colab_type": "text"
      },
      "source": [
        "This creates a function that prints out:\n",
        "    \n",
        "    Hey (user's first name)! You're doing great! Keep it up!"
      ]
    },
    {
      "cell_type": "code",
      "metadata": {
        "id": "zUii9Fsw5F3C",
        "colab_type": "code",
        "colab": {},
        "outputId": "dd1b9d51-bf29-445b-bbde-a1ea0c211f5a"
      },
      "source": [
        "#call the function created above (greeting), but this time enter a string value between the parantheses in greeting()\n",
        "#instead of asking for user input.\n",
        "\n"
      ],
      "execution_count": null,
      "outputs": [
        {
          "output_type": "stream",
          "text": [
            "Hey hi ! You're doing great! Keep it up!\n"
          ],
          "name": "stdout"
        }
      ]
    },
    {
      "cell_type": "markdown",
      "metadata": {
        "id": "NhqXTHjx5F3E",
        "colab_type": "text"
      },
      "source": [
        "<h2> Practices </h2> \n",
        "\n",
        "*If you get stuck, answers are on the very bottom of this notebook*"
      ]
    },
    {
      "cell_type": "markdown",
      "metadata": {
        "id": "AbmxVt1b5F3F",
        "colab_type": "text"
      },
      "source": [
        "<h3> Practice 1: </h3>"
      ]
    },
    {
      "cell_type": "markdown",
      "metadata": {
        "id": "heKf6i2R5F3F",
        "colab_type": "text"
      },
      "source": [
        "What I want you to do is create a function called **initals** which takes in **2** arguments. Name the first argument **firstname**, and the second argument **lastname**. Inside the function, **print** out the first letter of the first name and the first letter of the last name (aka your initials!). \n",
        "\n",
        "\n",
        "Heres the tricky part. When **calling your function**, use user input for both arguments. Ask **What's your first name?** for the first argument and **What's your last name?** for the second argument. Hint: See above example how I asked for user input."
      ]
    },
    {
      "cell_type": "code",
      "metadata": {
        "id": "iR1jHH2Y5F3H",
        "colab_type": "code",
        "colab": {},
        "outputId": "b009e664-269f-4796-ccac-bd5ef79a5cfd"
      },
      "source": [
        "#Run Me!\n",
        "\n",
        "\n",
        "\n",
        "\n"
      ],
      "execution_count": null,
      "outputs": [
        {
          "output_type": "stream",
          "text": [
            "First Name: Zakir\n",
            "Last Name: Pasha\n",
            "Z P\n"
          ],
          "name": "stdout"
        }
      ]
    },
    {
      "cell_type": "markdown",
      "metadata": {
        "id": "gc1jPSFe5F3K",
        "colab_type": "text"
      },
      "source": [
        "<h3> Practice 2: </h3>"
      ]
    },
    {
      "cell_type": "markdown",
      "metadata": {
        "id": "X6nEhCf85F3K",
        "colab_type": "text"
      },
      "source": [
        "Create a function called **favoritenumber** and have it take **1** argument called **number**. Inside the function, **convert the input to a integer** and save as a variable called **intnumber**. Divide intnumber by 2 and save as a variable called **halfofnumber**. Use the **print** function to print halfofnumber.\n",
        "\n",
        "When **calling your function**, use user input to ask your user **What's your favorite number?: **"
      ]
    },
    {
      "cell_type": "code",
      "metadata": {
        "id": "eQmJbw6Z5F3K",
        "colab_type": "code",
        "colab": {},
        "outputId": "5027a264-07e9-45b4-f5d3-5b513331e1d4"
      },
      "source": [
        "#Run Me!\n",
        "\n",
        "\n",
        "\n",
        "\n"
      ],
      "execution_count": null,
      "outputs": [
        {
          "output_type": "stream",
          "text": [
            "What's your favorite number?: 100\n",
            "50.0\n"
          ],
          "name": "stdout"
        }
      ]
    },
    {
      "cell_type": "markdown",
      "metadata": {
        "id": "dkHZroHx5F3N",
        "colab_type": "text"
      },
      "source": [
        "<h3> Practice 3: </h3>"
      ]
    },
    {
      "cell_type": "markdown",
      "metadata": {
        "id": "pEHelFjD5F3N",
        "colab_type": "text"
      },
      "source": [
        "Create a function called **tempchange** that takes **1** argument called **fahrenheit**. Inside the function, take the variable **fahrenheit** and convert it to a **integer** and overwrite the variable **fahrenheit**. Then convert the fahrenheit to celsius using the condensed formula below:\n",
        "\n",
        "Celcius = (F-30)/2\n",
        "\n",
        "Have this be equal to the variable named **celsius**, then **print** celsius.\n",
        "\n",
        "When **calling your function**, use user input to ask your user **Enter temperature in fahrenheit: **"
      ]
    },
    {
      "cell_type": "code",
      "metadata": {
        "id": "-75zPsf_5F3O",
        "colab_type": "code",
        "colab": {}
      },
      "source": [
        "#Run Me!\n",
        "\n",
        "\n",
        "\n"
      ],
      "execution_count": null,
      "outputs": []
    },
    {
      "cell_type": "code",
      "metadata": {
        "id": "QqCNRdKX5F3Q",
        "colab_type": "code",
        "colab": {}
      },
      "source": [
        "#Additional code cell for whatever you want try/practice!"
      ],
      "execution_count": null,
      "outputs": []
    },
    {
      "cell_type": "code",
      "metadata": {
        "id": "HiG77XTA5F3S",
        "colab_type": "code",
        "colab": {}
      },
      "source": [
        "#Additional code cell for whatever you want try/practice!"
      ],
      "execution_count": null,
      "outputs": []
    },
    {
      "cell_type": "code",
      "metadata": {
        "id": "6sS1WrQD5F3U",
        "colab_type": "code",
        "colab": {}
      },
      "source": [
        "#Additional code cell for whatever you want try/practice!"
      ],
      "execution_count": null,
      "outputs": []
    },
    {
      "cell_type": "code",
      "metadata": {
        "id": "j2-3L3He5F3W",
        "colab_type": "code",
        "colab": {}
      },
      "source": [
        "#Additional code cell for whatever you want try/practice!"
      ],
      "execution_count": null,
      "outputs": []
    },
    {
      "cell_type": "code",
      "metadata": {
        "id": "zogAaNBE5F3Y",
        "colab_type": "code",
        "colab": {}
      },
      "source": [
        "#Additional code cell for whatever you want try/practice!"
      ],
      "execution_count": null,
      "outputs": []
    },
    {
      "cell_type": "code",
      "metadata": {
        "id": "6CGPwPQa5F3b",
        "colab_type": "code",
        "colab": {}
      },
      "source": [
        "#Additional code cell for whatever you want try/practice!"
      ],
      "execution_count": null,
      "outputs": []
    },
    {
      "cell_type": "code",
      "metadata": {
        "id": "XM9N60mI5F3d",
        "colab_type": "code",
        "colab": {}
      },
      "source": [
        "#Additional code cell for whatever you want try/practice!"
      ],
      "execution_count": null,
      "outputs": []
    },
    {
      "cell_type": "code",
      "metadata": {
        "id": "uaHP_cb_5F3g",
        "colab_type": "code",
        "colab": {}
      },
      "source": [
        "#Additional code cell for whatever you want try/practice!"
      ],
      "execution_count": null,
      "outputs": []
    },
    {
      "cell_type": "code",
      "metadata": {
        "id": "3x7raZDc5F3i",
        "colab_type": "code",
        "colab": {}
      },
      "source": [
        "#Additional code cell for whatever you want try/practice!"
      ],
      "execution_count": null,
      "outputs": []
    },
    {
      "cell_type": "code",
      "metadata": {
        "id": "-_UeE5Fr5F3k",
        "colab_type": "code",
        "colab": {}
      },
      "source": [
        "#Additional code cell for whatever you want try/practice!"
      ],
      "execution_count": null,
      "outputs": []
    },
    {
      "cell_type": "code",
      "metadata": {
        "id": "Ru6OE_xA5F3m",
        "colab_type": "code",
        "colab": {}
      },
      "source": [
        "#Additional code cell for whatever you want try/practice!"
      ],
      "execution_count": null,
      "outputs": []
    },
    {
      "cell_type": "code",
      "metadata": {
        "id": "dvfegV0j5F3p",
        "colab_type": "code",
        "colab": {}
      },
      "source": [
        "#Additional code cell for whatever you want try/practice!"
      ],
      "execution_count": null,
      "outputs": []
    },
    {
      "cell_type": "code",
      "metadata": {
        "id": "PahuF96j5F3s",
        "colab_type": "code",
        "colab": {}
      },
      "source": [
        "#Additional code cell for whatever you want try/practice!"
      ],
      "execution_count": null,
      "outputs": []
    },
    {
      "cell_type": "markdown",
      "metadata": {
        "id": "FP390rXh5F3u",
        "colab_type": "text"
      },
      "source": [
        "<h2><p style=\"text-align: center;\"> To Recap: </p></h2>\n",
        "\n",
        "1. Functions allow us to save code that we can apply different inputs to later on.\n",
        "\n",
        "\n",
        "2. Every function needs to have 'def', the name, and placeholders for the numbers of arguments that are needed.\n",
        "\n",
        "\n",
        "3. Think of functions as 'Save As..' buttons that save certain code so we can call it later on if we want that task completed.\n",
        "\n",
        "\n",
        "4. Calling a function just means replacing the variable with values to actually run the function.\n",
        "\n",
        "\n",
        "5. MOST IMPORTANTLY, functions save us a ton of time by allowing us to reuse code over and over again.\n"
      ]
    },
    {
      "cell_type": "markdown",
      "metadata": {
        "id": "zQSpFA4j5F3v",
        "colab_type": "text"
      },
      "source": [
        "<h3><p style=\"text-align: center;\">Congrats on completing Functions! In the next notebook, we'll be putting all your knowledge together!</p></h3>"
      ]
    },
    {
      "cell_type": "markdown",
      "metadata": {
        "id": "mx1R2XT25F3v",
        "colab_type": "text"
      },
      "source": [
        "![ChessUrl](https://media2.giphy.com/media/LmNwrBhejkK9EFP504/giphy.gif?cid=ecf05e474e0da958beef0c59f1d128f326fa8fd792b5e1a3&rid=giphy.gif)"
      ]
    },
    {
      "cell_type": "code",
      "metadata": {
        "id": "ReG4KMtb5F3v",
        "colab_type": "code",
        "colab": {}
      },
      "source": [
        "#Practice 1 Answer\n",
        "\n",
        "def initials(firstname,lastname):\n",
        "    print(firstname[0],lastname[0])\n",
        "    \n",
        "    \n",
        "initials(input(\"First Name: \"),input(\"Last Name: \"))\n"
      ],
      "execution_count": null,
      "outputs": []
    },
    {
      "cell_type": "code",
      "metadata": {
        "id": "c_sBwgo75F3y",
        "colab_type": "code",
        "colab": {}
      },
      "source": [
        "#Practice 2 Answer\n",
        "\n",
        "def favoritenumber(number):\n",
        "    intnumber = int(number)\n",
        "    halfofnumber = intnumber / 2\n",
        "    print(halfofnumber)\n",
        "    \n",
        "favoritenumber(input(\"What's your favorite number?: \"))"
      ],
      "execution_count": null,
      "outputs": []
    },
    {
      "cell_type": "code",
      "metadata": {
        "id": "eINocyFk5F32",
        "colab_type": "code",
        "colab": {}
      },
      "source": [
        "#Practice 3 Answer\n",
        "\n",
        "def tempchange(fahrenheit):\n",
        "    fahrenheit = int(fahrenheit)\n",
        "    celsius = (fahrenheit-30)/2\n",
        "    print(celsius)\n",
        "    \n",
        "    \n",
        "tempchange(input('Enter temperature in fahrenheit: '))"
      ],
      "execution_count": null,
      "outputs": []
    },
    {
      "cell_type": "markdown",
      "metadata": {
        "id": "UAhEQF345F34",
        "colab_type": "text"
      },
      "source": [
        "<h1><p style=\"text-align: center;\"> Thank you for looking over Notebook 6. Send any feedback to zap1295@yahoo.com </p></h1>"
      ]
    },
    {
      "cell_type": "markdown",
      "metadata": {
        "id": "PfLCtxWS5F34",
        "colab_type": "text"
      },
      "source": [
        "© June 2020 Zakir Pasha"
      ]
    }
  ]
}