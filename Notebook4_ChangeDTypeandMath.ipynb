{
  "nbformat": 4,
  "nbformat_minor": 0,
  "metadata": {
    "kernelspec": {
      "display_name": "Python 3",
      "language": "python",
      "name": "python3"
    },
    "language_info": {
      "codemirror_mode": {
        "name": "ipython",
        "version": 3
      },
      "file_extension": ".py",
      "mimetype": "text/x-python",
      "name": "python",
      "nbconvert_exporter": "python",
      "pygments_lexer": "ipython3",
      "version": "3.6.5"
    },
    "colab": {
      "name": "Notebook4_ChangeDTypeandMath (3).ipynb",
      "provenance": []
    }
  },
  "cells": [
    {
      "cell_type": "markdown",
      "metadata": {
        "id": "fLK4gVYm42b5",
        "colab_type": "text"
      },
      "source": [
        "<h1><p style=\"text-align: center;\"> Changing Data Types and Math Functions </p></h1>\n"
      ]
    },
    {
      "cell_type": "markdown",
      "metadata": {
        "id": "xL6AVG0H42b5",
        "colab_type": "text"
      },
      "source": [
        "Welcome to Notebook 4! Here are some important notes from Notebook 3:\n",
        "\n",
        "- You learned three ways to **standardize** inputs:\n",
        "\n",
        "        .upper()\n",
        "        .lower()\n",
        "        .title()\n",
        "    \n",
        "- The reason we do this is because people may answer questions in different ways (different capitalization) and the computer might be expecting a certain format. It's safer to just make the input one format and write advanced code to change it into something we expect.\n",
        "\n",
        "\n",
        "- You also learned about **slicing** and **indexing**. In Python, we count starting with 0 instead of 1. We use brackets [  ] and a number to reference a certain index in a string.\n",
        "\n",
        "\n",
        "- If we want to pull multiple letters from a string, we use a colon between the brackets( [ : ] ). The first number before the colon is the starting index which is included in the output. The second number is the index where we want to stop, at **plus** one. Python does not pull this index value.\n",
        "\n",
        "        [index start : index end + 1]"
      ]
    },
    {
      "cell_type": "markdown",
      "metadata": {
        "id": "ioFzeK4Z42b6",
        "colab_type": "text"
      },
      "source": [
        "<h1> 4.1 Changing Data Types </h1>"
      ]
    },
    {
      "cell_type": "markdown",
      "metadata": {
        "id": "CmCYhdxl42b7",
        "colab_type": "text"
      },
      "source": [
        "<h2> I bet you're tired of talking about strings.... </h2>"
      ]
    },
    {
      "cell_type": "markdown",
      "metadata": {
        "id": "verTxVZn42b7",
        "colab_type": "text"
      },
      "source": [
        "![ChessUrl](https://media3.giphy.com/media/26BGqofNXjxluwX0k/200w.webp?cid=ecf05e475197021b2551910a0350e788b2848172dee7c06f&rid=200w.webp)"
      ]
    },
    {
      "cell_type": "markdown",
      "metadata": {
        "id": "UWFrV8gj42b8",
        "colab_type": "text"
      },
      "source": [
        "<h2> Let's change those strings to something else! </h2>"
      ]
    },
    {
      "cell_type": "markdown",
      "metadata": {
        "id": "uPwCCGsD42b8",
        "colab_type": "text"
      },
      "source": [
        "As stated in Notebook 1 we have (as of right now) three major data types:\n",
        "\n",
        "    Integer (Whole Number; i.e 98)\n",
        "    Float (Decimal; i.e 98.453\n",
        "    String (Quotes; i.e '98')"
      ]
    },
    {
      "cell_type": "markdown",
      "metadata": {
        "id": "za__MwNO42b9",
        "colab_type": "text"
      },
      "source": [
        "<h2><p style=\"text-align: center;\">Why would I want to change between Data Types?</p></h2>"
      ]
    },
    {
      "cell_type": "markdown",
      "metadata": {
        "id": "0GG4mI-v42b-",
        "colab_type": "text"
      },
      "source": [
        "In Notebook 2, using the **input()** function had every user input be a **string** data type. "
      ]
    },
    {
      "cell_type": "markdown",
      "metadata": {
        "id": "fGTR0-g442b-",
        "colab_type": "text"
      },
      "source": [
        "***We can't do math with strings! We have to convert those strings to integers or floats first!***"
      ]
    },
    {
      "cell_type": "markdown",
      "metadata": {
        "id": "i5pfo2Oo42b_",
        "colab_type": "text"
      },
      "source": [
        "Here is how we change strings to integers or floats:"
      ]
    },
    {
      "cell_type": "code",
      "metadata": {
        "id": "RBdZUc-m42b_",
        "colab_type": "code",
        "colab": {}
      },
      "source": [
        "#Run Me!\n",
        "stringvalue = '1234'\n",
        "print(type(stringvalue),stringvalue)\n",
        "\n",
        "#converting string to integer\n",
        "integervalue = int(stringvalue)\n",
        "#printing the type of the variable integervalue, and integervalue\n",
        "print(type(integervalue),integervalue)\n",
        "\n",
        "#converting string to float\n",
        "floatvalue = float(stringvalue)\n",
        "#printing the type of the variable floatvalue, and floatvalue\n",
        "print(type(floatvalue),floatvalue)"
      ],
      "execution_count": null,
      "outputs": []
    },
    {
      "cell_type": "markdown",
      "metadata": {
        "id": "quKi5yBy42cD",
        "colab_type": "text"
      },
      "source": [
        "As seen in the cell above, if we want to convert a string to integer we just use the **int()** function. If we want to convert a string to a float, we use the **float()** function."
      ]
    },
    {
      "cell_type": "code",
      "metadata": {
        "id": "jUS9QE7G42cD",
        "colab_type": "code",
        "colab": {}
      },
      "source": [
        "#Run Me! Answer the question with either an integer or a float.\n",
        "q1 = input()"
      ],
      "execution_count": null,
      "outputs": []
    },
    {
      "cell_type": "code",
      "metadata": {
        "id": "Uum3x0qK42cG",
        "colab_type": "code",
        "colab": {}
      },
      "source": [
        "#Run Me! And see the data type of the input\n",
        "print(type(q1))"
      ],
      "execution_count": null,
      "outputs": []
    },
    {
      "cell_type": "code",
      "metadata": {
        "id": "AYIwgbom42cJ",
        "colab_type": "code",
        "colab": {}
      },
      "source": [
        "#Run Me! And see my data type\n",
        "q1integer = int(q1)\n",
        "print(type(q1integer))\n",
        "\n",
        "#converting to integer!"
      ],
      "execution_count": null,
      "outputs": []
    },
    {
      "cell_type": "code",
      "metadata": {
        "id": "3teH8V1X42cN",
        "colab_type": "code",
        "colab": {}
      },
      "source": [
        "#Run Me! And see my data type\n",
        "q1float = float(q1)\n",
        "print(type(q1float))\n",
        "\n",
        "#converting to float!"
      ],
      "execution_count": null,
      "outputs": []
    },
    {
      "cell_type": "markdown",
      "metadata": {
        "id": "gZeWOk1K42cP",
        "colab_type": "text"
      },
      "source": [
        "In the two cells above, we converted the string input to be a integer and a float again."
      ]
    },
    {
      "cell_type": "code",
      "metadata": {
        "id": "ksPxWh2x42cQ",
        "colab_type": "code",
        "colab": {}
      },
      "source": [
        "#Now we can do math! Run Me!\n",
        "newq = q1integer + q1float\n",
        "print('The sum of',q1integer,'and',q1float,'is',newq)\n",
        "\n",
        "#adding our input together!"
      ],
      "execution_count": null,
      "outputs": []
    },
    {
      "cell_type": "markdown",
      "metadata": {
        "id": "dVJrGqhq42cT",
        "colab_type": "text"
      },
      "source": [
        "<h2><p style=\"text-align: center;\">**Is it possible to change a integer or float to a string? Yes!**</p></h2>"
      ]
    },
    {
      "cell_type": "code",
      "metadata": {
        "id": "YWocBX2G42cT",
        "colab_type": "code",
        "colab": {}
      },
      "source": [
        "#Run Me!\n",
        "\n",
        "#The variable below holds a integer\n",
        "integervariable = 99\n",
        "\n",
        "#The variable below is the one I created to hold the new variable; a string\n",
        "newintegervariable = str(99)\n",
        "\n",
        "#Printing the type to confirm I changed it to a string!\n",
        "print(type(newintegervariable))"
      ],
      "execution_count": null,
      "outputs": []
    },
    {
      "cell_type": "markdown",
      "metadata": {
        "id": "8klCg6QU42cW",
        "colab_type": "text"
      },
      "source": [
        "<h2> Practice by editing the code cells below </h2>\n",
        "*More practice cells are available at the end of this Notebook*"
      ]
    },
    {
      "cell_type": "code",
      "metadata": {
        "id": "rG0XxrM842cW",
        "colab_type": "code",
        "colab": {}
      },
      "source": [
        "#Run Me!\n",
        "practiceexample1 = '987'"
      ],
      "execution_count": null,
      "outputs": []
    },
    {
      "cell_type": "code",
      "metadata": {
        "id": "4z35-MYa42ca",
        "colab_type": "code",
        "colab": {}
      },
      "source": [
        "#Convert the variable above to a integer and assign to a variable\n",
        "int(987)"
      ],
      "execution_count": null,
      "outputs": []
    },
    {
      "cell_type": "code",
      "metadata": {
        "id": "QbsJGPn142cc",
        "colab_type": "code",
        "colab": {}
      },
      "source": [
        "#Convert the variable above to a float and assign to a variable\n"
      ],
      "execution_count": null,
      "outputs": []
    },
    {
      "cell_type": "code",
      "metadata": {
        "id": "EdemdEN342ce",
        "colab_type": "code",
        "colab": {}
      },
      "source": [
        "#Create a new variable adding them together and print the output using the print() function!\n"
      ],
      "execution_count": null,
      "outputs": []
    },
    {
      "cell_type": "code",
      "metadata": {
        "id": "RLI8hQ5z42ch",
        "colab_type": "code",
        "colab": {}
      },
      "source": [
        "#Create a integer variable and convert it to a string!\n"
      ],
      "execution_count": null,
      "outputs": []
    },
    {
      "cell_type": "code",
      "metadata": {
        "id": "qJH1zFn-42ck",
        "colab_type": "code",
        "colab": {}
      },
      "source": [
        "#Create a float variable and convert it to a string!\n"
      ],
      "execution_count": null,
      "outputs": []
    },
    {
      "cell_type": "code",
      "metadata": {
        "id": "t3HD-GgJ42cm",
        "colab_type": "code",
        "colab": {}
      },
      "source": [
        "#Additional code cell for practice\n"
      ],
      "execution_count": null,
      "outputs": []
    },
    {
      "cell_type": "code",
      "metadata": {
        "id": "NhcDEMi042cp",
        "colab_type": "code",
        "colab": {}
      },
      "source": [
        "#Additional code cell for practice\n"
      ],
      "execution_count": null,
      "outputs": []
    },
    {
      "cell_type": "markdown",
      "metadata": {
        "id": "wbNoFe3Y42cs",
        "colab_type": "text"
      },
      "source": [
        "<h2> ***WOOT WOOT! You've figured out how to convert a string to a number! We can do a lot more with numbers, as we'll see below!*** </h2>"
      ]
    },
    {
      "cell_type": "markdown",
      "metadata": {
        "id": "_cILTdC_42cs",
        "colab_type": "text"
      },
      "source": [
        "![ChessUrl](https://media0.giphy.com/media/KFhv3T1seYSJuak8TN/giphy.gif?cid=ecf05e4765070df7a43da0c58af91f75e88842a57af7510d&rid=giphy.gif)"
      ]
    },
    {
      "cell_type": "markdown",
      "metadata": {
        "id": "Dp6KdtMz42ct",
        "colab_type": "text"
      },
      "source": [
        "<h1> 4.2 Math Functions </h1>"
      ]
    },
    {
      "cell_type": "markdown",
      "metadata": {
        "id": "NDTTnLSD42ct",
        "colab_type": "text"
      },
      "source": [
        "So far, we've gotten rid of **strings** by converting them to **integers** and **floats**. "
      ]
    },
    {
      "cell_type": "markdown",
      "metadata": {
        "id": "dZpBmpSL42cu",
        "colab_type": "text"
      },
      "source": [
        "In this section, we're going to go over math operations with integers and floats."
      ]
    },
    {
      "cell_type": "markdown",
      "metadata": {
        "id": "YAf_1IVK42cu",
        "colab_type": "text"
      },
      "source": [
        "![ChessUrl](https://programmingbpp.weebly.com/uploads/4/9/4/7/49477087/3252627_orig.png)"
      ]
    },
    {
      "cell_type": "markdown",
      "metadata": {
        "id": "B7aMnY1142cu",
        "colab_type": "text"
      },
      "source": [
        "These are pretty straightfoward and you don't have to know all of these.\n",
        "\n",
        "One I want to talk about is the ** //  Integer division** operators."
      ]
    },
    {
      "cell_type": "markdown",
      "metadata": {
        "id": "WDlAX_Dm42cv",
        "colab_type": "text"
      },
      "source": [
        "The best way to think about how the **// Integer division** operator works is that it:\n",
        "    \n",
        "    *Divides the two numbers and takes the answer and displays the digits to the left of the decimal point. \n",
        "    "
      ]
    },
    {
      "cell_type": "code",
      "metadata": {
        "id": "uk4Bn6EK42cw",
        "colab_type": "code",
        "colab": {}
      },
      "source": [
        "#Run Me!\n",
        "\n",
        "99 // 8"
      ],
      "execution_count": null,
      "outputs": []
    },
    {
      "cell_type": "markdown",
      "metadata": {
        "id": "jV3EmXZw42cy",
        "colab_type": "text"
      },
      "source": [
        "In the cell above, we divide 99 by 8 which is exactly 12.375. However since we use the **//** we only saw the digits to the left of the decimal point."
      ]
    },
    {
      "cell_type": "code",
      "metadata": {
        "id": "la3VmF0542cz",
        "colab_type": "code",
        "colab": {}
      },
      "source": [
        "#Run Me!\n",
        "99 / 8"
      ],
      "execution_count": null,
      "outputs": []
    },
    {
      "cell_type": "markdown",
      "metadata": {
        "id": "Z-CATJYH42c1",
        "colab_type": "text"
      },
      "source": [
        "In the cell above, we use the '/' which gives us the exact answer. This is literally dividing 99 by 8."
      ]
    },
    {
      "cell_type": "markdown",
      "metadata": {
        "id": "VcTb-SqV42c1",
        "colab_type": "text"
      },
      "source": [
        "<h2> Create your own math problems in the cells below! </h2>"
      ]
    },
    {
      "cell_type": "code",
      "metadata": {
        "id": "kXyYNbTd42c3",
        "colab_type": "code",
        "colab": {}
      },
      "source": [
        "#Run Me!\n",
        "#Example\n",
        "answer = 8 + 9\n",
        "print(answer)"
      ],
      "execution_count": null,
      "outputs": []
    },
    {
      "cell_type": "code",
      "metadata": {
        "id": "-37m0kdi42c6",
        "colab_type": "code",
        "colab": {}
      },
      "source": [
        "#Add two numbers in this cell and assign the ouput to a variable! Print the variable!\n",
        "\n"
      ],
      "execution_count": null,
      "outputs": []
    },
    {
      "cell_type": "code",
      "metadata": {
        "id": "nYahekbo42c9",
        "colab_type": "code",
        "colab": {}
      },
      "source": [
        "#Subtract two numbers in this cell and assign the ouput to a variable! Print the variable!\n",
        "\n"
      ],
      "execution_count": null,
      "outputs": []
    },
    {
      "cell_type": "code",
      "metadata": {
        "id": "7J2B1PU642dA",
        "colab_type": "code",
        "colab": {}
      },
      "source": [
        "#Multiply two numbers in this cell and assign the ouput to a variable! Print the variable!\n",
        "\n"
      ],
      "execution_count": null,
      "outputs": []
    },
    {
      "cell_type": "code",
      "metadata": {
        "id": "MBk6yj3D42dC",
        "colab_type": "code",
        "colab": {}
      },
      "source": [
        "#Divide two numbers in this cell and assign the ouput to a variable! Print the variable!\n",
        "\n"
      ],
      "execution_count": null,
      "outputs": []
    },
    {
      "cell_type": "code",
      "metadata": {
        "id": "LbtvwVI742dE",
        "colab_type": "code",
        "colab": {}
      },
      "source": [
        "#Run Me!\n",
        "#Don't forget about PEMDAS! Doing math functions in Python works the exact same way as we learned in math class.\n",
        "\n",
        "answertothisq = ((9*9) + (10/(2*1))**2)**3\n",
        "print(answertothisq)\n",
        "\n",
        "#Remember, the ** signifies exponential properties. 2**2 = 2^2"
      ],
      "execution_count": null,
      "outputs": []
    },
    {
      "cell_type": "code",
      "metadata": {
        "id": "zTvlxQiB42dG",
        "colab_type": "code",
        "colab": {}
      },
      "source": [
        "#Additional code cell for practice\n",
        "\n"
      ],
      "execution_count": null,
      "outputs": []
    },
    {
      "cell_type": "code",
      "metadata": {
        "id": "oXadl5U142dI",
        "colab_type": "code",
        "colab": {}
      },
      "source": [
        "#Additional code cell for practice\n",
        "\n"
      ],
      "execution_count": null,
      "outputs": []
    },
    {
      "cell_type": "code",
      "metadata": {
        "id": "rjVwC18S42dK",
        "colab_type": "code",
        "colab": {}
      },
      "source": [
        "#Additional code cell for practice\n",
        "\n"
      ],
      "execution_count": null,
      "outputs": []
    },
    {
      "cell_type": "markdown",
      "metadata": {
        "id": "q2Hp2PGQ42dM",
        "colab_type": "text"
      },
      "source": [
        "<h1> 4.2.2 Comparing Operators </h1>"
      ]
    },
    {
      "cell_type": "markdown",
      "metadata": {
        "id": "JXkG8l3342dN",
        "colab_type": "text"
      },
      "source": [
        "![ChessUrl](https://i0.wp.com/makemeanalyst.com/wp-content/uploads/2017/06/Relational-Operators-in-Python.png?resize=508%2C305)"
      ]
    },
    {
      "cell_type": "markdown",
      "metadata": {
        "id": "9bb0XVLW42dO",
        "colab_type": "text"
      },
      "source": [
        "We've probably all seen these operators before in math class, and we are able to compare two or more values in Python using the notation above."
      ]
    },
    {
      "cell_type": "markdown",
      "metadata": {
        "id": "-p-vo3or42dO",
        "colab_type": "text"
      },
      "source": [
        "<h2><p style=\"text-align: center;\"> Why are these important? </p></h2>"
      ]
    },
    {
      "cell_type": "markdown",
      "metadata": {
        "id": "a9bQz9Cu42dP",
        "colab_type": "text"
      },
      "source": [
        "Comparing values against one another is not only used in security, but they are also used to customize functions to show change over time. If a number is smaller or bigger than other, this can show positive or negative change over time."
      ]
    },
    {
      "cell_type": "markdown",
      "metadata": {
        "id": "efDvoNmY42dP",
        "colab_type": "text"
      },
      "source": [
        "<h2><p style=\"text-align: center;\"> Real Life Example </p></h2>"
      ]
    },
    {
      "cell_type": "markdown",
      "metadata": {
        "id": "LBLe7JVz42dQ",
        "colab_type": "text"
      },
      "source": [
        "I bet you've forgotten your password at least once and used a code that was sent to your phone to reset your password!\n",
        "\n",
        "Let's say you're locked out of your iCloud account and Apple texts you the code: **56789**\n",
        "\n",
        "You type this into your computer, and to simplify a long process this is what Apple is doing in the background:"
      ]
    },
    {
      "cell_type": "code",
      "metadata": {
        "id": "xTDpP0PD42dS",
        "colab_type": "code",
        "colab": {}
      },
      "source": [
        "#Run Me!\n",
        "yourinput = 56789\n",
        "expectedinput = 56789\n",
        "\n",
        "yourinput == expectedinput"
      ],
      "execution_count": null,
      "outputs": []
    },
    {
      "cell_type": "markdown",
      "metadata": {
        "id": "prTDeSXm42dV",
        "colab_type": "text"
      },
      "source": [
        "If what you entered is what they expected (True), you will be granted access to change your password. BUT if you enter something different you will receive a message saying Try Again."
      ]
    },
    {
      "cell_type": "markdown",
      "metadata": {
        "id": "teNUExox42dV",
        "colab_type": "text"
      },
      "source": [
        "Here are some examples on how we would use these operators:"
      ]
    },
    {
      "cell_type": "code",
      "metadata": {
        "id": "IYtZ84gB42dW",
        "colab_type": "code",
        "colab": {}
      },
      "source": [
        "#Run Me!\n",
        "4 > 7"
      ],
      "execution_count": null,
      "outputs": []
    },
    {
      "cell_type": "code",
      "metadata": {
        "id": "0GVwc8PH42dY",
        "colab_type": "code",
        "colab": {}
      },
      "source": [
        "#Run Me!\n",
        "110 > 72"
      ],
      "execution_count": null,
      "outputs": []
    },
    {
      "cell_type": "code",
      "metadata": {
        "id": "XKQYyzOJ42db",
        "colab_type": "code",
        "colab": {}
      },
      "source": [
        "#Run Me!\n",
        "110 <= 10"
      ],
      "execution_count": null,
      "outputs": []
    },
    {
      "cell_type": "code",
      "metadata": {
        "id": "ONgXX5Ry42dd",
        "colab_type": "code",
        "colab": {}
      },
      "source": [
        "#Run Me!\n",
        "110 != 72"
      ],
      "execution_count": null,
      "outputs": []
    },
    {
      "cell_type": "markdown",
      "metadata": {
        "id": "WrqQkuNY42df",
        "colab_type": "text"
      },
      "source": [
        "<h2> Create your own comparison problems in the cells below! </h2>\n"
      ]
    },
    {
      "cell_type": "code",
      "metadata": {
        "id": "o7T3wuDc42dg",
        "colab_type": "code",
        "colab": {}
      },
      "source": [
        "#Less Than; Make this one be False!\n"
      ],
      "execution_count": null,
      "outputs": []
    },
    {
      "cell_type": "code",
      "metadata": {
        "id": "9rGpvwn_42di",
        "colab_type": "code",
        "colab": {}
      },
      "source": [
        "#Greater Than; Make this one be False!\n"
      ],
      "execution_count": null,
      "outputs": []
    },
    {
      "cell_type": "code",
      "metadata": {
        "id": "1Wy9KZoC42dk",
        "colab_type": "code",
        "colab": {}
      },
      "source": [
        "#Greater Than or Equal To; Make this one be True!\n"
      ],
      "execution_count": null,
      "outputs": []
    },
    {
      "cell_type": "code",
      "metadata": {
        "id": "uxwrJd6g42dm",
        "colab_type": "code",
        "colab": {}
      },
      "source": [
        "#Less Than or Equal To; Make this one be False!\n"
      ],
      "execution_count": null,
      "outputs": []
    },
    {
      "cell_type": "code",
      "metadata": {
        "id": "kgzL7PDl42dn",
        "colab_type": "code",
        "colab": {}
      },
      "source": [
        "#Equal To; Make this one be True!\n"
      ],
      "execution_count": null,
      "outputs": []
    },
    {
      "cell_type": "code",
      "metadata": {
        "id": "G_yrmSSC42dp",
        "colab_type": "code",
        "colab": {}
      },
      "source": [
        "#Not Equal To; Make this one be True!\n"
      ],
      "execution_count": null,
      "outputs": []
    },
    {
      "cell_type": "markdown",
      "metadata": {
        "id": "UErAjzVM42ds",
        "colab_type": "text"
      },
      "source": [
        "<h2> Advance Practice, give it a shot! </h2>\n"
      ]
    },
    {
      "cell_type": "code",
      "metadata": {
        "id": "ps-PBSNr42ds",
        "colab_type": "code",
        "colab": {}
      },
      "source": [
        "#Step 1\n",
        "#Create a variable to get a user input which should be a number\n"
      ],
      "execution_count": null,
      "outputs": []
    },
    {
      "cell_type": "code",
      "metadata": {
        "id": "q2rrSqSN42dw",
        "colab_type": "code",
        "colab": {}
      },
      "source": [
        "#Step 2\n",
        "#Create a different variable and get another user input which should be a number\n"
      ],
      "execution_count": null,
      "outputs": []
    },
    {
      "cell_type": "code",
      "metadata": {
        "id": "GJD_ao_U42dy",
        "colab_type": "code",
        "colab": {}
      },
      "source": [
        "#Step 3\n",
        "#Convert both variables to integers. You can either overwrite the variable, or create a new one to store the integer value.\n"
      ],
      "execution_count": null,
      "outputs": []
    },
    {
      "cell_type": "code",
      "metadata": {
        "id": "C0iQZslH42d4",
        "colab_type": "code",
        "colab": {}
      },
      "source": [
        "#Step 4\n",
        "#Create a third new variable, and add the variables from Steps 1 and 2\n"
      ],
      "execution_count": null,
      "outputs": []
    },
    {
      "cell_type": "code",
      "metadata": {
        "id": "Ib16mexR42d5",
        "colab_type": "code",
        "colab": {}
      },
      "source": [
        "#Step 4\n",
        "#Compare the two variables from steps 1 and 2. Use Less than or Greater Than\n"
      ],
      "execution_count": null,
      "outputs": []
    },
    {
      "cell_type": "code",
      "metadata": {
        "id": "rIRFEf1J42d6",
        "colab_type": "code",
        "colab": {}
      },
      "source": [
        "#Additional code cell for anything you want to practice!\n",
        "\n"
      ],
      "execution_count": null,
      "outputs": []
    },
    {
      "cell_type": "code",
      "metadata": {
        "id": "n965GrqV42d8",
        "colab_type": "code",
        "colab": {}
      },
      "source": [
        "#Additional code cell for anything you want to practice!\n",
        "\n"
      ],
      "execution_count": null,
      "outputs": []
    },
    {
      "cell_type": "code",
      "metadata": {
        "id": "HBB08HP042d-",
        "colab_type": "code",
        "colab": {}
      },
      "source": [
        "#Additional code cell for anything you want to practice!\n",
        "\n"
      ],
      "execution_count": null,
      "outputs": []
    },
    {
      "cell_type": "code",
      "metadata": {
        "id": "FfG4Nm6x42eC",
        "colab_type": "code",
        "colab": {}
      },
      "source": [
        "#Additional code cell for anything you want to practice!\n",
        "\n"
      ],
      "execution_count": null,
      "outputs": []
    },
    {
      "cell_type": "code",
      "metadata": {
        "id": "hIdbTwLu42eG",
        "colab_type": "code",
        "colab": {}
      },
      "source": [
        "#Additional code cell for anything you want to practice!\n",
        "\n"
      ],
      "execution_count": null,
      "outputs": []
    },
    {
      "cell_type": "code",
      "metadata": {
        "id": "5hi2PJIy42eH",
        "colab_type": "code",
        "colab": {}
      },
      "source": [
        "#Additional code cell for anything you want to practice!\n",
        "\n"
      ],
      "execution_count": null,
      "outputs": []
    },
    {
      "cell_type": "code",
      "metadata": {
        "id": "138KK0US42eJ",
        "colab_type": "code",
        "colab": {}
      },
      "source": [
        "#Additional code cell for anything you want to practice!\n",
        "\n"
      ],
      "execution_count": null,
      "outputs": []
    },
    {
      "cell_type": "code",
      "metadata": {
        "id": "bvylBzBu42eL",
        "colab_type": "code",
        "colab": {}
      },
      "source": [
        "#Additional code cell for anything you want to practice!\n",
        "\n"
      ],
      "execution_count": null,
      "outputs": []
    },
    {
      "cell_type": "code",
      "metadata": {
        "id": "q4YmdT1R42eM",
        "colab_type": "code",
        "colab": {}
      },
      "source": [
        "#Additional code cell for anything you want to practice!\n",
        "\n"
      ],
      "execution_count": null,
      "outputs": []
    },
    {
      "cell_type": "code",
      "metadata": {
        "id": "2AXpvFOZ42eN",
        "colab_type": "code",
        "colab": {}
      },
      "source": [
        "#Additional code cell for anything you want to practice!\n",
        "\n"
      ],
      "execution_count": null,
      "outputs": []
    },
    {
      "cell_type": "code",
      "metadata": {
        "id": "jJ5Sw2EY42eP",
        "colab_type": "code",
        "colab": {}
      },
      "source": [
        "#Additional code cell for anything you want to practice!\n",
        "\n"
      ],
      "execution_count": null,
      "outputs": []
    },
    {
      "cell_type": "code",
      "metadata": {
        "id": "VHp5AIlF42eR",
        "colab_type": "code",
        "colab": {}
      },
      "source": [
        "#Additional code cell for anything you want to practice!\n",
        "\n"
      ],
      "execution_count": null,
      "outputs": []
    },
    {
      "cell_type": "code",
      "metadata": {
        "id": "i0753oud42eS",
        "colab_type": "code",
        "colab": {}
      },
      "source": [
        "#Additional code cell for anything you want to practice!\n",
        "\n"
      ],
      "execution_count": null,
      "outputs": []
    },
    {
      "cell_type": "code",
      "metadata": {
        "id": "EXcf9Knd42eU",
        "colab_type": "code",
        "colab": {}
      },
      "source": [
        "#Additional code cell for anything you want to practice!\n",
        "\n"
      ],
      "execution_count": null,
      "outputs": []
    },
    {
      "cell_type": "markdown",
      "metadata": {
        "id": "qDNJ_x_Y42eV",
        "colab_type": "text"
      },
      "source": [
        "<h3><p style=\"text-align: center;\">Congrats! You've mastered most of the Python basics! We're going to kick it up a notch in the next Notebook!</p></h3>"
      ]
    },
    {
      "cell_type": "markdown",
      "metadata": {
        "id": "zBvr4BEY42eV",
        "colab_type": "text"
      },
      "source": [
        "![ChessUrl](https://media3.giphy.com/media/LICtqQ1K8ClIQ/200.webp?cid=ecf05e477e3817531275f627d0298d6eef76d09cebf0762e&rid=200.webp)"
      ]
    },
    {
      "cell_type": "markdown",
      "metadata": {
        "id": "3FhgoLBw42eW",
        "colab_type": "text"
      },
      "source": [
        "<h1><p style=\"text-align: center;\"> Thank you for looking over Notebook 4. Send any feedback to zap1295@yahoo.com </p></h1>"
      ]
    },
    {
      "cell_type": "markdown",
      "metadata": {
        "id": "PLOmP8lX42eW",
        "colab_type": "text"
      },
      "source": [
        "© June 2020 Zakir Pasha"
      ]
    },
    {
      "cell_type": "code",
      "metadata": {
        "id": "S_rjJV2z42eW",
        "colab_type": "code",
        "colab": {}
      },
      "source": [
        ""
      ],
      "execution_count": null,
      "outputs": []
    }
  ]
}