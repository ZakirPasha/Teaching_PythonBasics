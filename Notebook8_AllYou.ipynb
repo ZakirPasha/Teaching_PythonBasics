{
  "nbformat": 4,
  "nbformat_minor": 0,
  "metadata": {
    "kernelspec": {
      "display_name": "Python 3",
      "language": "python",
      "name": "python3"
    },
    "language_info": {
      "codemirror_mode": {
        "name": "ipython",
        "version": 3
      },
      "file_extension": ".py",
      "mimetype": "text/x-python",
      "name": "python",
      "nbconvert_exporter": "python",
      "pygments_lexer": "ipython3",
      "version": "3.6.5"
    },
    "colab": {
      "name": "Notebook8_AllYou (1).ipynb",
      "provenance": []
    }
  },
  "cells": [
    {
      "cell_type": "markdown",
      "metadata": {
        "id": "fgnJlgme5asd",
        "colab_type": "text"
      },
      "source": [
        "<h1><p style=\"text-align: center;\"> Notebook 8. All You! </p></h1>\n"
      ]
    },
    {
      "cell_type": "markdown",
      "metadata": {
        "id": "Ezr4-0Sa5ase",
        "colab_type": "text"
      },
      "source": [
        "Welcome to Notebook 8! Here are some important notes from Notebook 7:\n",
        "\n",
        "- I wanted to show you how everything you learned in Notebook 1-6 can be used to create all those cool (and useful) functions!\n",
        "\n",
        "- Learning in context is super important because it allows you to understand how important code is, how it works, and how the simpilest of things can be done with just a few lines of code."
      ]
    },
    {
      "cell_type": "markdown",
      "metadata": {
        "id": "Ce7PivkX5asf",
        "colab_type": "text"
      },
      "source": [
        "<h2> This notebook will be *all you!* </h2>\n",
        "\n",
        "*Answers are available at the very end of the notebook...but don't cheat!*"
      ]
    },
    {
      "cell_type": "markdown",
      "metadata": {
        "id": "FIsuHN3w5asf",
        "colab_type": "text"
      },
      "source": [
        "![ChessUrl](https://media3.giphy.com/media/NsBAHgohHByp2/giphy.gif?cid=ecf05e47e2f4ea3628cfd8e3e09ba240231b9e9548188d1d&rid=giphy.gif)"
      ]
    },
    {
      "cell_type": "markdown",
      "metadata": {
        "id": "B9mrKv0p5asg",
        "colab_type": "text"
      },
      "source": [
        "<h1> Practice 1</h1>"
      ]
    },
    {
      "cell_type": "markdown",
      "metadata": {
        "id": "6a88w03u5asg",
        "colab_type": "text"
      },
      "source": [
        "Create a function called **area** that takes **2 arguments** that are **user inputs**. Name the first argument **length** and the second one **width**.\n",
        "\n",
        "The function should **print** out the **area** of a square or rectangle by submitting the **length** and **width** values.\n",
        "\n",
        "For example, if you type in length to be 5 and width off to be 5, the function should print out 25.\n",
        "\n",
        "Hint: remember to convert the user input to numbers!"
      ]
    },
    {
      "cell_type": "code",
      "metadata": {
        "id": "g7fh5LVA5asg",
        "colab_type": "code",
        "colab": {}
      },
      "source": [
        "#Code Here!\n",
        "#Don't forget to call the function!\n",
        "\n",
        "\n",
        "\n",
        "\n",
        "\n"
      ],
      "execution_count": null,
      "outputs": []
    },
    {
      "cell_type": "markdown",
      "metadata": {
        "id": "9boyaWxx5ask",
        "colab_type": "text"
      },
      "source": [
        "<h1> Practice 2</h1>"
      ]
    },
    {
      "cell_type": "markdown",
      "metadata": {
        "id": "2AfcX0w95ask",
        "colab_type": "text"
      },
      "source": [
        "Create a function called **finalvalue** that takes **2 arguments** that are **user inputs**. The first argument is called **price** the second argument is called **percentoff**.\n",
        "\n",
        "The function should **print** out the final price after inputting **price** and **percentoff**.\n",
        "\n",
        "For example, if you type in price to be 100 and percent off to be 10, the function should print out $90."
      ]
    },
    {
      "cell_type": "code",
      "metadata": {
        "id": "PKakJmhU5asl",
        "colab_type": "code",
        "colab": {}
      },
      "source": [
        "#Code Here!\n",
        "#Don't forget to call the function!\n",
        "\n",
        "def finalvalue(price,percentoff):\n",
        "    price = float(price)\n",
        "    percentoff = float(percentoff)\n",
        "    finalprice = price - (price * (percentoff/100))\n",
        "    print('Final price is: ',finalprice)\n",
        "    \n",
        "    \n",
        "finalvalue(input('What is the price of the item?: '),input('What is the percent off?: '))\n",
        "\n",
        "\n",
        "\n",
        "\n"
      ],
      "execution_count": null,
      "outputs": []
    },
    {
      "cell_type": "markdown",
      "metadata": {
        "id": "b3WTKAhx5asn",
        "colab_type": "text"
      },
      "source": [
        "<h1> Practice 3</h1>"
      ]
    },
    {
      "cell_type": "markdown",
      "metadata": {
        "id": "pHQmaA515asp",
        "colab_type": "text"
      },
      "source": [
        "Create a function called **shows** that takes **1 argument** called **show** that is a **user input** asking, ***What's your favorite Netflix show right now?***\n",
        "\n",
        "\n",
        "Inside the function:\n",
        "\n",
        "**if** the user input is equal to **ozarks**, **print** That's so cool! Then **nest** a user input to ask the user **Have you seen the latest episode (Yes/No)?**. **Nest** another **if/elif/else** function to **print** out whatever you want.\n",
        "\n",
        "if (elif) the user enters **money heist**, **print** Never heard of it.\n",
        "\n",
        "if (elif) the user enters neither of these, **print** Sounds interesting!\n",
        "\n",
        "\n",
        "\n",
        "\n",
        "\n",
        "Hint: See Practice Example 5 in Notebook 7 (target)."
      ]
    },
    {
      "cell_type": "code",
      "metadata": {
        "id": "TZheqUSx5asp",
        "colab_type": "code",
        "colab": {}
      },
      "source": [
        "#Code Here!\n",
        "#Don't forget to call the function!\n",
        "\n",
        "\n",
        "\n",
        "\n",
        "\n",
        "\n"
      ],
      "execution_count": null,
      "outputs": []
    },
    {
      "cell_type": "markdown",
      "metadata": {
        "id": "IvdkI5hE5ass",
        "colab_type": "text"
      },
      "source": [
        "<h1> Practice 4</h1>"
      ]
    },
    {
      "cell_type": "markdown",
      "metadata": {
        "id": "WWiiiC7L5ast",
        "colab_type": "text"
      },
      "source": [
        "Create a function called **digitaddition** that takes **1 argument** that is a **integer**. \n",
        "\n",
        "**if** the number is less than 10, just **print** the number.\n",
        "\n",
        "if (elif) the number is less than or equal to 100, creat a new variable named **digit1** and store the **first digit of the number.** Store the second digit of the number in a variable called **digit2**. **Add** these **digit1** and **digit2** together and save this output to a variable called **total**. Print **total**.\n",
        "\n",
        "Hint: After setting up the elif sttatement above, you will have to convert the variable 'integer' into a string data type (str()) to index each digit.\n",
        "\n",
        "Hint: After setting up digit1 and digit2, convert both to integer data types, then add together to equal total.\n",
        "\n",
        "if they enter a number higher than 100, **print** Why did you enter a big number?\n",
        "\n",
        "Hint: This is what calling the function will look like: digitaddition(99)\n",
        "\n",
        "digit(99) should produce an output of 18.\n",
        "\n",
        "digit (9) should produce an output of 9.\n",
        "\n",
        "digit(101) should produce an output of Why did you enter a big number?"
      ]
    },
    {
      "cell_type": "code",
      "metadata": {
        "id": "H5v0bgGw5asu",
        "colab_type": "code",
        "colab": {}
      },
      "source": [
        "#Code Here!\n",
        "#Don't forget to call the function!\n",
        "\n"
      ],
      "execution_count": null,
      "outputs": []
    },
    {
      "cell_type": "markdown",
      "metadata": {
        "id": "g99Xzmwh5asw",
        "colab_type": "text"
      },
      "source": [
        "<h1> Practice 5</h1>"
      ]
    },
    {
      "cell_type": "markdown",
      "metadata": {
        "id": "GQGk7eDl5asw",
        "colab_type": "text"
      },
      "source": [
        "Create a function called **neighborhoods** that takes **1 arguments** called **neighborhood** that is a **user input**. \n",
        "\n",
        "The **user input** will ask the user, \"Are you from Chicago? (Yes/No)\"\n",
        "\n",
        "**if** the answer is yes, create another variable to ask another **user input** asking, \"What Neighborhood?\"\n",
        "\n",
        "    if the answer to this is wicker park, print Wicker Park is so busy!\n",
        "    if (elif) the answer to this is licoln park, print Lincoln Park is boring!\n",
        "    if (elif) the answer to this is pilsen print Pilsen has amazing food!\n",
        "    if (elif) the answer to this is hyde park print Hyde Park is nice!\n",
        "    if they are none of these, print I only know about Wicker Park, Lincoln Park, Pilsen and Hyde Park.\n",
        "    \n",
        "    \n",
        "if (**elif**) the answer is no, create another variable to ask \"Where are you from then?\". Then **print** the user's answers followed by 'is so cool!'.\n",
        "\n",
        "if the user types in anything **else** besides yes or no, ask them to 'Re-run, and please answer yes or no.'\n",
        "\n",
        "\n",
        "Hint: remember to standardize the input every time! if the user answers yes to the first question, nest another if/elif/else statement underneath it."
      ]
    },
    {
      "cell_type": "code",
      "metadata": {
        "id": "tkFmcYPV5asy",
        "colab_type": "code",
        "colab": {}
      },
      "source": [
        "#Code Here!\n",
        "#Don't forget to call the function!\n",
        "\n",
        "\n",
        "\n",
        "\n"
      ],
      "execution_count": null,
      "outputs": []
    },
    {
      "cell_type": "markdown",
      "metadata": {
        "id": "YjZjDqo25as1",
        "colab_type": "text"
      },
      "source": [
        "<h1><p style=\"text-align: center;\"> Additional Code Cells for Practice </p></h1>\n"
      ]
    },
    {
      "cell_type": "code",
      "metadata": {
        "id": "XaS4MycN5as1",
        "colab_type": "code",
        "colab": {}
      },
      "source": [
        "#Additional code cell for anything you want to practice!\n",
        "\n"
      ],
      "execution_count": null,
      "outputs": []
    },
    {
      "cell_type": "code",
      "metadata": {
        "id": "fcB19whk5as3",
        "colab_type": "code",
        "colab": {}
      },
      "source": [
        "#Additional code cell for anything you want to practice!\n",
        "\n"
      ],
      "execution_count": null,
      "outputs": []
    },
    {
      "cell_type": "code",
      "metadata": {
        "id": "ZFtVRPEV5as6",
        "colab_type": "code",
        "colab": {}
      },
      "source": [
        "#Additional code cell for anything you want to practice!\n",
        "\n"
      ],
      "execution_count": null,
      "outputs": []
    },
    {
      "cell_type": "code",
      "metadata": {
        "id": "x15kNLBG5as9",
        "colab_type": "code",
        "colab": {}
      },
      "source": [
        "#Additional code cell for anything you want to practice!\n",
        "\n"
      ],
      "execution_count": null,
      "outputs": []
    },
    {
      "cell_type": "code",
      "metadata": {
        "id": "QDlkO6l35atA",
        "colab_type": "code",
        "colab": {}
      },
      "source": [
        "#Additional code cell for anything you want to practice!\n",
        "\n"
      ],
      "execution_count": null,
      "outputs": []
    },
    {
      "cell_type": "code",
      "metadata": {
        "id": "-_ypeYpt5atB",
        "colab_type": "code",
        "colab": {}
      },
      "source": [
        "#Additional code cell for anything you want to practice!\n",
        "\n"
      ],
      "execution_count": null,
      "outputs": []
    },
    {
      "cell_type": "code",
      "metadata": {
        "id": "TV7NO8dG5atE",
        "colab_type": "code",
        "colab": {}
      },
      "source": [
        "#Additional code cell for anything you want to practice!\n",
        "\n"
      ],
      "execution_count": null,
      "outputs": []
    },
    {
      "cell_type": "code",
      "metadata": {
        "id": "Xx95s9bC5atG",
        "colab_type": "code",
        "colab": {}
      },
      "source": [
        "#Additional code cell for anything you want to practice!\n",
        "\n"
      ],
      "execution_count": null,
      "outputs": []
    },
    {
      "cell_type": "code",
      "metadata": {
        "id": "uiWw9JX35atL",
        "colab_type": "code",
        "colab": {}
      },
      "source": [
        "#Additional code cell for anything you want to practice!\n",
        "\n"
      ],
      "execution_count": null,
      "outputs": []
    },
    {
      "cell_type": "code",
      "metadata": {
        "id": "Pq9U6slx5atO",
        "colab_type": "code",
        "colab": {}
      },
      "source": [
        "#Additional code cell for anything you want to practice!\n",
        "\n"
      ],
      "execution_count": null,
      "outputs": []
    },
    {
      "cell_type": "code",
      "metadata": {
        "id": "_HS3m86b5atR",
        "colab_type": "code",
        "colab": {}
      },
      "source": [
        "#Additional code cell for anything you want to practice!\n",
        "\n"
      ],
      "execution_count": null,
      "outputs": []
    },
    {
      "cell_type": "code",
      "metadata": {
        "id": "rCn4LQ8k5atT",
        "colab_type": "code",
        "colab": {}
      },
      "source": [
        "#Additional code cell for anything you want to practice!\n",
        "\n"
      ],
      "execution_count": null,
      "outputs": []
    },
    {
      "cell_type": "code",
      "metadata": {
        "id": "xFPD3DE15atW",
        "colab_type": "code",
        "colab": {}
      },
      "source": [
        "#Additional code cell for anything you want to practice!\n",
        "\n"
      ],
      "execution_count": null,
      "outputs": []
    },
    {
      "cell_type": "code",
      "metadata": {
        "id": "2Jh5RBU85atY",
        "colab_type": "code",
        "colab": {}
      },
      "source": [
        "#Additional code cell for anything you want to practice!\n",
        "\n"
      ],
      "execution_count": null,
      "outputs": []
    },
    {
      "cell_type": "code",
      "metadata": {
        "id": "amtu0sUv5atb",
        "colab_type": "code",
        "colab": {}
      },
      "source": [
        "#Additional code cell for anything you want to practice!\n",
        "\n"
      ],
      "execution_count": null,
      "outputs": []
    },
    {
      "cell_type": "markdown",
      "metadata": {
        "id": "ftxwxX5T5atd",
        "colab_type": "text"
      },
      "source": [
        "![ChessUrl](https://media3.giphy.com/media/bg1MQ6IUVoVOM/giphy.gif?cid=ecf05e470bce3ae567a5eba8325c45bc86c99bdff9b7bdcf&rid=giphy.gif)"
      ]
    },
    {
      "cell_type": "markdown",
      "metadata": {
        "id": "eVzHzSiz5atd",
        "colab_type": "text"
      },
      "source": [
        "<h1><p style=\"text-align: center;\"> Thank you for looking over Notebook 8. Send any feedback to zap1295@yahoo.com </p></h1>"
      ]
    },
    {
      "cell_type": "markdown",
      "metadata": {
        "id": "nQeizXir5ate",
        "colab_type": "text"
      },
      "source": [
        "© June 2020 Zakir Pasha"
      ]
    },
    {
      "cell_type": "code",
      "metadata": {
        "id": "oZ2ntqzo5ate",
        "colab_type": "code",
        "colab": {}
      },
      "source": [
        "def area(length,width):\n",
        "    length = float(length)\n",
        "    width = float(width)\n",
        "    print('Area is: ',length*width)\n",
        "\n",
        "area(input('Enter a length: '),input('Enter a width: '))"
      ],
      "execution_count": null,
      "outputs": []
    },
    {
      "cell_type": "code",
      "metadata": {
        "id": "R5zaaQaA5ath",
        "colab_type": "code",
        "colab": {}
      },
      "source": [
        "def finalvalue(price,percentoff):\n",
        "    price = float(price)\n",
        "    percentoff = float(percentoff)\n",
        "    finalprice = price - (price * (percentoff/100))\n",
        "    print('Final price is: ',finalprice)\n",
        "    \n",
        "    \n",
        "finalvalue(input('What is the price of the item?: '),input('What is the percent off?: '))"
      ],
      "execution_count": null,
      "outputs": []
    },
    {
      "cell_type": "code",
      "metadata": {
        "id": "fKDaITG45atl",
        "colab_type": "code",
        "colab": {}
      },
      "source": [
        "def shows(show):\n",
        "    if show.lower() == 'ozarks':\n",
        "        print(\"That's so cool!\")\n",
        "        nextq = input('Have you seen the latest episode (Yes/No)?: ')\n",
        "        if nextq.lower() == 'yes':\n",
        "            print(\"It's my favorite!\")\n",
        "        else:\n",
        "            print('You need to watch it!')\n",
        "    elif show.lower() == 'money heist':\n",
        "        print('Never heard of it!')\n",
        "    else:\n",
        "        print('Sounds interesting!')\n",
        "        \n",
        "shows(input(\"What's your favorite Netflix show right now?: \"))\n"
      ],
      "execution_count": null,
      "outputs": []
    },
    {
      "cell_type": "code",
      "metadata": {
        "id": "U5pm66MW5atm",
        "colab_type": "code",
        "colab": {}
      },
      "source": [
        "def digitaddition(integer):\n",
        "    if integer < 10:\n",
        "        print(integer)\n",
        "    elif integer < 100:\n",
        "        integer = str(integer)\n",
        "        digit1 = integer[0]\n",
        "        digit1 = int(digit1)\n",
        "        digit2 = integer[1]\n",
        "        digit2 = int(digit2)\n",
        "        total = digit1 + digit2\n",
        "        print(total)\n",
        "    elif integer > 100:\n",
        "        print('Why did you enter a big number?')\n",
        "        \n",
        "digitaddition(99)"
      ],
      "execution_count": null,
      "outputs": []
    },
    {
      "cell_type": "code",
      "metadata": {
        "id": "qkD5APTC5atp",
        "colab_type": "code",
        "colab": {}
      },
      "source": [
        "def neighborhoods(neighborhood):\n",
        "    if neighborhood.lower() == 'yes':\n",
        "        x = input('What neighborhood?: ')\n",
        "        if x.lower() == 'wicker park':\n",
        "            print('Wicker Park is so busy!')\n",
        "        elif x.lower() == 'lincoln park':\n",
        "            print('Lincoln Park is so boring!')\n",
        "        elif x.lower() == 'pilsen':\n",
        "            print('Pilsen has amazing food!')\n",
        "        elif x.lower() == 'hyde park':\n",
        "            print('Hyde Park is nice!')\n",
        "        else:\n",
        "            print('I only know about Wicker Park, Lincoln Park, Pilsen and Hyde Park')\n",
        "    elif neighborhood.lower() == 'no':\n",
        "        notchi = input('Where are you from then?: ')\n",
        "        print(notchi, 'is cool!')\n",
        "    else:\n",
        "        print('Re-run, and please answer yes or no.')\n",
        "\n",
        "neighborhoods(input('Are you from Chicago? (Yes/No)'))\n"
      ],
      "execution_count": null,
      "outputs": []
    }
  ]
}