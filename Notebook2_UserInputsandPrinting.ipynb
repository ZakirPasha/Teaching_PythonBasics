{
  "nbformat": 4,
  "nbformat_minor": 0,
  "metadata": {
    "kernelspec": {
      "display_name": "Python 3",
      "language": "python",
      "name": "python3"
    },
    "language_info": {
      "codemirror_mode": {
        "name": "ipython",
        "version": 3
      },
      "file_extension": ".py",
      "mimetype": "text/x-python",
      "name": "python",
      "nbconvert_exporter": "python",
      "pygments_lexer": "ipython3",
      "version": "3.6.7"
    },
    "colab": {
      "name": "Notebook2_UserInputsandPrinting (1).ipynb",
      "provenance": []
    }
  },
  "cells": [
    {
      "cell_type": "markdown",
      "metadata": {
        "id": "V9M5OsqV4mVa",
        "colab_type": "text"
      },
      "source": [
        "<h1><p style=\"text-align: center;\">Notebook 2. User Inputs and Printing </p></h1>\n"
      ]
    },
    {
      "cell_type": "markdown",
      "metadata": {
        "id": "xX_Bobi84mVc",
        "colab_type": "text"
      },
      "source": [
        "Welcome to Notebook 2! Here are some important notes from Notebook 1:\n",
        "\n",
        "- Any code cell that has \"#Run Me!\" inside, go ahead and click into it and press Shift + Enter\n",
        "\n",
        "\n",
        "- A **variable** is a letter or word that holds values. For now, know that the value can be a number (integer or float) or a word (string).\n",
        "\n",
        "\n",
        "- A **variable** must be one or more letters with no spaces in between.\n",
        "\n",
        "\n",
        "- You can overwrite variables to give them a new name.\n",
        "    - i.e if the variable chicago is equal to 23, and you set a new variable named chicagonew equal to chicago,     chicagonew will now also equal 23.\n",
        "    \n",
        "    \n",
        "- You learned about three major **data types** in Notebook 1:<br>\n",
        "\n",
        "\n",
        "    - Strings (anything with single or double quotes around them)\n",
        "    - Float (decimal numbers)\n",
        "    - Integers (whole numbers)\n",
        "    \n",
        "- Recall that you can not add a string or float together, or a string or a integer. When adding values together, they must be of the same type. (We're going to learn how to change between types in Notebook 2!)\n",
        "\n",
        "\n",
        "- We also went over how to print values directly and indirectly using the **print()** function.\n"
      ]
    },
    {
      "cell_type": "markdown",
      "metadata": {
        "id": "sF1Mtc6a4mVc",
        "colab_type": "text"
      },
      "source": [
        "<h1> 2.1 User Input </h1>"
      ]
    },
    {
      "cell_type": "markdown",
      "metadata": {
        "id": "xT2wU6YJ4mVc",
        "colab_type": "text"
      },
      "source": [
        "<h2>What we're going to work on in this section is asking the user (you), for an input!</h2>"
      ]
    },
    {
      "cell_type": "markdown",
      "metadata": {
        "id": "LfAaHgnK4mVd",
        "colab_type": "text"
      },
      "source": [
        "![ChessUrl](https://media.giphy.com/media/R55sOeBR22ogg/giphy.gif)"
      ]
    },
    {
      "cell_type": "markdown",
      "metadata": {
        "id": "aBwPPrgt4mVd",
        "colab_type": "text"
      },
      "source": [
        "**Why is this important?**\n",
        "\n",
        "Creating interactive code allows you to customaize almost anything! A common, yet simple example you've probably used many times is entering your first name, last name, city, state, shipping address, etc. when buying something online.\n",
        "\n",
        "By asking for user input, you can receive all of these values and write simple code to store, analyze, compare and much more."
      ]
    },
    {
      "cell_type": "markdown",
      "metadata": {
        "id": "qvU1SxZe4mVe",
        "colab_type": "text"
      },
      "source": [
        "Below is our first code cell of Notebook 2. \n",
        "\n",
        "**We're going to use the input() function in Python to ask a user for their input.**\n",
        "\n",
        "Go ahead and run it and enter any word or sentence inside the text box. \n",
        "\n",
        "When you're done, hit enter."
      ]
    },
    {
      "cell_type": "code",
      "metadata": {
        "id": "XozR6_qY4mVe",
        "colab_type": "code",
        "colab": {}
      },
      "source": [
        "#Run Me!\n",
        "input()"
      ],
      "execution_count": null,
      "outputs": []
    },
    {
      "cell_type": "markdown",
      "metadata": {
        "id": "KbeeS0h54mVi",
        "colab_type": "text"
      },
      "source": [
        "Above, you should've seen whatever you entered into the text box! This is Python asking for user input! All we need is the **input()** function.\n",
        "\n",
        "<h3> Very Important </h3>\n",
        "\n",
        "Did you notice that after you pressed enter, whatever you typed in the text box is all of a sudden surrounded by single quotations?"
      ]
    },
    {
      "cell_type": "markdown",
      "metadata": {
        "id": "kAJA1GX04mVi",
        "colab_type": "text"
      },
      "source": [
        "Here, try running the input function again and type a **number (whole or decimal)** into the text box."
      ]
    },
    {
      "cell_type": "code",
      "metadata": {
        "id": "5Ty-xwxv4mVj",
        "colab_type": "code",
        "colab": {}
      },
      "source": [
        "#Run Me!\n",
        "input()"
      ],
      "execution_count": null,
      "outputs": []
    },
    {
      "cell_type": "markdown",
      "metadata": {
        "id": "OB8rnx4R4mVm",
        "colab_type": "text"
      },
      "source": [
        "**Single quotations again!**\n",
        "\n",
        "Do you remember what we call values with single quotations? (From Notebook 1!)\n",
        "\n",
        "Hint: They're not floats or integers....\n",
        "\n",
        "Type something in the text box again from the code cell below:"
      ]
    },
    {
      "cell_type": "code",
      "metadata": {
        "id": "LgjntJU84mVm",
        "colab_type": "code",
        "colab": {}
      },
      "source": [
        "#Run Me!\n",
        "print(type(input()))"
      ],
      "execution_count": null,
      "outputs": []
    },
    {
      "cell_type": "markdown",
      "metadata": {
        "id": "GXxLBdh44mVp",
        "colab_type": "text"
      },
      "source": [
        "They're strings (str means String)!\n",
        "\n",
        "Let's look at the above code from the inside out starting with input.\n",
        "\n",
        "We just learned that **input()** asks for a users input.<br>\n",
        "From Notebook 1, we learned that **type()** will give us the data type.<br>\n",
        "And **print()** displays whatever is inside of it, in this case the input and the type."
      ]
    },
    {
      "cell_type": "markdown",
      "metadata": {
        "id": "rATG8Xza4mVq",
        "colab_type": "text"
      },
      "source": [
        "<h3> Very Important </h3>\n",
        "\n",
        "Whatever you put into the **input()** function is a *string data type*. It does not matter whether it's a number or not (as seen from the examples above).<br>\n",
        "\n",
        "Whenever you ask for user input, Python automatically converts it to a string."
      ]
    },
    {
      "cell_type": "markdown",
      "metadata": {
        "id": "kiHir4gp4mVr",
        "colab_type": "text"
      },
      "source": [
        "<h2> You can manually edit the code cells below. </h2>"
      ]
    },
    {
      "cell_type": "code",
      "metadata": {
        "id": "rMojLwif4mVr",
        "colab_type": "code",
        "colab": {}
      },
      "source": [
        "#Practice typing out the input() function and typing in whatever you want\n"
      ],
      "execution_count": null,
      "outputs": []
    },
    {
      "cell_type": "code",
      "metadata": {
        "id": "rDz6mjDF4mVt",
        "colab_type": "code",
        "colab": {}
      },
      "source": [
        "#Practice typing out the input() function and typing in whatever you want\n"
      ],
      "execution_count": null,
      "outputs": []
    },
    {
      "cell_type": "markdown",
      "metadata": {
        "id": "Zss0S08d4mVx",
        "colab_type": "text"
      },
      "source": [
        "<h1> 2.1.1 User Input to Variables </h1>"
      ]
    },
    {
      "cell_type": "markdown",
      "metadata": {
        "id": "6rrA9BGH4mVx",
        "colab_type": "text"
      },
      "source": [
        "We can see how easy it is to ask for user input just by using the **input()** function. However we want to do more than just ask someone for their input. We want to store it, and accss it later on. \n",
        "\n",
        "The best way to do this? Assign it to a variable!"
      ]
    },
    {
      "cell_type": "markdown",
      "metadata": {
        "id": "nPhVgUDK4mVy",
        "colab_type": "text"
      },
      "source": [
        "**In the code below, we're going to assign the input to a variable called x**"
      ]
    },
    {
      "cell_type": "markdown",
      "metadata": {
        "id": "bWXe4_3k4mVy",
        "colab_type": "text"
      },
      "source": [
        "Go ahead and run the cell below and enter anything you want, number, sentence, word or a combination of all three!\n",
        "\n",
        "And click enter"
      ]
    },
    {
      "cell_type": "code",
      "metadata": {
        "id": "v4bTF6124mVz",
        "colab_type": "code",
        "colab": {}
      },
      "source": [
        "#Run Me!\n",
        "x = input()"
      ],
      "execution_count": null,
      "outputs": []
    },
    {
      "cell_type": "markdown",
      "metadata": {
        "id": "6tEo9fjZ4mV2",
        "colab_type": "text"
      },
      "source": [
        "We can either see what the value of x is by typing into the text box (as seen in the code cell above), or printing it. Both will work!"
      ]
    },
    {
      "cell_type": "code",
      "metadata": {
        "id": "ORbmVG8R4mV3",
        "colab_type": "code",
        "colab": {}
      },
      "source": [
        "#Run Me!\n",
        "print(x)"
      ],
      "execution_count": null,
      "outputs": []
    },
    {
      "cell_type": "markdown",
      "metadata": {
        "id": "yQmeaeFj4mV5",
        "colab_type": "text"
      },
      "source": [
        "Let's assign more user inputs to variables. Remember, we can type in anything into the text box, as it will all be considered strings."
      ]
    },
    {
      "cell_type": "markdown",
      "metadata": {
        "id": "HARxsmPr4mV6",
        "colab_type": "text"
      },
      "source": [
        "<h2> You can type in the code cells below. </h2>\n",
        "\n",
        "Additional practice cells are available at the end of the Notebook!"
      ]
    },
    {
      "cell_type": "code",
      "metadata": {
        "id": "oM7oJ3FC4mV6",
        "colab_type": "code",
        "colab": {}
      },
      "source": [
        "#Assign the variable a, to an input. You can answer it however you would like, and Run Me!\n",
        "a = "
      ],
      "execution_count": null,
      "outputs": []
    },
    {
      "cell_type": "code",
      "metadata": {
        "id": "_CB0r-a64mV8",
        "colab_type": "code",
        "colab": {}
      },
      "source": [
        "#Assign the variable b, to an input. You can answer it however you would like, and Run Me!\n",
        "b = "
      ],
      "execution_count": null,
      "outputs": []
    },
    {
      "cell_type": "code",
      "metadata": {
        "id": "LuFS9fMz4mV_",
        "colab_type": "code",
        "colab": {}
      },
      "source": [
        "#Assign the variable c, to an input. You can answer it however you would like, and Run Me!\n",
        "c = input()"
      ],
      "execution_count": null,
      "outputs": []
    },
    {
      "cell_type": "code",
      "metadata": {
        "id": "D_HFNSwo4mWE",
        "colab_type": "code",
        "colab": {}
      },
      "source": [
        "#Using three print() functions, print out a, b and c.\n"
      ],
      "execution_count": null,
      "outputs": []
    },
    {
      "cell_type": "markdown",
      "metadata": {
        "id": "rJkUp39Q4mWI",
        "colab_type": "text"
      },
      "source": [
        "![ChessUrl](https://media.giphy.com/media/3s39mJ7zXU94mfAq4W/giphy.gif)"
      ]
    },
    {
      "cell_type": "markdown",
      "metadata": {
        "id": "yI-6uRJx4mWI",
        "colab_type": "text"
      },
      "source": [
        "<h2>Hold up Zakir, where did the quotation marks go? I thought you said whenever you use the input() function, they turn into strings?</h2>"
      ]
    },
    {
      "cell_type": "markdown",
      "metadata": {
        "id": "2FitzPQo4mWJ",
        "colab_type": "text"
      },
      "source": [
        "The key difference from what we did earlier (not assigning to a variable) and what we did more recently (assigning to a variable) is the reason you're not seeing the quotation marks.\n",
        "\n",
        "When we use the **input()** function alone, we see exactly what you typed into the **input()** function including the quotation marks.\n",
        "\n",
        "When we assign a **variable** to the **input()** function (like we did just above that gif), we're seeing the exact same output without the quotation marks. Python removes these so it looks better. \n",
        "\n",
        "**The value and data type are still the exact same!**"
      ]
    },
    {
      "cell_type": "markdown",
      "metadata": {
        "id": "_4TXi7Fc4mWJ",
        "colab_type": "text"
      },
      "source": [
        "Still a little confused?\n",
        "Take a look at the cell below:"
      ]
    },
    {
      "cell_type": "markdown",
      "metadata": {
        "id": "ueaEU1Vd4mWJ",
        "colab_type": "text"
      },
      "source": [
        "Run the cell, enter anything you want into the text box and click enter."
      ]
    },
    {
      "cell_type": "code",
      "metadata": {
        "id": "Qm50Uv2D4mWK",
        "colab_type": "code",
        "colab": {}
      },
      "source": [
        "#Run Me!\n",
        "z = input()"
      ],
      "execution_count": null,
      "outputs": []
    },
    {
      "cell_type": "markdown",
      "metadata": {
        "id": "DZqDC7dr4mWM",
        "colab_type": "text"
      },
      "source": [
        "Now in the code cell below, we're going to display it FIRST how the computer stores the value. "
      ]
    },
    {
      "cell_type": "code",
      "metadata": {
        "id": "gZpWE3OZ4mWN",
        "colab_type": "code",
        "colab": {}
      },
      "source": [
        "#Run Me!\n",
        "z"
      ],
      "execution_count": null,
      "outputs": []
    },
    {
      "cell_type": "markdown",
      "metadata": {
        "id": "QstG_WxD4mWR",
        "colab_type": "text"
      },
      "source": [
        "See the quotation marks? Now let's print it nicely. Run the cell below:"
      ]
    },
    {
      "cell_type": "code",
      "metadata": {
        "id": "BEcFZvge4mWS",
        "colab_type": "code",
        "colab": {}
      },
      "source": [
        "print(z)"
      ],
      "execution_count": null,
      "outputs": []
    },
    {
      "cell_type": "markdown",
      "metadata": {
        "id": "EOqD54Aw4mWW",
        "colab_type": "text"
      },
      "source": [
        "These are still both **string data types**. Above, we're just seeing two differnt ways to display the value."
      ]
    },
    {
      "cell_type": "markdown",
      "metadata": {
        "id": "Tk6Sb5Ve4mWW",
        "colab_type": "text"
      },
      "source": [
        "<h1> 2.1.2 Customizing User Input and Printing </h1>"
      ]
    },
    {
      "cell_type": "markdown",
      "metadata": {
        "id": "qp1vlc3U4mWX",
        "colab_type": "text"
      },
      "source": [
        "So far, we've learned how to ask for user input and print it nicely. In this section, you're going to add your own secret sauce!"
      ]
    },
    {
      "cell_type": "markdown",
      "metadata": {
        "id": "mHDVtMz_4mWX",
        "colab_type": "text"
      },
      "source": [
        "Run the cell below and answer the question in the text box."
      ]
    },
    {
      "cell_type": "code",
      "metadata": {
        "id": "3nWmeA9x4mWY",
        "colab_type": "code",
        "colab": {}
      },
      "source": [
        "#Run Me!\n",
        "userinput1 = input(\"What's your name?: \")"
      ],
      "execution_count": null,
      "outputs": []
    },
    {
      "cell_type": "markdown",
      "metadata": {
        "id": "P4DA_0GM4mWa",
        "colab_type": "text"
      },
      "source": [
        "In the code cell above, I assigned a variable called **userinput1** to be equal to whatever you put into the text box (hopefully your name!).\n",
        "\n",
        "The customized element came from adding the sentence \"What's your name?:\". Notice **where** and **how** I typed this sentence in the code cell.\n",
        "\n",
        "The **input()** function allows us to type in any sentence (in quotes) to be displayed before the text box."
      ]
    },
    {
      "cell_type": "markdown",
      "metadata": {
        "id": "nAznN5Mv4mWb",
        "colab_type": "text"
      },
      "source": [
        "Recall from Notebook 1, that whenever we want to print something directly, we use the **print()** function with whatever want shown in quotes. Take a look here:"
      ]
    },
    {
      "cell_type": "code",
      "metadata": {
        "id": "xn2enPC54mWc",
        "colab_type": "code",
        "colab": {}
      },
      "source": [
        "#Run Me!\n",
        "print(\"Print This!\")"
      ],
      "execution_count": null,
      "outputs": []
    },
    {
      "cell_type": "markdown",
      "metadata": {
        "id": "Pbc0WCpj4mWe",
        "colab_type": "text"
      },
      "source": [
        "We want to use this same logic to customize our input. Whatever we want to display before the text box, we must type it in quotes (single or double quotes will work just fine)\n",
        "\n",
        "Here are some customized question examples:"
      ]
    },
    {
      "cell_type": "code",
      "metadata": {
        "id": "PMiANtZ64mWe",
        "colab_type": "code",
        "colab": {}
      },
      "source": [
        "#Run Me!\n",
        "userinput2 = input(\"What city do you live in?: \")"
      ],
      "execution_count": null,
      "outputs": []
    },
    {
      "cell_type": "code",
      "metadata": {
        "id": "2twRXE5M4mWg",
        "colab_type": "code",
        "colab": {}
      },
      "source": [
        "#Run Me!\n",
        "#Notice the double quotes this time because of the conjunction\n",
        "userinput3 = input(\"What's your favorite color?: \")"
      ],
      "execution_count": null,
      "outputs": []
    },
    {
      "cell_type": "code",
      "metadata": {
        "id": "XDr_56ag4mWk",
        "colab_type": "code",
        "colab": {}
      },
      "source": [
        "#Run Me!\n",
        "userinput4 = input(\"Favorite food?: \")"
      ],
      "execution_count": null,
      "outputs": []
    },
    {
      "cell_type": "markdown",
      "metadata": {
        "id": "H1Bi9IgO4mWn",
        "colab_type": "text"
      },
      "source": [
        "Let's add customized printing as well to thse answers (similiar to Notebook1):"
      ]
    },
    {
      "cell_type": "code",
      "metadata": {
        "id": "pW4-ZpjM4mWo",
        "colab_type": "code",
        "colab": {}
      },
      "source": [
        "print(\"You live in\",userinput2)"
      ],
      "execution_count": null,
      "outputs": []
    },
    {
      "cell_type": "code",
      "metadata": {
        "id": "qgnPvf7f4mWp",
        "colab_type": "code",
        "colab": {}
      },
      "source": [
        "print(\"Your favorite color is\",userinput3)"
      ],
      "execution_count": null,
      "outputs": []
    },
    {
      "cell_type": "code",
      "metadata": {
        "id": "d9X9Hahe4mWs",
        "colab_type": "code",
        "colab": {}
      },
      "source": [
        "print(\"Your favorite food is\",userinput4)"
      ],
      "execution_count": null,
      "outputs": []
    },
    {
      "cell_type": "markdown",
      "metadata": {
        "id": "oCi6HTkH4mWu",
        "colab_type": "text"
      },
      "source": [
        "<h2><p style=\"text-align: center;\">To Recap:</p></h2>\n",
        "\n",
        "Asking for user input is a total game changer! We can custsomize code to match up with what the user puts into our program. We can use the **input()** function to create a textbox that will allow a user to enter anything. We can then assign this input to a **variable** for later use. Assigning a the text box answer to a **variable** or using the **print()** function allows us to view that input a lot cleaner (no quotes!).\n",
        "\n",
        "We also looked more into the **print()** to make outputs more customized. This follows the same rules we went into in Notebook 1. If we want to print something out direclty, just throw some quotes on it and put it in between the parantheses of the **print()** function."
      ]
    },
    {
      "cell_type": "markdown",
      "metadata": {
        "id": "UkSHChB84mWu",
        "colab_type": "text"
      },
      "source": [
        "<h1><p style=\"text-align: center;\"> Your Turn </p></h1>"
      ]
    },
    {
      "cell_type": "markdown",
      "metadata": {
        "id": "S5sotQFs4mWv",
        "colab_type": "text"
      },
      "source": [
        "<h2> 1. Practice storing user inputs in different variables you create. <br>\n",
        "\n",
        "<br>\n",
        "2. Also practice printing these variables using the **print()** function. You can just print out the answer alone, or add a customized print option like the most recent example above.</h2>\n"
      ]
    },
    {
      "cell_type": "code",
      "metadata": {
        "id": "teQPdB1t4mWv",
        "colab_type": "code",
        "colab": {}
      },
      "source": [
        "#Example practice with customized printing\n",
        "#Run Me!\n",
        "\n",
        "nextdestination = input(\"Where do you want to travel to next?: \")\n",
        "print(\"I want to travel to\",nextdestination,\"next!\")\n",
        "\n",
        "#You can split up the two lines of code above to two different cells if you wanted, but they also \n",
        "#work in the same cell as well."
      ],
      "execution_count": null,
      "outputs": []
    },
    {
      "cell_type": "code",
      "metadata": {
        "id": "l4B7zjx04mWz",
        "colab_type": "code",
        "colab": {}
      },
      "source": [
        "#Your Turn!"
      ],
      "execution_count": null,
      "outputs": []
    },
    {
      "cell_type": "code",
      "metadata": {
        "id": "r85AU8254mW2",
        "colab_type": "code",
        "colab": {}
      },
      "source": [
        "#Your Turn!"
      ],
      "execution_count": null,
      "outputs": []
    },
    {
      "cell_type": "code",
      "metadata": {
        "id": "RKNU-FoP4mW5",
        "colab_type": "code",
        "colab": {}
      },
      "source": [
        "#Your Turn!"
      ],
      "execution_count": null,
      "outputs": []
    },
    {
      "cell_type": "code",
      "metadata": {
        "id": "fX8bKvBz4mW6",
        "colab_type": "code",
        "colab": {}
      },
      "source": [
        "#Your Turn!"
      ],
      "execution_count": null,
      "outputs": []
    },
    {
      "cell_type": "code",
      "metadata": {
        "id": "12JeKi5K4mW9",
        "colab_type": "code",
        "colab": {}
      },
      "source": [
        "#Your Turn!"
      ],
      "execution_count": null,
      "outputs": []
    },
    {
      "cell_type": "code",
      "metadata": {
        "id": "YeYysfXl4mXA",
        "colab_type": "code",
        "colab": {}
      },
      "source": [
        "#Your Turn!"
      ],
      "execution_count": null,
      "outputs": []
    },
    {
      "cell_type": "code",
      "metadata": {
        "id": "tWyz2K374mXC",
        "colab_type": "code",
        "colab": {}
      },
      "source": [
        "#Your Turn!"
      ],
      "execution_count": null,
      "outputs": []
    },
    {
      "cell_type": "code",
      "metadata": {
        "id": "unTwap244mXE",
        "colab_type": "code",
        "colab": {}
      },
      "source": [
        "#Your Turn!"
      ],
      "execution_count": null,
      "outputs": []
    },
    {
      "cell_type": "code",
      "metadata": {
        "id": "Ha7eyO-o4mXJ",
        "colab_type": "code",
        "colab": {}
      },
      "source": [
        "#Your Turn!"
      ],
      "execution_count": null,
      "outputs": []
    },
    {
      "cell_type": "code",
      "metadata": {
        "id": "gvrn3Rmq4mXM",
        "colab_type": "code",
        "colab": {}
      },
      "source": [
        "#Your Turn!"
      ],
      "execution_count": null,
      "outputs": []
    },
    {
      "cell_type": "code",
      "metadata": {
        "id": "H0pPKiRU4mXO",
        "colab_type": "code",
        "colab": {}
      },
      "source": [
        "#Your Turn!"
      ],
      "execution_count": null,
      "outputs": []
    },
    {
      "cell_type": "code",
      "metadata": {
        "id": "CVaM-Rfh4mXR",
        "colab_type": "code",
        "colab": {}
      },
      "source": [
        "#Your Turn!"
      ],
      "execution_count": null,
      "outputs": []
    },
    {
      "cell_type": "code",
      "metadata": {
        "id": "xkRIaDpf4mXT",
        "colab_type": "code",
        "colab": {}
      },
      "source": [
        "#Your Turn!"
      ],
      "execution_count": null,
      "outputs": []
    },
    {
      "cell_type": "code",
      "metadata": {
        "id": "oBPXWkl34mXV",
        "colab_type": "code",
        "colab": {}
      },
      "source": [
        "#Your Turn!"
      ],
      "execution_count": null,
      "outputs": []
    },
    {
      "cell_type": "code",
      "metadata": {
        "id": "lGd8wgGx4mXW",
        "colab_type": "code",
        "colab": {}
      },
      "source": [
        "#Your Turn!"
      ],
      "execution_count": null,
      "outputs": []
    },
    {
      "cell_type": "code",
      "metadata": {
        "id": "k9FHw_jT4mXZ",
        "colab_type": "code",
        "colab": {}
      },
      "source": [
        "#Your Turn!"
      ],
      "execution_count": null,
      "outputs": []
    },
    {
      "cell_type": "code",
      "metadata": {
        "id": "o97s6o1Z4mXa",
        "colab_type": "code",
        "colab": {}
      },
      "source": [
        "#Your Turn!"
      ],
      "execution_count": null,
      "outputs": []
    },
    {
      "cell_type": "code",
      "metadata": {
        "id": "y9fnVioo4mXd",
        "colab_type": "code",
        "colab": {}
      },
      "source": [
        "#Your Turn!"
      ],
      "execution_count": null,
      "outputs": []
    },
    {
      "cell_type": "code",
      "metadata": {
        "id": "omu3KTfL4mXe",
        "colab_type": "code",
        "colab": {}
      },
      "source": [
        "#Your Turn!"
      ],
      "execution_count": null,
      "outputs": []
    },
    {
      "cell_type": "code",
      "metadata": {
        "id": "JjixRvHX4mXg",
        "colab_type": "code",
        "colab": {}
      },
      "source": [
        "#Your Turn!"
      ],
      "execution_count": null,
      "outputs": []
    },
    {
      "cell_type": "code",
      "metadata": {
        "id": "hDY4j_4c4mXh",
        "colab_type": "code",
        "colab": {}
      },
      "source": [
        "#Your Turn!"
      ],
      "execution_count": null,
      "outputs": []
    },
    {
      "cell_type": "code",
      "metadata": {
        "id": "8MKIrti_4mXj",
        "colab_type": "code",
        "colab": {}
      },
      "source": [
        "#Your Turn!"
      ],
      "execution_count": null,
      "outputs": []
    },
    {
      "cell_type": "code",
      "metadata": {
        "id": "Tg9G3nto4mXn",
        "colab_type": "code",
        "colab": {}
      },
      "source": [
        "#Your Turn!"
      ],
      "execution_count": null,
      "outputs": []
    },
    {
      "cell_type": "code",
      "metadata": {
        "id": "OwYuVk9w4mXq",
        "colab_type": "code",
        "colab": {}
      },
      "source": [
        "#Your Turn!"
      ],
      "execution_count": null,
      "outputs": []
    },
    {
      "cell_type": "code",
      "metadata": {
        "id": "Ej2ZwZHs4mXu",
        "colab_type": "code",
        "colab": {}
      },
      "source": [
        "#Your Turn!"
      ],
      "execution_count": null,
      "outputs": []
    },
    {
      "cell_type": "markdown",
      "metadata": {
        "id": "kZ-X6IMR4mXw",
        "colab_type": "text"
      },
      "source": [
        "\n",
        "![ChessUrl](https://images.ctfassets.net/oqcxjunhepvs/6fVXPgGMesIYU8qqIGCm8o/066138df161c4f9d1fa2ccc3e8901490/August-5-2014-2.gif?w=800&q=80)"
      ]
    },
    {
      "cell_type": "markdown",
      "metadata": {
        "id": "UlF7eiv14mXw",
        "colab_type": "text"
      },
      "source": [
        "<h1><p style=\"text-align: center;\"> Thank you for looking over Notebook 2. Send any feedback to zap1295@yahoo.com </p></h1>"
      ]
    },
    {
      "cell_type": "markdown",
      "metadata": {
        "id": "o1nKWlt-4mXx",
        "colab_type": "text"
      },
      "source": [
        "© June 2020 Zakir Pasha"
      ]
    },
    {
      "cell_type": "code",
      "metadata": {
        "id": "jIcwk7F04mXx",
        "colab_type": "code",
        "colab": {}
      },
      "source": [
        ""
      ],
      "execution_count": null,
      "outputs": []
    }
  ]
}