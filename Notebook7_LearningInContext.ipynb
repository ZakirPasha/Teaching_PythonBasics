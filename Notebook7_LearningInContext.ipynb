{
  "nbformat": 4,
  "nbformat_minor": 0,
  "metadata": {
    "kernelspec": {
      "display_name": "Python 3",
      "language": "python",
      "name": "python3"
    },
    "language_info": {
      "codemirror_mode": {
        "name": "ipython",
        "version": 3
      },
      "file_extension": ".py",
      "mimetype": "text/x-python",
      "name": "python",
      "nbconvert_exporter": "python",
      "pygments_lexer": "ipython3",
      "version": "3.6.5"
    },
    "colab": {
      "name": "Notebook7_LearningInContext (1).ipynb",
      "provenance": []
    }
  },
  "cells": [
    {
      "cell_type": "markdown",
      "metadata": {
        "id": "VraEIpDM5RR_",
        "colab_type": "text"
      },
      "source": [
        "<h1><p style=\"text-align: center;\"> Notebook 7. Learning in Context </p></h1>\n"
      ]
    },
    {
      "cell_type": "markdown",
      "metadata": {
        "id": "74kOguEF5RR_",
        "colab_type": "text"
      },
      "source": [
        "Welcome to Notebook 7! Here are some important notes from Notebook 6:\n",
        "\n",
        "- You learned about functions!! A staple in coding!\n",
        "        \n",
        "        - Typing def lets Python know we're about to create a function\n",
        "        - We name a function, and put however many arguments we're going to use\n",
        "        - We then end that first line with a colon, and type what we want the function to do underneath it.\n",
        "        - Lastly, we call the function so we can replace the variable (argument) in the function!\n",
        "        - Using functions saves time!"
      ]
    },
    {
      "cell_type": "markdown",
      "metadata": {
        "id": "37GyKvOQ5RSA",
        "colab_type": "text"
      },
      "source": [
        "<h2> This notebook will compile everything from the past 6 notebooks to show you how Python is used everyday, *in context*. </h2>\n",
        "\n",
        "There's no point learning all this if you're not sure how to apply it, right?!"
      ]
    },
    {
      "cell_type": "markdown",
      "metadata": {
        "id": "6XElbQDg5RSA",
        "colab_type": "text"
      },
      "source": [
        "I'm going to walk through some functions in this notebook **that may look scary at first**, but I promise if you break it down you'll understand it 100%!"
      ]
    },
    {
      "cell_type": "markdown",
      "metadata": {
        "id": "It8FITB95RSB",
        "colab_type": "text"
      },
      "source": [
        "*Additional code cells are available at the very end of the notebook!*"
      ]
    },
    {
      "cell_type": "markdown",
      "metadata": {
        "id": "AVJtwfOZ5RSB",
        "colab_type": "text"
      },
      "source": [
        "<h1>Practical Example 1</h1>"
      ]
    },
    {
      "cell_type": "code",
      "metadata": {
        "id": "kj3ZB3zK5RSC",
        "colab_type": "code",
        "colab": {}
      },
      "source": [
        "#Write a Python function to convert the distance in feet to inches.\n",
        "\n",
        "#Run Me!\n",
        "def conversion(feet):\n",
        "        #converting the input to a float data type!\n",
        "        feet=float(feet)\n",
        "        #printing the feet (which is now a float) times 12 which gives us the number in inches.\n",
        "        print('Inches: ', (feet) * 12)\n",
        "\n",
        "#Calling the function!        \n",
        "conversion(input('Enter a length in feet: '))"
      ],
      "execution_count": null,
      "outputs": []
    },
    {
      "cell_type": "markdown",
      "metadata": {
        "id": "lubaCwGI5RSF",
        "colab_type": "text"
      },
      "source": [
        "In the code cell above, we just have a function called **conversion** where we take a **user input**, converts it to a number so we can do math with (**float**), then **multiplies** it by 12 so we can convert it from **feet to inches!**"
      ]
    },
    {
      "cell_type": "code",
      "metadata": {
        "id": "wuFncB8U5RSG",
        "colab_type": "code",
        "colab": {}
      },
      "source": [
        "#Write a Python function to convert the distance in feet to yards!\n",
        "\n",
        "\n",
        "\n",
        "\n",
        "\n"
      ],
      "execution_count": null,
      "outputs": []
    },
    {
      "cell_type": "markdown",
      "metadata": {
        "id": "-v9KB-Y25RSJ",
        "colab_type": "text"
      },
      "source": [
        "<h1>Practical Example 2</h1>"
      ]
    },
    {
      "cell_type": "markdown",
      "metadata": {
        "id": "TdPC_X565RSK",
        "colab_type": "text"
      },
      "source": [
        "<h2><p style=\"text-align: center;\"> Before you look at the below example, it looks super 'cody', but I promise you it's just simple math with a bunch of print functions. </p></h2>"
      ]
    },
    {
      "cell_type": "markdown",
      "metadata": {
        "id": "4KnwiD-n5RSK",
        "colab_type": "text"
      },
      "source": [
        "![ChessUrl](https://media0.giphy.com/media/3og0IDuJ7OnLSUJybS/giphy.gif?cid=ecf05e47025aba10dff7c107e57b767669e298faf973fb9e&rid=giphy.gif)"
      ]
    },
    {
      "cell_type": "code",
      "metadata": {
        "id": "fGT3OlGF5RSK",
        "colab_type": "code",
        "colab": {}
      },
      "source": [
        "#This Python function lets you know if you're on track budgeting for the month!\n",
        "#This is super simplified and outputs are integers (not floats) so the percentage may be off just a bit!\n",
        "\n",
        "#Run Me!\n",
        "\n",
        "def budget(paycheck,savings,debt,rent,food,mis):\n",
        "    #calculating percentage for each argument and saves them as new variables!\n",
        "    savingspercent = ((savings/paycheck)*100)\n",
        "    debtpercent = ((debt/paycheck)*100)\n",
        "    rentpercent = ((rent/paycheck)*100)\n",
        "    foodpercent = ((food/paycheck)*100)\n",
        "    mispercent = ((mis/paycheck)*100)\n",
        "    \n",
        "    #Look at this if, else statement! If all the numbers you want to spend your paycheck on equal the paycheck amount, this runs!\n",
        "    if (savings+debt+rent+food+mis) == paycheck:\n",
        "        print(\"Looks like you're saving\",int(savingspercent),'percent of your income this paycheck!')\n",
        "        print(\"Looks like you're spending\",int(debtpercent),'percent of your paycheck on debt this paycheck!')\n",
        "        print(\"Looks like you're spending\",int(rentpercent),'percent of your income this paycheck on rent!')\n",
        "        print(\"Looks like you're budgeting to spend\",int(foodpercent),'percent of your income this paycheck on food!')\n",
        "        print(\"Looks like you're budgeting\",int(mispercent),'percent of your income this paycheck for miscellaneous things!')\n",
        "    #If they don't add up to your paycheck amount, this will run!\n",
        "    else:\n",
        "        print('Adjust the amounts you entered so what you spend equals the amount of your paycheck!')\n",
        "        \n",
        "        \n",
        "        \n",
        "#calling the function!    \n",
        "budget(1500,500,300,200,300,200)"
      ],
      "execution_count": null,
      "outputs": []
    },
    {
      "cell_type": "markdown",
      "metadata": {
        "id": "R_K3sL2a5RSO",
        "colab_type": "text"
      },
      "source": [
        "In the code cell above, we have a function called **budget** that takes **6 arguments.** What this function does is that it takes the **paycheck** amount, how much you want to **save (savings)**, how much you want to spend on **debt**, how much you want to spend on **rent**, how much you want to spend on **food** and how much you want to spend on **miscellaneous (mis)** things. It then adds them together to make sure you're finding a spot for every dollar in your paycheck, and tells you the percentage of each argument. "
      ]
    },
    {
      "cell_type": "markdown",
      "metadata": {
        "id": "l6a11Ujk5RSP",
        "colab_type": "text"
      },
      "source": [
        "**Using just one line of code, call the function *budget* using your own numbers!**\n"
      ]
    },
    {
      "cell_type": "code",
      "metadata": {
        "id": "9IqdAmDG5RSP",
        "colab_type": "code",
        "colab": {}
      },
      "source": [
        "#Read the comment above the else statemnt in the code cell above!\n",
        "#Make sure your numbers add up. If they don't you'll see the else statement print out.\n",
        "\n",
        "budget(1500,500,300,200,500,0)\n"
      ],
      "execution_count": null,
      "outputs": []
    },
    {
      "cell_type": "markdown",
      "metadata": {
        "id": "QiwqgvAr5RST",
        "colab_type": "text"
      },
      "source": [
        "Play around with the below code cell to add in arguments, delete arguments, and make it your own code!"
      ]
    },
    {
      "cell_type": "code",
      "metadata": {
        "id": "NH0yzKh25RSU",
        "colab_type": "code",
        "colab": {}
      },
      "source": [
        "#Edit Me!\n",
        "\n",
        "\n",
        "def budget(paycheck,savings,debt,rent,food,mis):\n",
        "    savingspercent = ((savings/paycheck)*100)\n",
        "    debtpercent = ((debt/paycheck)*100)\n",
        "    rentpercent = ((rent/paycheck)*100)\n",
        "    foodpercent = ((food/paycheck)*100)\n",
        "    mispercent = ((mis/paycheck)*100)\n",
        "    \n",
        "    #Look at this if, else statement! If all the numbers you want to spend your paycheck on equal the paycheck, this runs!\n",
        "    if (savings+debt+rent+food+mis) == paycheck:\n",
        "        print(\"Looks like you're saving\",int(savingspercent),'percent of your income this paycheck!')\n",
        "        print(\"Looks like you're spending\",int(debtpercent),'percent of your paycheck on debt this paycheck!')\n",
        "        print(\"Looks like you're spending\",int(rentpercent),'percent of your income this paycheck on rent!')\n",
        "        print(\"Looks like you're budgeting to spend\",int(foodpercent),'percent of your income this paycheck on food!')\n",
        "        print(\"Looks like you're budgeting\",int(mispercent),'percent of your income this paycheck for miscellaneous things!')\n",
        "    #If they don't add up to your paycheck amount, this will run!\n",
        "    else:\n",
        "        print('Adjust the amounts you entered so what you spend equals the amount of your paycheck!')\n",
        "        \n",
        "        \n",
        "        \n",
        "#calling the function!    \n",
        "budget(1500,500,300,200,300,200)"
      ],
      "execution_count": null,
      "outputs": []
    },
    {
      "cell_type": "markdown",
      "metadata": {
        "id": "9_zvP3NA5RSZ",
        "colab_type": "text"
      },
      "source": [
        "<h1>Practical Example 3</h1>"
      ]
    },
    {
      "cell_type": "code",
      "metadata": {
        "id": "Hp3_ddii5RSZ",
        "colab_type": "code",
        "colab": {}
      },
      "source": [
        "#This function helps you think of a new password!\n",
        "#DISCLAIMER: This may not be the best option to create a new password. Use wisely, lol!\n",
        "\n",
        "#Run Me!\n",
        "\n",
        "def fakepassword(fruit,shirtcolor,randomword):\n",
        "    fruit = fruit[-3:]\n",
        "    fruit = fruit.upper()\n",
        "    shirtcolor = shirtcolor[:3]\n",
        "    randomword = randomword.lower()\n",
        "    newword = fruit+shirtcolor+randomword\n",
        "    print('Your new password should be: ',newword)\n",
        "    \n",
        "    \n",
        "fakepassword(input(\"What's your favorite fruit?: \"),input(\"What color is your shirt right now?\"),input(\"Type a random word: \"))\n",
        "    \n",
        "       "
      ],
      "execution_count": null,
      "outputs": []
    },
    {
      "cell_type": "markdown",
      "metadata": {
        "id": "P_GlB34d5RSb",
        "colab_type": "text"
      },
      "source": [
        "The function above is called **fakepassword** and takes **3 arguments**. The first argument is a **user input** of your **favorite fruit**. The second argument is a **user input** of what **color your shirt is** right now. The third and final argument is a **user input** of a **random word**. It then takes the **last three** letters of your **favorite fruit** and the **capitalizes** them. It then takes the **first three letters** of your **shirt color** and converts the **random word** to all lower case. \n",
        "\n",
        "It then adds all these (**they're all strings!**) and assigns to a variable called newword. Then the function will print out a statement with **newword** in it."
      ]
    },
    {
      "cell_type": "markdown",
      "metadata": {
        "id": "u2JBUflQ5RSc",
        "colab_type": "text"
      },
      "source": [
        "Edit the 'calling the function' portfion of the code below and just enter in string values directly **instead** of asking for user input.\n",
        "\n",
        "\n",
        "Play around with the printing statement as well, add another argument, and make the code your own!"
      ]
    },
    {
      "cell_type": "code",
      "metadata": {
        "id": "S_ZDun705RSc",
        "colab_type": "code",
        "colab": {}
      },
      "source": [
        "#Write a Python function to convert the distance in feet to yards!\n",
        "\n",
        "def fakepassword(fruit,shirtcolor,randomword):\n",
        "    fruit = fruit[-3:]\n",
        "    fruit = fruit.upper()\n",
        "    shirtcolor = shirtcolor[:3]\n",
        "    randomword = randomword.lower()\n",
        "    newword = fruit+shirtcolor+randomword\n",
        "    print('Your new password should be: ',newword)\n",
        "    \n",
        "\n",
        "#Edit these arguments!    \n",
        "fakepassword(input(\"What's your favorite fruit?: \"),input(\"What color is your shirt right now?\"),input(\"Type a random word: \"))\n",
        "\n"
      ],
      "execution_count": null,
      "outputs": []
    },
    {
      "cell_type": "markdown",
      "metadata": {
        "id": "weJ65vtX5RSe",
        "colab_type": "text"
      },
      "source": [
        "<h1>Practical Example 4</h1>"
      ]
    },
    {
      "cell_type": "markdown",
      "metadata": {
        "id": "36B8RODI5RSf",
        "colab_type": "text"
      },
      "source": [
        "<h2> About to take you back in time just a bit.... </h2>"
      ]
    },
    {
      "cell_type": "markdown",
      "metadata": {
        "id": "S8IUIu9A5RSf",
        "colab_type": "text"
      },
      "source": [
        "Remember doing those 30+ homework problems about slope! Something I bet *we all use everyday*......"
      ]
    },
    {
      "cell_type": "markdown",
      "metadata": {
        "id": "tZCwJaMY5RSg",
        "colab_type": "text"
      },
      "source": [
        "![ChessUrl](https://media1.giphy.com/media/APqEbxBsVlkWSuFpth/giphy.webp?cid=ecf05e47b53b770b1ac6e823c6b19caee5d24cbb5617af0f&rid=giphy.webp)"
      ]
    },
    {
      "cell_type": "code",
      "metadata": {
        "id": "kTs2VYGt5RSg",
        "colab_type": "code",
        "colab": {}
      },
      "source": [
        "#This function calculates slope for us!\n",
        "\n",
        "#Run Me!\n",
        "def slope(x1,y1,x2,y2):\n",
        "        #Convert the strings to floats!\n",
        "        y2 = float(y2)\n",
        "        y1 = float(y1)\n",
        "        x2 = float(x2)\n",
        "        x1 = float(x1)\n",
        "        #calculate slope\n",
        "        slope = ((y2-y1)/(x2-x1))\n",
        "        #print\n",
        "        print(slope)\n",
        "\n",
        "#Calling the function!        \n",
        "slope(input('X1: '),input('Y1: '),input('X2: '),input('Y2: '))"
      ],
      "execution_count": null,
      "outputs": []
    },
    {
      "cell_type": "markdown",
      "metadata": {
        "id": "B4jIRuvo5RSj",
        "colab_type": "text"
      },
      "source": [
        "The function above is called **slope** and takes in **4 arguments** using **user input**. The arguments are **x1,y1** and **x2,y2**. The function then converts all those string inputs to **floats** and finally calculates **slope**."
      ]
    },
    {
      "cell_type": "markdown",
      "metadata": {
        "id": "pGiwkAiy5RSj",
        "colab_type": "text"
      },
      "source": [
        "With one line of code, call the function *slope* and enter in different values using either input or manually entering integers or floats"
      ]
    },
    {
      "cell_type": "code",
      "metadata": {
        "id": "6WGGGyJd5RSk",
        "colab_type": "code",
        "colab": {}
      },
      "source": [
        "#Call the function, slope\n",
        "\n"
      ],
      "execution_count": null,
      "outputs": []
    },
    {
      "cell_type": "markdown",
      "metadata": {
        "id": "Uiwxrx8J5RSm",
        "colab_type": "text"
      },
      "source": [
        "*This would've saved me so much time in highschool man....!*"
      ]
    },
    {
      "cell_type": "markdown",
      "metadata": {
        "id": "QiunGGm95RSn",
        "colab_type": "text"
      },
      "source": [
        "<h1>Practical Example 5</h1>"
      ]
    },
    {
      "cell_type": "markdown",
      "metadata": {
        "id": "zZSmBzzw5RSn",
        "colab_type": "text"
      },
      "source": [
        "<h2> Let's go shopping! </h2>"
      ]
    },
    {
      "cell_type": "markdown",
      "metadata": {
        "id": "fZVvpr_P5RSn",
        "colab_type": "text"
      },
      "source": [
        "![ChessUrl](https://media3.giphy.com/media/jv0TnQE80z8wU/giphy.webp?cid=ecf05e4739b698fb27ea2104bcda218cdad380391c1789bf&rid=giphy.webp)"
      ]
    },
    {
      "cell_type": "markdown",
      "metadata": {
        "id": "m3DvgE5L5RSn",
        "colab_type": "text"
      },
      "source": [
        "Orrrrr maybe not. Every store has **sales** offering a **certain percentages off** certain items. Run the function below to determine which stores are having a sale!"
      ]
    },
    {
      "cell_type": "code",
      "metadata": {
        "id": "nXHAWB0q5RSo",
        "colab_type": "code",
        "colab": {}
      },
      "source": [
        "#This function let's us know if a store is having a sale!\n",
        "\n",
        "#Run Me!\n",
        "def shopping(store):\n",
        "    \n",
        "    #We're going to take a user input and if we lowercase that user input and it equals target this portion will run. \n",
        "    if store.lower() == 'target':\n",
        "        print('Looks like Target is offering 15% off all clothes today and tomorrow!')\n",
        "        #...then this will print out after. Asking the user for ANOTHER input.\n",
        "        targetresponse = input('Are you interested in the 15% discount Target is offering? (Yes/No): ')\n",
        "        #Depending on how the user answers the above will dictate these if/elif/else statements.\n",
        "        if targetresponse.lower() == 'yes':\n",
        "            print(\"Beautiful! I'll e-mail you the promo codes. \")\n",
        "        elif targetresponse.lower() == 'no':\n",
        "            print(\"No problem! They'll have another sale next week which you may be interested in.\")\n",
        "        else:\n",
        "            print(\"You didn't respond yes or no...try running the code cell again.\")\n",
        "            \n",
        "    #if the store variable is not target, but nordstrom, this will run\n",
        "    elif store.lower() == 'nordstrom':\n",
        "        print('Nordstrom is having a clearance sale today only!')\n",
        "        \n",
        "    #if the store variable is bloomingdales this will run\n",
        "    elif store.lower() == 'bloomingdales':\n",
        "        print('Bloomingdales is only having a sale in the shoe department.')\n",
        "    #if the user inputs anything besides target, nordstrom, or bloomingdales, this will run.    \n",
        "    else:\n",
        "        print('Looks like that store is not having any sales.')\n",
        "\n",
        "        \n",
        "        \n",
        "        \n",
        "        \n",
        "#calling the function        \n",
        "shopping(input('What store are you going shopping at today?: '))\n",
        "        "
      ],
      "execution_count": null,
      "outputs": []
    },
    {
      "cell_type": "markdown",
      "metadata": {
        "id": "nvTA9fh05RSr",
        "colab_type": "text"
      },
      "source": [
        "I know a lot is happening here, so let's break it down:"
      ]
    },
    {
      "cell_type": "markdown",
      "metadata": {
        "id": "MXtjVIK35RSr",
        "colab_type": "text"
      },
      "source": [
        "The function above is called **shopping** and takes in **1 argument** using **user input** asking **What store are you going shopping at today?**. Whatever you enter will be **standardized** by using **.lower()**. <br>\n",
        "\n",
        "If the user enters **Target (or TARGET, or taRGEt, etc)**, they will receive a message and then asked **another question using user input**. This question asks **Are you interested in the 15% discount Target is offering? (Yes/No)**. We will then **standardize** the input turning it into lower case using **.lower()**. Depending on if the user puts yes,no,or something else they will receive a message corresponding to their input.<br> \n",
        "\n",
        "If the user types in Nordstrom (nordstrom, NORDSTROM, nOrDStrom, etc.) they will receive a message. Same with bloomingdales.<br>\n",
        "\n",
        "If the user does not enter Target, Nordstrom, or Bloomingdales, the computer will print out **Looks like that store is not having any sales.**"
      ]
    },
    {
      "cell_type": "markdown",
      "metadata": {
        "id": "c3dGiGGO5RSs",
        "colab_type": "text"
      },
      "source": [
        "Feel free to edit/play around with the code cell below."
      ]
    },
    {
      "cell_type": "code",
      "metadata": {
        "id": "mbu76uKn5RSt",
        "colab_type": "code",
        "colab": {}
      },
      "source": [
        "def shopping(store):\n",
        "    \n",
        "    #We're going to take a user input and if we lowercase that user input and it equals target this portion will run. \n",
        "    if store.lower() == 'target':\n",
        "        print('Looks like Target is offering 15% off all clothes today and tomorrow!')\n",
        "        #...then this will print out after. Asking the user for ANOTHER input.\n",
        "        targetresponse = input('Are you interested in the 15% discount Target is offering? (Yes/No): ')\n",
        "        #Depending on how the user answers the above will dictate these if/elif/else statements.\n",
        "        if targetresponse.lower() == 'yes':\n",
        "            print(\"Beautiful! I'll e-mail you the promo codes. \")\n",
        "        elif targetresponse.lower() == 'no':\n",
        "            print(\"No problem! They'll have another sale next week which you may be interested in.\")\n",
        "        else:\n",
        "            print(\"You didn't respond yes or no...try running the code cell again.\")\n",
        "            \n",
        "    #if the store variable is not target, but nordstrom, this will run\n",
        "    elif store.lower() == 'nordstrom':\n",
        "        print('Nordstrom is having a clearance sale today only!')\n",
        "        \n",
        "    #if the store variable is bloomingdales this will run\n",
        "    elif store.lower() == 'bloomingdales':\n",
        "        print('Bloomingdales is only having a sale in the shoe department.')\n",
        "    #if the user inputs anything besides target, nordstrom, or bloomingdales, this will run.    \n",
        "    else:\n",
        "        print('Looks like that store is not having any sales.')\n",
        "\n",
        "        \n",
        "        \n",
        "        \n",
        "        \n",
        "#calling the function        \n",
        "shopping(input('What store are you going shopping at today?: '))\n",
        "        "
      ],
      "execution_count": null,
      "outputs": []
    },
    {
      "cell_type": "markdown",
      "metadata": {
        "id": "EYJm1N6t5RSu",
        "colab_type": "text"
      },
      "source": [
        "<h2> After going through these examples, the next (last and final) notebook will be completely done by you with guided questions/problems! </h2>"
      ]
    },
    {
      "cell_type": "markdown",
      "metadata": {
        "id": "l7luiSqC5RSv",
        "colab_type": "text"
      },
      "source": [
        "<h1><p style=\"text-align: center;\"> Additional Code Cells for Practice </p></h1>\n"
      ]
    },
    {
      "cell_type": "code",
      "metadata": {
        "id": "9s_LMOrT5RSw",
        "colab_type": "code",
        "colab": {}
      },
      "source": [
        "#Additional code cell for anything you want to practice!\n",
        "\n"
      ],
      "execution_count": null,
      "outputs": []
    },
    {
      "cell_type": "code",
      "metadata": {
        "id": "7wCQ-vX95RSy",
        "colab_type": "code",
        "colab": {}
      },
      "source": [
        "#Additional code cell for anything you want to practice!\n",
        "\n"
      ],
      "execution_count": null,
      "outputs": []
    },
    {
      "cell_type": "code",
      "metadata": {
        "id": "jXputEcp5RS1",
        "colab_type": "code",
        "colab": {}
      },
      "source": [
        "#Additional code cell for anything you want to practice!\n",
        "\n"
      ],
      "execution_count": null,
      "outputs": []
    },
    {
      "cell_type": "code",
      "metadata": {
        "id": "HRNE5orC5RS3",
        "colab_type": "code",
        "colab": {}
      },
      "source": [
        "#Additional code cell for anything you want to practice!\n",
        "\n"
      ],
      "execution_count": null,
      "outputs": []
    },
    {
      "cell_type": "code",
      "metadata": {
        "id": "gWOlqei95RS7",
        "colab_type": "code",
        "colab": {}
      },
      "source": [
        "#Additional code cell for anything you want to practice!\n",
        "\n"
      ],
      "execution_count": null,
      "outputs": []
    },
    {
      "cell_type": "code",
      "metadata": {
        "id": "M845p6355RS-",
        "colab_type": "code",
        "colab": {}
      },
      "source": [
        "#Additional code cell for anything you want to practice!\n",
        "\n"
      ],
      "execution_count": null,
      "outputs": []
    },
    {
      "cell_type": "code",
      "metadata": {
        "id": "kHq2kyiw5RS_",
        "colab_type": "code",
        "colab": {}
      },
      "source": [
        "#Additional code cell for anything you want to practice!\n",
        "\n"
      ],
      "execution_count": null,
      "outputs": []
    },
    {
      "cell_type": "code",
      "metadata": {
        "id": "0bhUNzSq5RTC",
        "colab_type": "code",
        "colab": {}
      },
      "source": [
        "#Additional code cell for anything you want to practice!\n",
        "\n"
      ],
      "execution_count": null,
      "outputs": []
    },
    {
      "cell_type": "code",
      "metadata": {
        "id": "HhxYc-Zs5RTG",
        "colab_type": "code",
        "colab": {}
      },
      "source": [
        "#Additional code cell for anything you want to practice!\n",
        "\n"
      ],
      "execution_count": null,
      "outputs": []
    },
    {
      "cell_type": "code",
      "metadata": {
        "id": "RYqhdNZi5RTJ",
        "colab_type": "code",
        "colab": {}
      },
      "source": [
        "#Additional code cell for anything you want to practice!\n",
        "\n"
      ],
      "execution_count": null,
      "outputs": []
    },
    {
      "cell_type": "code",
      "metadata": {
        "id": "SSjllyRI5RTL",
        "colab_type": "code",
        "colab": {}
      },
      "source": [
        "#Additional code cell for anything you want to practice!\n",
        "\n"
      ],
      "execution_count": null,
      "outputs": []
    },
    {
      "cell_type": "code",
      "metadata": {
        "id": "VpYdxCmq5RTO",
        "colab_type": "code",
        "colab": {}
      },
      "source": [
        "#Additional code cell for anything you want to practice!\n",
        "\n"
      ],
      "execution_count": null,
      "outputs": []
    },
    {
      "cell_type": "code",
      "metadata": {
        "id": "LP5M3Mf65RTQ",
        "colab_type": "code",
        "colab": {}
      },
      "source": [
        "#Additional code cell for anything you want to practice!\n",
        "\n"
      ],
      "execution_count": null,
      "outputs": []
    },
    {
      "cell_type": "code",
      "metadata": {
        "id": "k_UE-S155RTT",
        "colab_type": "code",
        "colab": {}
      },
      "source": [
        "#Additional code cell for anything you want to practice!\n",
        "\n"
      ],
      "execution_count": null,
      "outputs": []
    },
    {
      "cell_type": "code",
      "metadata": {
        "id": "tlSy2pFe5RTU",
        "colab_type": "code",
        "colab": {}
      },
      "source": [
        "#Additional code cell for anything you want to practice!\n",
        "\n"
      ],
      "execution_count": null,
      "outputs": []
    },
    {
      "cell_type": "markdown",
      "metadata": {
        "id": "On5vlxbs5RTX",
        "colab_type": "text"
      },
      "source": [
        "![ChessUrl](https://media2.giphy.com/media/Jn3fqI2I0m5cB2L8g6/giphy.gif?cid=ecf05e47e84564be150434d66defa29edefd4fa3a06380af&rid=giphy.gif)"
      ]
    },
    {
      "cell_type": "markdown",
      "metadata": {
        "id": "s5J7kMWq5RTX",
        "colab_type": "text"
      },
      "source": [
        "<h1><p style=\"text-align: center;\"> Thank you for looking over Notebook 7. Send any feedback to zap1295@yahoo.com </p></h1>"
      ]
    },
    {
      "cell_type": "markdown",
      "metadata": {
        "id": "1_Zg7_BL5RTY",
        "colab_type": "text"
      },
      "source": [
        "© June 2020 Zakir Pasha"
      ]
    },
    {
      "cell_type": "code",
      "metadata": {
        "id": "kkSyzPbF5RTZ",
        "colab_type": "code",
        "colab": {}
      },
      "source": [
        ""
      ],
      "execution_count": null,
      "outputs": []
    }
  ]
}