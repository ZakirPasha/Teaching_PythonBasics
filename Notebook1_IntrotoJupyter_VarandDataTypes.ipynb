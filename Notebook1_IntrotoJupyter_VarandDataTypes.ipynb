{
  "nbformat": 4,
  "nbformat_minor": 0,
  "metadata": {
    "kernelspec": {
      "display_name": "Python 3",
      "language": "python",
      "name": "python3"
    },
    "language_info": {
      "codemirror_mode": {
        "name": "ipython",
        "version": 3
      },
      "file_extension": ".py",
      "mimetype": "text/x-python",
      "name": "python",
      "nbconvert_exporter": "python",
      "pygments_lexer": "ipython3",
      "version": "3.6.7"
    },
    "colab": {
      "name": "Notebook1_IntrotoJupyter_VarandDataTypes.ipynb",
      "provenance": []
    }
  },
  "cells": [
    {
      "cell_type": "markdown",
      "metadata": {
        "deletable": false,
        "editable": false,
        "id": "XDzlJAHQ4ZH2",
        "colab_type": "text"
      },
      "source": [
        "<h1><p style=\"text-align: center;\"> HOLLLLLD UP. What is this thing opening up in my browser, Zakir? </p></h1>\n",
        "<h2> Welcome to the world of Jupyter Notebooks. </h2>\n",
        "\n",
        "<br>Here, you can play around in Python! Go ahead and read through this workbook and follow the instructions:"
      ]
    },
    {
      "cell_type": "markdown",
      "metadata": {
        "deletable": false,
        "editable": false,
        "id": "W9GA_Zqp4ZH3",
        "colab_type": "text"
      },
      "source": [
        "<h2> Before You Start: </h2>\n",
        "\n",
        "Below is what we call a cell. A cell has the the notation \" In [                    ] \" to the left of it."
      ]
    },
    {
      "cell_type": "markdown",
      "metadata": {
        "deletable": false,
        "editable": false,
        "id": "XV1WK6KJ4ZH3",
        "colab_type": "text"
      },
      "source": [
        "![](cell)"
      ]
    },
    {
      "cell_type": "code",
      "metadata": {
        "deletable": false,
        "editable": false,
        "id": "8e3p4-7H4ZH4",
        "colab_type": "code",
        "colab": {}
      },
      "source": [
        "#I'm a cell!"
      ],
      "execution_count": null,
      "outputs": []
    },
    {
      "cell_type": "markdown",
      "metadata": {
        "deletable": false,
        "editable": false,
        "id": "jUqsYEKJ4ZH7",
        "colab_type": "text"
      },
      "source": [
        "Cells like the one above allow us to execute code. When we don't want to write code, but want to leave a comment, we put a hastag (#) on the same line as the word. \n",
        "\n",
        "In the above example, we have a code cell, which contains a comment saying \"I am a cell!\". "
      ]
    },
    {
      "cell_type": "markdown",
      "metadata": {
        "deletable": false,
        "editable": false,
        "id": "nomen15E4ZH8",
        "colab_type": "text"
      },
      "source": [
        "The examples I'm going to walk you through are written in different code cells.\n",
        "\n",
        "Whenever you see #Run Me! in a cell, go ahead and click into it and press Shift + Enter. **Let's ignore the meaning of contents for now.** \n",
        "\n",
        "Try it below:"
      ]
    },
    {
      "cell_type": "code",
      "metadata": {
        "deletable": false,
        "editable": false,
        "id": "---bW4l74ZH9",
        "colab_type": "code",
        "colab": {},
        "outputId": "9011efba-53ec-4c1a-a7da-27b2dc9466a0"
      },
      "source": [
        "#Run Me!\n",
        "greeting = \"What's up!\"\n",
        "print(greeting)"
      ],
      "execution_count": null,
      "outputs": [
        {
          "output_type": "stream",
          "text": [
            "What's up!\n"
          ],
          "name": "stdout"
        }
      ]
    },
    {
      "cell_type": "markdown",
      "metadata": {
        "deletable": false,
        "editable": false,
        "id": "QQYOvACy4ZIA",
        "colab_type": "text"
      },
      "source": [
        "After clicking into the cell above and pressing Shift + Enter, above should print out **What's up!** Selecting Shift+Enter and seeing an output below a code cell is called **running the cell.** \n",
        "\n",
        "This basically means you ran the code that was written in this cell.\n",
        "\n",
        "Lastly, notice how the first line in the code cell above is a comment line (hashtag). \n",
        "\n",
        "**THE COMPUTER DOES NOT READ THIS CODE. COMMENTS ARE USED FOR THE USER (ME AND YOU) TO KEEP TRACK OF WHAT WE'RE TYPING**\n",
        "\n",
        "<br>The following lines without hashtags are your working code lines.\n",
        "\n",
        "<br>*greeting = \"What's up!\"*\n",
        "<br>*print(greeting)*\n",
        "\n",
        "This is what the computer reads to execute what you want to do. It does not read the hashtagged line."
      ]
    },
    {
      "cell_type": "markdown",
      "metadata": {
        "deletable": false,
        "editable": false,
        "id": "7Wsg-b8d4ZIB",
        "colab_type": "text"
      },
      "source": [
        "<h2><p style=\"text-align: center;\">To Recap:</p></h2>\n",
        "\n",
        "1. What you're viewing right now is called a Jupyter Notebook.\n",
        "2. The long rectangles that have In [          ]: to the left hand side are called code cells.\n",
        "3. Hashtags are used to comment out or write notes in code cells so they are not ran in the code.\n",
        "4. Working code = Code that is read by the computer. Commented code = code read by user and not computer.\n",
        "5. Whenever you see \"#Run Me!\" in the code cells, click into it and press Shift + Enter"
      ]
    },
    {
      "cell_type": "markdown",
      "metadata": {
        "deletable": false,
        "editable": false,
        "id": "sibWR3kH4ZIC",
        "colab_type": "text"
      },
      "source": [
        "<h2><p style=\"text-align: center;\"> Enough of how this environment works, let's start learning Python! </p></h2> \n",
        "![ChessUrl](https://media0.giphy.com/media/rmi45iyhIPuRG/giphy.gif?cid=ecf05e476e7be1b77ad3cd4206b4f6784bb23012d88cec35&rid=giphy.gif)"
      ]
    },
    {
      "cell_type": "markdown",
      "metadata": {
        "deletable": false,
        "editable": false,
        "id": "vbNMK6EE4ZIC",
        "colab_type": "text"
      },
      "source": [
        "<h1><p style=\"text-align: center;\">Notebook 1. Variables and Data Types</p></h1>\n"
      ]
    },
    {
      "cell_type": "markdown",
      "metadata": {
        "deletable": false,
        "editable": false,
        "id": "JiHiBruR4ZID",
        "colab_type": "text"
      },
      "source": [
        "<h1> Variables </h1>"
      ]
    },
    {
      "cell_type": "markdown",
      "metadata": {
        "deletable": false,
        "editable": false,
        "id": "ERxkeu_c4ZIE",
        "colab_type": "text"
      },
      "source": [
        "Wait! Don't leave yet...I know this already sounds nerdy but peep this:\n",
        "\n",
        "A variable is a location to store values (words, numbers, etc.)\n",
        "\n",
        "What's the point of a variable? One example is to think about user input. If the input is a word or sentence (we call words and sentences, strings), you can run that through a function and get a certain output. \n",
        "\n",
        "Variables just allow us to store values and call them during later parts of our code."
      ]
    },
    {
      "cell_type": "markdown",
      "metadata": {
        "deletable": false,
        "editable": false,
        "id": "qh7G9huL4ZIE",
        "colab_type": "text"
      },
      "source": [
        "<h2>Let me show you what a variable can do: </h2>"
      ]
    },
    {
      "cell_type": "code",
      "metadata": {
        "deletable": false,
        "editable": false,
        "id": "4aLP_7C74ZIF",
        "colab_type": "code",
        "colab": {}
      },
      "source": [
        "#Run Me!\n",
        "chicago = 23"
      ],
      "execution_count": null,
      "outputs": []
    },
    {
      "cell_type": "markdown",
      "metadata": {
        "deletable": false,
        "editable": false,
        "id": "R3SXK69p4ZII",
        "colab_type": "text"
      },
      "source": [
        "Boom! Above, you set the number 23 to be equal to the variable chicago.. Nothing printed out, and that's okay! We'll use the **print()** function in the next code cell to have things print out.\n",
        "\n",
        "A variable can be called **literally anything** except numbers (I'll tell you why later). Creating a variable is just as easy as typing a word or letter (instead of chicago, we could've done x or sunflower)"
      ]
    },
    {
      "cell_type": "markdown",
      "metadata": {
        "deletable": false,
        "editable": false,
        "id": "j6v61WDk4ZIJ",
        "colab_type": "text"
      },
      "source": [
        "Above, we set the variable chicago equal to the number 23. Let's print this variable to confirm that.\n",
        "\n",
        "Printing a variable is as easy as print(variable)"
      ]
    },
    {
      "cell_type": "code",
      "metadata": {
        "deletable": false,
        "editable": false,
        "id": "py7eXXUg4ZIK",
        "colab_type": "code",
        "colab": {}
      },
      "source": [
        "#Run Me!\n",
        "print(chicago)"
      ],
      "execution_count": null,
      "outputs": []
    },
    {
      "cell_type": "markdown",
      "metadata": {
        "deletable": false,
        "editable": false,
        "id": "DNf_RKzW4ZIN",
        "colab_type": "text"
      },
      "source": [
        "BAM! We have 23 printed above. You're officially coding in Python now!!!!"
      ]
    },
    {
      "cell_type": "markdown",
      "metadata": {
        "deletable": false,
        "editable": false,
        "id": "S6wkg3C74ZIN",
        "colab_type": "text"
      },
      "source": [
        "![ChessUrl](https://media0.giphy.com/media/xUOwFS0b2TBfJE4gYU/giphy-downsized-large.gif)"
      ]
    },
    {
      "cell_type": "markdown",
      "metadata": {
        "deletable": false,
        "editable": false,
        "id": "0F7HUWWx4ZIN",
        "colab_type": "text"
      },
      "source": [
        "<h2> You can click into and edit the code cells below. </h2>"
      ]
    },
    {
      "cell_type": "code",
      "metadata": {
        "id": "8uwlKtzN4ZIO",
        "colab_type": "code",
        "colab": {}
      },
      "source": [
        "#Practice creating your own variable and setting it equal to a number, and Run Me!\n"
      ],
      "execution_count": null,
      "outputs": []
    },
    {
      "cell_type": "code",
      "metadata": {
        "id": "3haSKoDg4ZIQ",
        "colab_type": "code",
        "colab": {}
      },
      "source": [
        "#Use the print function to print the variable you created above, and Run Me!\n"
      ],
      "execution_count": null,
      "outputs": []
    },
    {
      "cell_type": "code",
      "metadata": {
        "id": "KVpOe2-B4ZIf",
        "colab_type": "code",
        "colab": {}
      },
      "source": [
        "#An extra code cell for whatever you want! There's more practice code cells available at the end of the workbook!\n",
        "\n"
      ],
      "execution_count": null,
      "outputs": []
    },
    {
      "cell_type": "markdown",
      "metadata": {
        "deletable": false,
        "editable": false,
        "id": "vL_kcURV4ZIi",
        "colab_type": "text"
      },
      "source": [
        "<h1> Variables Part Two </h1>"
      ]
    },
    {
      "cell_type": "code",
      "metadata": {
        "deletable": false,
        "editable": false,
        "id": "z1Z9UNpX4ZIi",
        "colab_type": "code",
        "colab": {}
      },
      "source": [
        "#Run Me!\n",
        "x = 50\n",
        "y = 33\n",
        "terio = 'lengendary'"
      ],
      "execution_count": null,
      "outputs": []
    },
    {
      "cell_type": "markdown",
      "metadata": {
        "deletable": false,
        "editable": false,
        "id": "OP86IiYW4ZIl",
        "colab_type": "text"
      },
      "source": [
        "Above, you just assigned the number 50 to x, 33 to y, and the word legendary to terio\n",
        "Let's confirm that by printing these variables:"
      ]
    },
    {
      "cell_type": "code",
      "metadata": {
        "deletable": false,
        "editable": false,
        "id": "8esI2_Zr4ZIm",
        "colab_type": "code",
        "colab": {}
      },
      "source": [
        "#Run Me!\n",
        "print(x)\n",
        "print(y)\n",
        "print(terio)"
      ],
      "execution_count": null,
      "outputs": []
    },
    {
      "cell_type": "markdown",
      "metadata": {
        "deletable": false,
        "editable": false,
        "id": "xlrjlt_-4ZIp",
        "colab_type": "text"
      },
      "source": [
        "It's not magic, you created this two cells ago! See how easy it is to assign stuff to variables? \n",
        "\n",
        "Notice how when we created the variable terio, we assigned it to **'legendary'**(with quotations), not **legendary** (without quotations)."
      ]
    },
    {
      "cell_type": "markdown",
      "metadata": {
        "deletable": false,
        "editable": false,
        "id": "VcA4X3_r4ZIp",
        "colab_type": "text"
      },
      "source": [
        "The reason we assigned it to 'legendary' was because we read Python left to right. The variable comes first, and whatever you set it equal to comes second. \n",
        "\n",
        "When setting variables equal to letters, words, or sentences (strings) we MUST put those in quotation marks (single or double). \n",
        "\n",
        "\n",
        "See what happens here when we try to set a variable equal to a word without quotations"
      ]
    },
    {
      "cell_type": "code",
      "metadata": {
        "deletable": false,
        "editable": false,
        "id": "I8hZJRsa4ZIq",
        "colab_type": "code",
        "colab": {}
      },
      "source": [
        "#Run Me!\n",
        "thisaint = gonnawork"
      ],
      "execution_count": null,
      "outputs": []
    },
    {
      "cell_type": "markdown",
      "metadata": {
        "deletable": false,
        "editable": false,
        "id": "QZ2lNjTU4ZIs",
        "colab_type": "text"
      },
      "source": [
        "The computer got mad at you and is basically saying you can't assign a variable (word without quotations) to another variable that hasn't previously been assigned to anything.\n",
        "\n",
        "The exception for this rule is when the second variable already equals something above."
      ]
    },
    {
      "cell_type": "markdown",
      "metadata": {
        "deletable": false,
        "editable": false,
        "id": "NknWiPze4ZIt",
        "colab_type": "text"
      },
      "source": [
        "Remember the variable chicago from earlier?"
      ]
    },
    {
      "cell_type": "code",
      "metadata": {
        "deletable": false,
        "editable": false,
        "id": "nCKCscvn4ZIt",
        "colab_type": "code",
        "colab": {}
      },
      "source": [
        "#Run Me!\n",
        "print(chicago)"
      ],
      "execution_count": null,
      "outputs": []
    },
    {
      "cell_type": "markdown",
      "metadata": {
        "deletable": false,
        "editable": false,
        "id": "jOxO9dm14ZIv",
        "colab_type": "text"
      },
      "source": [
        "Let me show you a case when we can set a variable equal to another variable. We can create a new variable to take over whatever chicago was."
      ]
    },
    {
      "cell_type": "code",
      "metadata": {
        "deletable": false,
        "editable": false,
        "id": "LXQBORnd4ZIw",
        "colab_type": "code",
        "colab": {}
      },
      "source": [
        "#Run Me!\n",
        "#See! No Quotes around either of these\n",
        "newchicago = chicago"
      ],
      "execution_count": null,
      "outputs": []
    },
    {
      "cell_type": "code",
      "metadata": {
        "deletable": false,
        "editable": false,
        "id": "L0sh7NEZ4ZIy",
        "colab_type": "code",
        "colab": {}
      },
      "source": [
        "#Run Me!\n",
        "print(newchicago)\n",
        "print(chicago)"
      ],
      "execution_count": null,
      "outputs": []
    },
    {
      "cell_type": "markdown",
      "metadata": {
        "deletable": false,
        "editable": false,
        "id": "vEKLf-A_4ZI2",
        "colab_type": "text"
      },
      "source": [
        "<h3>New variable alert!</h3> \n",
        "<br>newchicago is now what chicago was equal to. The variable chicago is unchanged.</br>\n",
        "\n",
        "thisaint = gonnawork; This didn't work because gonnawork is not assigned to anything previously\n",
        "\n",
        "newchicago = chicago; This worked because chicago was already assigned to something (23)\n"
      ]
    },
    {
      "cell_type": "markdown",
      "metadata": {
        "id": "5_78tSMp4ZI2",
        "colab_type": "text"
      },
      "source": [
        "**Before we move onto Data Types, is it possible to print out things directly?**\n",
        "\n",
        "Definitely! Go ahead and use the print() function and if it's a word or sentence you want to print, put quotations (single or double) around it. If its a number, go ahead and just put the number directly."
      ]
    },
    {
      "cell_type": "code",
      "metadata": {
        "deletable": false,
        "editable": false,
        "id": "6UBNelNB4ZI2",
        "colab_type": "code",
        "colab": {},
        "outputId": "06fec35d-841f-43f7-9897-910e49d3aea8"
      },
      "source": [
        "#Run Me!\n",
        "print('directly')\n",
        "print(\"I'm really hungry right now.\")\n",
        "print(45)"
      ],
      "execution_count": null,
      "outputs": [
        {
          "output_type": "stream",
          "text": [
            "directly\n",
            "I'm really hungry right now.\n",
            "45\n"
          ],
          "name": "stdout"
        }
      ]
    },
    {
      "cell_type": "markdown",
      "metadata": {
        "id": "juqhGxyN4ZI5",
        "colab_type": "text"
      },
      "source": [
        "Notice in the code cell above, I use single quotations around the word directly and double quotations around the phrase I'm really hungry right now.\n",
        "\n",
        "The reason I switched it up on you is because of that darn **apostrophe** between the letters I and m.\n",
        "\n",
        "**If you use apostrophes in the phrase you're trying to print, you must use double quotes!**\n",
        "\n",
        "If you use single quotes Python recognizes that apostrophe as a quote! Take a look:"
      ]
    },
    {
      "cell_type": "code",
      "metadata": {
        "id": "CDk5xSD84ZI6",
        "colab_type": "code",
        "colab": {},
        "outputId": "3e2eb017-87f1-4eed-82ea-c5746a43e65c"
      },
      "source": [
        "#Run Me!\n",
        "#Using single quotes\n",
        "print('I'm trying to use single quotes)"
      ],
      "execution_count": null,
      "outputs": [
        {
          "output_type": "error",
          "ename": "SyntaxError",
          "evalue": "invalid syntax (<ipython-input-1-d43b4b04b807>, line 1)",
          "traceback": [
            "\u001b[0;36m  File \u001b[0;32m\"<ipython-input-1-d43b4b04b807>\"\u001b[0;36m, line \u001b[0;32m1\u001b[0m\n\u001b[0;31m    print('I'm trying to use single quotes)\u001b[0m\n\u001b[0m             ^\u001b[0m\n\u001b[0;31mSyntaxError\u001b[0m\u001b[0;31m:\u001b[0m invalid syntax\n"
          ]
        }
      ]
    },
    {
      "cell_type": "markdown",
      "metadata": {
        "id": "Roo-WTHc4ZI9",
        "colab_type": "text"
      },
      "source": [
        "See in the code cell above, we started with a single quote, and typed in the apostrophe and it thought the word was over!\n",
        "\n",
        "Here is how to to do it correctly"
      ]
    },
    {
      "cell_type": "code",
      "metadata": {
        "id": "hGxndgK74ZI9",
        "colab_type": "code",
        "colab": {},
        "outputId": "6b80fd95-e840-4248-dec1-139cc4c79646"
      },
      "source": [
        "print(\"I'm using double quotes to print this.\")"
      ],
      "execution_count": null,
      "outputs": [
        {
          "output_type": "stream",
          "text": [
            "I'm using double quotes to print this.\n"
          ],
          "name": "stdout"
        }
      ]
    },
    {
      "cell_type": "markdown",
      "metadata": {
        "deletable": false,
        "editable": false,
        "id": "UAXoiUfY4ZJA",
        "colab_type": "text"
      },
      "source": [
        "<h2> Practice by manually editing the code cells: </h2>"
      ]
    },
    {
      "cell_type": "code",
      "metadata": {
        "id": "jOyhDn7C4ZJB",
        "colab_type": "code",
        "colab": {}
      },
      "source": [
        "#In this cell, create a variable and set it equal to a number or string, and Run Me!\n",
        "\n"
      ],
      "execution_count": null,
      "outputs": []
    },
    {
      "cell_type": "code",
      "metadata": {
        "id": "bEbJ5xvF4ZJD",
        "colab_type": "code",
        "colab": {}
      },
      "source": [
        "#Use the print() function to print out that variable, and Run Me!\n",
        "\n"
      ],
      "execution_count": null,
      "outputs": []
    },
    {
      "cell_type": "code",
      "metadata": {
        "id": "Rhnby5Ft4ZJF",
        "colab_type": "code",
        "colab": {}
      },
      "source": [
        "#Create a new variable to be equal to the variable you made 2 code cells ago, and Run Me!\n",
        "\n"
      ],
      "execution_count": null,
      "outputs": []
    },
    {
      "cell_type": "code",
      "metadata": {
        "id": "n572FvnB4ZJJ",
        "colab_type": "code",
        "colab": {}
      },
      "source": [
        "#Use the print() function to print out that new variable, and Run Me!\n",
        "\n"
      ],
      "execution_count": null,
      "outputs": []
    },
    {
      "cell_type": "code",
      "metadata": {
        "id": "Cz3LBww74ZJL",
        "colab_type": "code",
        "colab": {}
      },
      "source": [
        "#Print the words 'chocolate','vanilla','strawberry' directly using three seperate print functions, and Run Me!\n",
        "\n"
      ],
      "execution_count": null,
      "outputs": []
    },
    {
      "cell_type": "code",
      "metadata": {
        "id": "KZ6yNa8y4ZJP",
        "colab_type": "code",
        "colab": {}
      },
      "source": [
        "#An extra code cell for whatever you want! There's more practice code cells available at the end of the workbook!\n",
        "\n"
      ],
      "execution_count": null,
      "outputs": []
    },
    {
      "cell_type": "markdown",
      "metadata": {
        "deletable": false,
        "editable": false,
        "id": "9uYYXeey4ZJS",
        "colab_type": "text"
      },
      "source": [
        "<h2><p style=\"text-align: center;\">To Recap:</p></h2>\n",
        "\n",
        "Variables are words that hold values. Those values (for now) can be words, sentences, and numbers. You can add variables together, you can overwrite variables, and rename variables.\n",
        "\n",
        "You cannot name a variable a number in Python. You just can't:\n",
        "\n",
        "11 = 'hello' <- ain't gonna happen, boss!\n",
        "\n",
        "hello = 11 <- variable named hello is equal to the *value* 11\n",
        "\n",
        "**A variable must be one or more letters with no spaces in between**"
      ]
    },
    {
      "cell_type": "markdown",
      "metadata": {
        "deletable": false,
        "editable": false,
        "id": "NMLNMu5r4ZJS",
        "colab_type": "text"
      },
      "source": [
        "______________________________________________________________________________________________________________________\n",
        "\n",
        "\n",
        "\n"
      ]
    },
    {
      "cell_type": "markdown",
      "metadata": {
        "deletable": false,
        "editable": false,
        "id": "bp88Yf5n4ZJS",
        "colab_type": "text"
      },
      "source": [
        "<h1> Data Types </h1>\n",
        "\n",
        "For now, all you have to know is that there are three data types:\n",
        "\n",
        "Integer: like 7, 8, 9, 10<br>\n",
        "Float: like 7.1, 8.444, 10.1123<br>\n",
        "String: like 'Hey, I am a string'\n",
        "\n",
        "Here are some variables assigned to different data types"
      ]
    },
    {
      "cell_type": "code",
      "metadata": {
        "deletable": false,
        "editable": false,
        "id": "Mahbwq3f4ZJT",
        "colab_type": "code",
        "colab": {}
      },
      "source": [
        "#Run Me!\n",
        "laptop = 3\n",
        "bed = 99.4\n",
        "chair = \"pink\""
      ],
      "execution_count": null,
      "outputs": []
    },
    {
      "cell_type": "markdown",
      "metadata": {
        "deletable": false,
        "editable": false,
        "id": "6eMgYUUN4ZJV",
        "colab_type": "text"
      },
      "source": [
        "How do we see what **data type** these variables are?"
      ]
    },
    {
      "cell_type": "code",
      "metadata": {
        "deletable": false,
        "editable": false,
        "id": "tjnvmcWd4ZJW",
        "colab_type": "code",
        "colab": {}
      },
      "source": [
        "#Run Me!\n",
        "print(type(laptop))\n",
        "print(type(bed))\n",
        "print(type(chair))"
      ],
      "execution_count": null,
      "outputs": []
    },
    {
      "cell_type": "markdown",
      "metadata": {
        "deletable": false,
        "editable": false,
        "id": "iUrTGRLc4ZJY",
        "colab_type": "text"
      },
      "source": [
        "<h3>Why does this matter?</h3>\n",
        "\n",
        "A lot of coding invovles math (UGH, I know right?!), and believe it or not you can't really had 3 + \"pink\". You can only add integers and floats together (or strings and strings) Let's see what happens when you try to add together two variables that are a string and a integer, respectively."
      ]
    },
    {
      "cell_type": "code",
      "metadata": {
        "deletable": false,
        "editable": false,
        "id": "m65_mX7j4ZJZ",
        "colab_type": "code",
        "colab": {}
      },
      "source": [
        "#Run Me!\n",
        "#Remember we assigned values to chair and laptop above!\n",
        "chair + laptop"
      ],
      "execution_count": null,
      "outputs": []
    },
    {
      "cell_type": "markdown",
      "metadata": {
        "deletable": false,
        "editable": false,
        "id": "8eHEAnC44ZJb",
        "colab_type": "text"
      },
      "source": [
        "You probably got yelled at again, but this was because you were trying to add two different types together! Lets add two numbers (using variable names) together"
      ]
    },
    {
      "cell_type": "code",
      "metadata": {
        "deletable": false,
        "editable": false,
        "id": "PawwRkCi4ZJb",
        "colab_type": "code",
        "colab": {}
      },
      "source": [
        "#Run Me!\n",
        "laptop + bed"
      ],
      "execution_count": null,
      "outputs": []
    },
    {
      "cell_type": "markdown",
      "metadata": {
        "deletable": false,
        "editable": false,
        "id": "w-WCgnks4ZJe",
        "colab_type": "text"
      },
      "source": [
        "Beautiful! You should've seen the number 102.4 print out.\n",
        "\n",
        "Now lets circle back to assign this operation to a variable to hold it!"
      ]
    },
    {
      "cell_type": "code",
      "metadata": {
        "id": "7RpKFORQ4ZJe",
        "colab_type": "code",
        "colab": {}
      },
      "source": [
        "#Before running me, think about what this code does! When you have an idea....\n",
        "#Run Me!\n",
        "finish = laptop + bed"
      ],
      "execution_count": null,
      "outputs": []
    },
    {
      "cell_type": "markdown",
      "metadata": {
        "deletable": false,
        "editable": false,
        "id": "rxmbm1ls4ZJi",
        "colab_type": "text"
      },
      "source": [
        "Let's print this **new** variable!"
      ]
    },
    {
      "cell_type": "code",
      "metadata": {
        "deletable": false,
        "editable": false,
        "id": "Sm2P3HzN4ZJi",
        "colab_type": "code",
        "colab": {}
      },
      "source": [
        "print(finish)"
      ],
      "execution_count": null,
      "outputs": []
    },
    {
      "cell_type": "markdown",
      "metadata": {
        "deletable": false,
        "editable": false,
        "id": "YmENJFZK4ZJl",
        "colab_type": "text"
      },
      "source": [
        "<h2>Let's take a look at a common misunderstanding I want to make clear:</h2>"
      ]
    },
    {
      "cell_type": "code",
      "metadata": {
        "deletable": false,
        "editable": false,
        "id": "vc6SbMNK4ZJm",
        "colab_type": "code",
        "colab": {}
      },
      "source": [
        "#Run Me!\n",
        "value1 = 45\n",
        "value2 = '45'\n",
        "value3 = 21"
      ],
      "execution_count": null,
      "outputs": []
    },
    {
      "cell_type": "code",
      "metadata": {
        "deletable": false,
        "editable": false,
        "id": "D1xwTOfj4ZJo",
        "colab_type": "code",
        "colab": {}
      },
      "source": [
        "#Before running me, think about what this code does! When you have an idea....\n",
        "#Run Me!\n",
        "willthiswork = value2 + value3"
      ],
      "execution_count": null,
      "outputs": []
    },
    {
      "cell_type": "markdown",
      "metadata": {
        "deletable": false,
        "editable": false,
        "id": "cPs6sgT24ZJu",
        "colab_type": "text"
      },
      "source": [
        "<h3>Wondering why the above didn't work?</h3>\n",
        "\n",
        "**value2** is actually a **string** type! Anything with quotes around it becomes a string type."
      ]
    },
    {
      "cell_type": "code",
      "metadata": {
        "deletable": false,
        "editable": false,
        "id": "pz1q2vLF4ZJv",
        "colab_type": "code",
        "colab": {}
      },
      "source": [
        "#Run Me!\n",
        "#Let's see what data type these values are\n",
        "print(type(value1))\n",
        "print(type(value2))\n",
        "print(type(value3))"
      ],
      "execution_count": null,
      "outputs": []
    },
    {
      "cell_type": "markdown",
      "metadata": {
        "deletable": false,
        "editable": false,
        "id": "ZOLPU4wK4ZJx",
        "colab_type": "text"
      },
      "source": [
        "You can add **value1** and **value3** together because they are the same type!"
      ]
    },
    {
      "cell_type": "code",
      "metadata": {
        "deletable": false,
        "editable": false,
        "id": "QreUK5AJ4ZJy",
        "colab_type": "code",
        "colab": {}
      },
      "source": [
        "#Run Me!\n",
        "thiswillwork = value1 + value3"
      ],
      "execution_count": null,
      "outputs": []
    },
    {
      "cell_type": "code",
      "metadata": {
        "deletable": false,
        "editable": false,
        "id": "aYAMF7Pb4ZJ0",
        "colab_type": "code",
        "colab": {}
      },
      "source": [
        "print(thiswillwork)"
      ],
      "execution_count": null,
      "outputs": []
    },
    {
      "cell_type": "markdown",
      "metadata": {
        "deletable": false,
        "editable": false,
        "id": "GW2QCr-C4ZJ2",
        "colab_type": "text"
      },
      "source": [
        "<h2> Practice by manually editing the code cells: </h2>"
      ]
    },
    {
      "cell_type": "code",
      "metadata": {
        "id": "GB8dCO_e4ZJ2",
        "colab_type": "code",
        "colab": {}
      },
      "source": [
        "#Assign the three variables by following the directions:\n",
        "\n",
        "#set this equal to a integer or float\n",
        "variable1 = \n",
        "\n",
        "#set this equal to another integer or float\n",
        "variable2 = \n",
        "\n",
        "#set this equal to a string\n",
        "variable3 =\n",
        "\n",
        "#set this equal to a string\n",
        "variable4 = \n",
        "\n",
        "#Run Me!"
      ],
      "execution_count": null,
      "outputs": []
    },
    {
      "cell_type": "code",
      "metadata": {
        "id": "5Oka-CHo4ZJ4",
        "colab_type": "code",
        "colab": {}
      },
      "source": [
        "#Add variable1 and variable3 together to equal total1.....Do you think this will work?\n",
        "total1 = \n",
        "print(total1)\n",
        "#Run Me!"
      ],
      "execution_count": null,
      "outputs": []
    },
    {
      "cell_type": "code",
      "metadata": {
        "id": "obVZhwCV4ZJ5",
        "colab_type": "code",
        "colab": {}
      },
      "source": [
        "#Add variable1 and variable2 together to equal total2.....Do you think this will work?\n",
        "total2 = \n",
        "print(total2)\n",
        "#Run Me!"
      ],
      "execution_count": null,
      "outputs": []
    },
    {
      "cell_type": "code",
      "metadata": {
        "id": "7qCcEar64ZJ8",
        "colab_type": "code",
        "colab": {}
      },
      "source": [
        "#Add variable3 and variable4 together to equal total3.....Do you think this will work?\n",
        "total3 = \n",
        "print(total3)\n",
        "#Run Me!"
      ],
      "execution_count": null,
      "outputs": []
    },
    {
      "cell_type": "code",
      "metadata": {
        "id": "KWnuk8uN4ZJ-",
        "colab_type": "code",
        "colab": {}
      },
      "source": [
        "#Find the datatypes of the variable1, variable2, variable3, and variable4 to better explain \n",
        "#why total1 did not work\n",
        "\n",
        "\n",
        "\n",
        "\n",
        "\n",
        "\n",
        "\n",
        "#Run Me!"
      ],
      "execution_count": null,
      "outputs": []
    },
    {
      "cell_type": "markdown",
      "metadata": {
        "deletable": false,
        "editable": false,
        "id": "INa8EYZs4ZKA",
        "colab_type": "text"
      },
      "source": [
        "Remember, you can't add together strings + floats or strings + integers.\n",
        "\n",
        "**You CAN add integers + floats because they are both numerical data types**"
      ]
    },
    {
      "cell_type": "markdown",
      "metadata": {
        "deletable": false,
        "editable": false,
        "id": "2ia17R3_4ZKA",
        "colab_type": "text"
      },
      "source": [
        "<h2><p style=\"text-align: center;\">To Recap:</p></h2>\n",
        "\n",
        "There are different data types in Python. For now, let's just worry about integers, strings, and floats. You can add integers and floats together, but you cannot add a integer and a string, or a float and a string.\n",
        "\n",
        "You can add a string and a string! This just combines the two words/phrases (example is above (total3) and below).\n",
        "\n",
        "**But Zakir, can you convert one type to another?**\n",
        "\n",
        "YES. We'll go over that in Notebook 3!"
      ]
    },
    {
      "cell_type": "markdown",
      "metadata": {
        "deletable": false,
        "editable": false,
        "id": "zPEyPMzx4ZKA",
        "colab_type": "text"
      },
      "source": [
        "______________________________________________________________________________________________________________________"
      ]
    },
    {
      "cell_type": "markdown",
      "metadata": {
        "deletable": false,
        "editable": false,
        "id": "EgwerCJt4ZKB",
        "colab_type": "text"
      },
      "source": [
        "<h1><p style=\"text-align: center;\"> Additional Examples </p></h1>"
      ]
    },
    {
      "cell_type": "markdown",
      "metadata": {
        "deletable": false,
        "editable": false,
        "id": "v2DAvF8t4ZKB",
        "colab_type": "text"
      },
      "source": [
        "Some ideas to get you started:"
      ]
    },
    {
      "cell_type": "code",
      "metadata": {
        "deletable": false,
        "editable": false,
        "id": "uNQxHAmd4ZKC",
        "colab_type": "code",
        "colab": {}
      },
      "source": [
        "#Run Me!\n",
        "#Ex1\n",
        "#Naming Example\n",
        "firstname = 'Zakir'\n",
        "lastname = ' Pasha'\n",
        "wholename = firstname + lastname\n",
        "\n",
        "#Notice the space I put before Pasha inside the quotation mark! This allows wholename to have a space between\n",
        "#my first and last name"
      ],
      "execution_count": null,
      "outputs": []
    },
    {
      "cell_type": "code",
      "metadata": {
        "deletable": false,
        "editable": false,
        "id": "CxMln0DK4ZKE",
        "colab_type": "code",
        "colab": {}
      },
      "source": [
        "#Run Me!\n",
        "print(wholename)\n",
        "\n",
        "#remember, this works because they are the same type! string + string"
      ],
      "execution_count": null,
      "outputs": []
    },
    {
      "cell_type": "code",
      "metadata": {
        "deletable": false,
        "editable": false,
        "id": "0MQpP-wP4ZKJ",
        "colab_type": "code",
        "colab": {}
      },
      "source": [
        "#Run Me!\n",
        "#Ex2\n",
        "#Math\n",
        "price = 99.99\n",
        "discount = 10\n",
        "finalprice = price - discount"
      ],
      "execution_count": null,
      "outputs": []
    },
    {
      "cell_type": "code",
      "metadata": {
        "deletable": false,
        "editable": false,
        "id": "AJVt299d4ZKK",
        "colab_type": "code",
        "colab": {}
      },
      "source": [
        "#Run Me!\n",
        "print(finalprice)"
      ],
      "execution_count": null,
      "outputs": []
    },
    {
      "cell_type": "code",
      "metadata": {
        "deletable": false,
        "editable": false,
        "id": "2ooDKUT14ZKM",
        "colab_type": "code",
        "colab": {}
      },
      "source": [
        "#if you want to be fancy when you print things out, you can add strings to the print function like this:\n",
        "#Run Me!\n",
        "print(\"The final price is\",finalprice)"
      ],
      "execution_count": null,
      "outputs": []
    },
    {
      "cell_type": "code",
      "metadata": {
        "deletable": false,
        "editable": false,
        "id": "cNCLQuCZ4ZKO",
        "colab_type": "code",
        "colab": {}
      },
      "source": [
        "#Run Me!\n",
        "#Ex3\n",
        "#Direct Printing\n",
        "print(\"Hello Iowa!\")\n",
        "print(\"Des Moines\")"
      ],
      "execution_count": null,
      "outputs": []
    },
    {
      "cell_type": "code",
      "metadata": {
        "deletable": false,
        "editable": false,
        "id": "e06PUF-K4ZKR",
        "colab_type": "code",
        "colab": {}
      },
      "source": [
        "#Before running me, think about what this code does! When you have an idea....\n",
        "#Hint: We haven't assigned this variable anything\n",
        "#Run Me!\n",
        "print(police)"
      ],
      "execution_count": null,
      "outputs": []
    },
    {
      "cell_type": "markdown",
      "metadata": {
        "deletable": false,
        "editable": false,
        "id": "fRTC9fFg4ZKS",
        "colab_type": "text"
      },
      "source": [
        "<h3>Wondering why the above didn't work?</h3>\n",
        "\n",
        "The variable, police is not assigned to anything! You're basically telling Python to print something that was never set equal to anything. If you wanted to print just the word police, add some quotes like \"police\" and print."
      ]
    },
    {
      "cell_type": "code",
      "metadata": {
        "deletable": false,
        "editable": false,
        "id": "AJ4rR8nq4ZKT",
        "colab_type": "code",
        "colab": {}
      },
      "source": [
        "#Run Me!\n",
        "print(\"police\")"
      ],
      "execution_count": null,
      "outputs": []
    },
    {
      "cell_type": "code",
      "metadata": {
        "deletable": false,
        "editable": false,
        "id": "KKW2Ixbk4ZKV",
        "colab_type": "code",
        "colab": {}
      },
      "source": [
        "#Run Me!\n",
        "#Ex4\n",
        "#Printing Different Types Together\n",
        "#!!!!! Notice how these are all different data types!\n",
        "pencil = 'pencil'\n",
        "priceofpencil = 2.99\n",
        "phrase = \"The price of a\"\n",
        "something = 3"
      ],
      "execution_count": null,
      "outputs": []
    },
    {
      "cell_type": "code",
      "metadata": {
        "deletable": false,
        "editable": false,
        "id": "tr1upkET4ZKb",
        "colab_type": "code",
        "colab": {}
      },
      "source": [
        "#Run Me!\n",
        "#This will print out a complete sentence\n",
        "print(phrase,pencil,'is',priceofpencil,'or',something,'dollars.')\n",
        "\n",
        "#This will show what data type each variable is in the last code cell!\n",
        "print(type(phrase))\n",
        "print(type(pencil))\n",
        "print(type(priceofpencil))\n",
        "print(type(something))"
      ],
      "execution_count": null,
      "outputs": []
    },
    {
      "cell_type": "markdown",
      "metadata": {
        "deletable": false,
        "editable": false,
        "id": "40DtmCx04ZKd",
        "colab_type": "text"
      },
      "source": [
        "Slow down and take a look at the above example, you can print out variables, and direct strings together to form a complete sentence.\n",
        "\n",
        "Build some of your own stuff like this below!"
      ]
    },
    {
      "cell_type": "markdown",
      "metadata": {
        "deletable": false,
        "editable": false,
        "id": "cRz8TchN4ZKe",
        "colab_type": "text"
      },
      "source": [
        "______________________________________________________________________________________________________________________"
      ]
    },
    {
      "cell_type": "markdown",
      "metadata": {
        "id": "4IIuMvqw4ZKf",
        "colab_type": "text"
      },
      "source": [
        "<h1><p style=\"text-align: center;\"> Practice Your Variables and Data Types Below!</p> </h1>\n",
        "<br>\n",
        "Create your own variables in the cells below and print them out. Or attempt to recreate the examples above! One thing to note is that you don't need to add print on a additional line all the time. You can always do the following:\n",
        "\n",
        "present = 'now'<br>\n",
        "print(present)\n",
        "\n",
        "copy and paste the above into one of the cells below, run the cell and it will print out the word 'now'."
      ]
    },
    {
      "cell_type": "code",
      "metadata": {
        "id": "JbSi2iR14ZKf",
        "colab_type": "code",
        "colab": {}
      },
      "source": [
        ""
      ],
      "execution_count": null,
      "outputs": []
    },
    {
      "cell_type": "code",
      "metadata": {
        "id": "mf5k_Njc4ZKh",
        "colab_type": "code",
        "colab": {}
      },
      "source": [
        ""
      ],
      "execution_count": null,
      "outputs": []
    },
    {
      "cell_type": "code",
      "metadata": {
        "id": "fKE78rEt4ZKi",
        "colab_type": "code",
        "colab": {}
      },
      "source": [
        ""
      ],
      "execution_count": null,
      "outputs": []
    },
    {
      "cell_type": "code",
      "metadata": {
        "id": "wN293Fn64ZKk",
        "colab_type": "code",
        "colab": {}
      },
      "source": [
        ""
      ],
      "execution_count": null,
      "outputs": []
    },
    {
      "cell_type": "code",
      "metadata": {
        "id": "wl3nzdij4ZKl",
        "colab_type": "code",
        "colab": {}
      },
      "source": [
        ""
      ],
      "execution_count": null,
      "outputs": []
    },
    {
      "cell_type": "code",
      "metadata": {
        "id": "7RINeN5U4ZKo",
        "colab_type": "code",
        "colab": {}
      },
      "source": [
        ""
      ],
      "execution_count": null,
      "outputs": []
    },
    {
      "cell_type": "code",
      "metadata": {
        "id": "aiaeMWA74ZKq",
        "colab_type": "code",
        "colab": {}
      },
      "source": [
        ""
      ],
      "execution_count": null,
      "outputs": []
    },
    {
      "cell_type": "code",
      "metadata": {
        "id": "Ugasxahh4ZKr",
        "colab_type": "code",
        "colab": {}
      },
      "source": [
        ""
      ],
      "execution_count": null,
      "outputs": []
    },
    {
      "cell_type": "code",
      "metadata": {
        "id": "uY82PYT44ZKw",
        "colab_type": "code",
        "colab": {}
      },
      "source": [
        ""
      ],
      "execution_count": null,
      "outputs": []
    },
    {
      "cell_type": "code",
      "metadata": {
        "id": "EBgO5Go54ZKw",
        "colab_type": "code",
        "colab": {}
      },
      "source": [
        ""
      ],
      "execution_count": null,
      "outputs": []
    },
    {
      "cell_type": "code",
      "metadata": {
        "id": "A9FpgghL4ZKy",
        "colab_type": "code",
        "colab": {}
      },
      "source": [
        ""
      ],
      "execution_count": null,
      "outputs": []
    },
    {
      "cell_type": "code",
      "metadata": {
        "id": "DGhYOKui4ZKz",
        "colab_type": "code",
        "colab": {}
      },
      "source": [
        ""
      ],
      "execution_count": null,
      "outputs": []
    },
    {
      "cell_type": "code",
      "metadata": {
        "id": "WCvBOKPu4ZK1",
        "colab_type": "code",
        "colab": {}
      },
      "source": [
        ""
      ],
      "execution_count": null,
      "outputs": []
    },
    {
      "cell_type": "code",
      "metadata": {
        "id": "Zz9O18ZG4ZK2",
        "colab_type": "code",
        "colab": {}
      },
      "source": [
        ""
      ],
      "execution_count": null,
      "outputs": []
    },
    {
      "cell_type": "code",
      "metadata": {
        "id": "G039DVgY4ZK3",
        "colab_type": "code",
        "colab": {}
      },
      "source": [
        ""
      ],
      "execution_count": null,
      "outputs": []
    },
    {
      "cell_type": "code",
      "metadata": {
        "id": "zDdeEvEQ4ZK4",
        "colab_type": "code",
        "colab": {}
      },
      "source": [
        ""
      ],
      "execution_count": null,
      "outputs": []
    },
    {
      "cell_type": "markdown",
      "metadata": {
        "deletable": false,
        "editable": false,
        "id": "tzN7Ceup4ZK6",
        "colab_type": "text"
      },
      "source": [
        "<h1><p style=\"text-align: center;\"> Congrats on the start of your coding journey! </p></h1>"
      ]
    },
    {
      "cell_type": "markdown",
      "metadata": {
        "deletable": false,
        "editable": false,
        "id": "dcTnnt2R4ZK6",
        "colab_type": "text"
      },
      "source": [
        "![ChessUrl](https://media.giphy.com/media/12SXVd8bmXdSg0/giphy.gif)"
      ]
    },
    {
      "cell_type": "markdown",
      "metadata": {
        "deletable": false,
        "editable": false,
        "id": "1TEsAT8l4ZK6",
        "colab_type": "text"
      },
      "source": [
        "<h1><p style=\"text-align: center;\"> Thank you for looking over Notebook 1. Send any feedback to zap1295@yahoo.com </p></h1>"
      ]
    },
    {
      "cell_type": "markdown",
      "metadata": {
        "deletable": false,
        "editable": false,
        "id": "t5_k57Ic4ZK7",
        "colab_type": "text"
      },
      "source": [
        "© June 2020 Zakir Pasha"
      ]
    },
    {
      "cell_type": "code",
      "metadata": {
        "id": "Xts0qFId4ZK7",
        "colab_type": "code",
        "colab": {}
      },
      "source": [
        ""
      ],
      "execution_count": null,
      "outputs": []
    }
  ]
}